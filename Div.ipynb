{
 "cells": [
  {
   "cell_type": "markdown",
   "metadata": {},
   "source": [
    "# Prediction of Breast Cancer using SVM with 99% accuracy"
   ]
  },{
 "cells": [
  {
   "cell_type": "code",{{
 "cells": [
  {
   "cell_type": "code",
   "execution_count": 40,
   "metadata": {},
   "outputs": [],
   "source": [
    "from sklearn.datasets import  load_breast_cancer\n",
    "from sklearn.neighbors import KNeighborsClassifier\n",
    "from sklearn.model_selection import train_test_split\n",
    " \n",
    "import matplotlib.pyplot as plt\n",
    "\n",
    "%matplotlib inline\n"
   ]
  },
  {
   "cell_type": "markdown",
   "metadata": {},
   "source": [
    "In this notebook, First I have done some exploration on the data using matplotlib.Then, I use different classifier models to predict the breast cancer."
   ]
  },
  {
   "cell_type": "markdown",
   "metadata": {},
   "source": [
    "1. KNN Classifier"
   ]
  },
  {
   "cell_type": "markdown",
   "metadata": {},
   "source": [
    "2. LogisticRegression."
   ]
  },
  {
   "cell_type": "markdown",
   "metadata": {},
   "source": [
    "3.RandomForestClassifier"
   ]
  },
  {
   "cell_type": "code",
   "execution_count": 41,
   "metadata": {},
   "outputs": [],
   "source": [
    "cancer = load_breast_cancer()\n",
    "#print(cancer.DESCR)"
   ]
  },
  {
   "cell_type": "code",
   "execution_count": 42,
   "metadata": {},
   "outputs": [
    {
     "name": "stdout",
     "output_type": "stream",
     "text": [
      "['mean radius' 'mean texture' 'mean perimeter' 'mean area'\n",
      " 'mean smoothness' 'mean compactness' 'mean concavity'\n",
      " 'mean concave points' 'mean symmetry' 'mean fractal dimension'\n",
      " 'radius error' 'texture error' 'perimeter error' 'area error'\n",
      " 'smoothness error' 'compactness error' 'concavity error'\n",
      " 'concave points error' 'symmetry error' 'fractal dimension error'\n",
      " 'worst radius' 'worst texture' 'worst perimeter' 'worst area'\n",
      " 'worst smoothness' 'worst compactness' 'worst concavity'\n",
      " 'worst concave points' 'worst symmetry' 'worst fractal dimension']\n",
      "['malignant' 'benign']\n"
     ]
    }
   ],
   "source": [
    "print(cancer.feature_names)\n",
    "print(cancer.target_names)\n"
   ]
  },
  {
   "cell_type": "code",
   "execution_count": 43,
   "metadata": {},
   "outputs": [
    {
     "data": {
      "text/plain": [
       "(569, 30)"
      ]
     },
     "execution_count": 43,
     "metadata": {},
     "output_type": "execute_result"
    }
   ],
   "source": [
    "cancer.data.shape\n"
   ]
  },
  {
   "cell_type": "markdown",
   "metadata": {},
   "source": [
    "# Process Outline"
   ]
  },
  {
   "cell_type": "markdown",
   "metadata": {},
   "source": [
    "1.Get the data(Pre process)"
   ]
  },
  {
   "cell_type": "markdown",
   "metadata": {},
   "source": [
    "2.Pick an Algorithm"
   ]
  },
  {
   "cell_type": "markdown",
   "metadata": {},
   "source": [
    "3..Train the Algorithm.Verify the Algorithm"
   ]
  },
  {
   "cell_type": "markdown",
   "metadata": {},
   "source": [
    "4.Predict"
   ]
  },
  {
   "cell_type": "code",
   "execution_count": 44,
   "metadata": {},
   "outputs": [
    {
     "data": {
      "text/html": [
       "<div>\n",
       "<style scoped>\n",
       "    .dataframe tbody tr th:only-of-type {\n",
       "        vertical-align: middle;\n",
       "    }\n",
       "\n",
       "    .dataframe tbody tr th {\n",
       "        vertical-align: top;\n",
       "    }\n",
       "\n",
       "    .dataframe thead th {\n",
       "        text-align: right;\n",
       "    }\n",
       "</style>\n",
       "<table border=\"1\" class=\"dataframe\">\n",
       "  <thead>\n",
       "    <tr style=\"text-align: right;\">\n",
       "      <th></th>\n",
       "      <th>Unnamed: 0</th>\n",
       "      <th>diagnosis</th>\n",
       "      <th>radius_mean</th>\n",
       "      <th>texture_mean</th>\n",
       "      <th>perimeter_mean</th>\n",
       "      <th>area_mean</th>\n",
       "      <th>smoothness_mean</th>\n",
       "      <th>compactness_mean</th>\n",
       "      <th>concavity_mean</th>\n",
       "      <th>concave points_mean</th>\n",
       "      <th>symmetry_mean</th>\n",
       "      <th>fractal_dimension_mean</th>\n",
       "      <th>radius_se</th>\n",
       "      <th>texture_se</th>\n",
       "      <th>perimeter_se</th>\n",
       "      <th>area_se</th>\n",
       "      <th>smoothness_se</th>\n",
       "      <th>compactness_se</th>\n",
       "      <th>concavity_se</th>\n",
       "      <th>concave points_se</th>\n",
       "    </tr>\n",
       "  </thead>\n",
       "  <tbody>\n",
       "    <tr>\n",
       "      <th>560</th>\n",
       "      <td>559</td>\n",
       "      <td>925277</td>\n",
       "      <td>B</td>\n",
       "      <td>14.59</td>\n",
       "      <td>22.68</td>\n",
       "      <td>96.39</td>\n",
       "      <td>657.1</td>\n",
       "      <td>0.08473</td>\n",
       "      <td>0.133</td>\n",
       "      <td>0.1029</td>\n",
       "      <td>0.03736</td>\n",
       "      <td>0.1454</td>\n",
       "      <td>0.06147</td>\n",
       "      <td>0.2254</td>\n",
       "      <td>1.108</td>\n",
       "      <td>2.224</td>\n",
       "      <td>19.54</td>\n",
       "      <td>0.004242</td>\n",
       "      <td>0.04639</td>\n",
       "      <td>0.06578</td>\n",
       "    </tr>\n",
       "    <tr>\n",
       "      <th>561</th>\n",
       "      <td>560</td>\n",
       "      <td>925291</td>\n",
       "      <td>B</td>\n",
       "      <td>11.51</td>\n",
       "      <td>23.93</td>\n",
       "      <td>74.52</td>\n",
       "      <td>403.5</td>\n",
       "      <td>0.09261</td>\n",
       "      <td>0.1021</td>\n",
       "      <td>0.1112</td>\n",
       "      <td>0.04105</td>\n",
       "      <td>0.1388</td>\n",
       "      <td>0.0657</td>\n",
       "      <td>0.2388</td>\n",
       "      <td>2.904</td>\n",
       "      <td>1.936</td>\n",
       "      <td>16.97</td>\n",
       "      <td>0.0082</td>\n",
       "      <td>0.02982</td>\n",
       "      <td>0.05738</td>\n",
       "    </tr>\n",
       "    <tr>\n",
       "      <th>562</th>\n",
       "      <td>561</td>\n",
       "      <td>925292</td>\n",
       "      <td>B</td>\n",
       "      <td>14.05</td>\n",
       "      <td>27.15</td>\n",
       "      <td>91.38</td>\n",
       "      <td>600.4</td>\n",
       "      <td>0.09929</td>\n",
       "      <td>0.1126</td>\n",
       "      <td>0.04462</td>\n",
       "      <td>0.04304</td>\n",
       "      <td>0.1537</td>\n",
       "      <td>0.06171</td>\n",
       "      <td>0.3645</td>\n",
       "      <td>1.492</td>\n",
       "      <td>2.888</td>\n",
       "      <td>29.84</td>\n",
       "      <td>0.007256</td>\n",
       "      <td>0.02678</td>\n",
       "      <td>0.02071</td>\n",
       "    </tr>\n",
       "    <tr>\n",
       "      <th>563</th>\n",
       "      <td>562</td>\n",
       "      <td>925311</td>\n",
       "      <td>B</td>\n",
       "      <td>11.2</td>\n",
       "      <td>29.37</td>\n",
       "      <td>70.67</td>\n",
       "      <td>386</td>\n",
       "      <td>0.07449</td>\n",
       "      <td>0.03558</td>\n",
       "      <td>0</td>\n",
       "      <td>0.00000</td>\n",
       "      <td>0.106</td>\n",
       "      <td>0.05502</td>\n",
       "      <td>0.3141</td>\n",
       "      <td>3.896</td>\n",
       "      <td>2.041</td>\n",
       "      <td>22.81</td>\n",
       "      <td>0.007594</td>\n",
       "      <td>0.008878</td>\n",
       "      <td>0</td>\n",
       "    </tr>\n",
       "    <tr>\n",
       "      <th>564</th>\n",
       "      <td>563</td>\n",
       "      <td>925622</td>\n",
       "      <td>M</td>\n",
       "      <td>15.22</td>\n",
       "      <td>30.62</td>\n",
       "      <td>103.40</td>\n",
       "      <td>716.9</td>\n",
       "      <td>0.1048</td>\n",
       "      <td>0.2087</td>\n",
       "      <td>0.255</td>\n",
       "      <td>0.09429</td>\n",
       "      <td>0.2128</td>\n",
       "      <td>0.07152</td>\n",
       "      <td>0.2602</td>\n",
       "      <td>1.205</td>\n",
       "      <td>2.362</td>\n",
       "      <td>22.65</td>\n",
       "      <td>0.004625</td>\n",
       "      <td>0.04844</td>\n",
       "      <td>0.07359</td>\n",
       "    </tr>\n",
       "    <tr>\n",
       "      <th>565</th>\n",
       "      <td>564</td>\n",
       "      <td>926125</td>\n",
       "      <td>M</td>\n",
       "      <td>20.92</td>\n",
       "      <td>25.09</td>\n",
       "      <td>143.00</td>\n",
       "      <td>1347</td>\n",
       "      <td>0.1099</td>\n",
       "      <td>0.2236</td>\n",
       "      <td>0.3174</td>\n",
       "      <td>0.14740</td>\n",
       "      <td>0.2149</td>\n",
       "      <td>0.06879</td>\n",
       "      <td>0.9622</td>\n",
       "      <td>1.026</td>\n",
       "      <td>8.758</td>\n",
       "      <td>118.8</td>\n",
       "      <td>0.006399</td>\n",
       "      <td>0.0431</td>\n",
       "      <td>0.07845</td>\n",
       "    </tr>\n",
       "    <tr>\n",
       "      <th>566</th>\n",
       "      <td>565</td>\n",
       "      <td>926424</td>\n",
       "      <td>M</td>\n",
       "      <td>21.56</td>\n",
       "      <td>22.39</td>\n",
       "      <td>142.00</td>\n",
       "      <td>1479</td>\n",
       "      <td>0.111</td>\n",
       "      <td>0.1159</td>\n",
       "      <td>0.2439</td>\n",
       "      <td>0.13890</td>\n",
       "      <td>0.1726</td>\n",
       "      <td>0.05623</td>\n",
       "      <td>1.176</td>\n",
       "      <td>1.256</td>\n",
       "      <td>7.673</td>\n",
       "      <td>158.7</td>\n",
       "      <td>0.0103</td>\n",
       "      <td>0.02891</td>\n",
       "      <td>0.05198</td>\n",
       "    </tr>\n",
       "    <tr>\n",
       "      <th>567</th>\n",
       "      <td>566</td>\n",
       "      <td>926682</td>\n",
       "      <td>M</td>\n",
       "      <td>20.13</td>\n",
       "      <td>28.25</td>\n",
       "      <td>131.20</td>\n",
       "      <td>1261</td>\n",
       "      <td>0.0978</td>\n",
       "      <td>0.1034</td>\n",
       "      <td>0.144</td>\n",
       "      <td>0.09791</td>\n",
       "      <td>0.1752</td>\n",
       "      <td>0.05533</td>\n",
       "      <td>0.7655</td>\n",
       "      <td>2.463</td>\n",
       "      <td>5.203</td>\n",
       "      <td>99.04</td>\n",
       "      <td>0.005769</td>\n",
       "      <td>0.02423</td>\n",
       "      <td>0.0395</td>\n",
       "    </tr>\n",
       "    <tr>\n",
       "      <th>568</th>\n",
       "      <td>567</td>\n",
       "      <td>926954</td>\n",
       "      <td>M</td>\n",
       "      <td>16.6</td>\n",
       "      <td>28.08</td>\n",
       "      <td>108.30</td>\n",
       "      <td>858.1</td>\n",
       "      <td>0.08455</td>\n",
       "      <td>0.1023</td>\n",
       "      <td>0.09251</td>\n",
       "      <td>0.05302</td>\n",
       "      <td>0.159</td>\n",
       "      <td>0.05648</td>\n",
       "      <td>0.4564</td>\n",
       "      <td>1.075</td>\n",
       "      <td>3.425</td>\n",
       "      <td>48.55</td>\n",
       "      <td>0.005903</td>\n",
       "      <td>0.03731</td>\n",
       "      <td>0.0473</td>\n",
       "    </tr>\n",
       "    <tr>\n",
       "      <th>569</th>\n",
       "      <td>568</td>\n",
       "      <td>927241</td>\n",
       "      <td>M</td>\n",
       "      <td>20.6</td>\n",
       "      <td>29.33</td>\n",
       "      <td>140.10</td>\n",
       "      <td>1265</td>\n",
       "      <td>0.1178</td>\n",
       "      <td>0.277</td>\n",
       "      <td>0.3514</td>\n",
       "      <td>0.15200</td>\n",
       "      <td>0.2397</td>\n",
       "      <td>0.07016</td>\n",
       "      <td>0.726</td>\n",
       "      <td>1.595</td>\n",
       "      <td>5.772</td>\n",
       "      <td>86.22</td>\n",
       "      <td>0.006522</td>\n",
       "      <td>0.06158</td>\n",
       "      <td>0.07117</td>\n",
       "    </tr>\n",
       "  </tbody>\n",
       "</table>\n",
       "</div>"
      ],
      "text/plain": [
       "    Unnamed: 0 diagnosis radius_mean texture_mean perimeter_mean  area_mean  \\\n",
       "560        559    925277           B        14.59          22.68      96.39   \n",
       "561        560    925291           B        11.51          23.93      74.52   \n",
       "562        561    925292           B        14.05          27.15      91.38   \n",
       "563        562    925311           B         11.2          29.37      70.67   \n",
       "564        563    925622           M        15.22          30.62     103.40   \n",
       "565        564    926125           M        20.92          25.09     143.00   \n",
       "566        565    926424           M        21.56          22.39     142.00   \n",
       "567        566    926682           M        20.13          28.25     131.20   \n",
       "568        567    926954           M         16.6          28.08     108.30   \n",
       "569        568    927241           M         20.6          29.33     140.10   \n",
       "\n",
       "    smoothness_mean compactness_mean concavity_mean concave points_mean  \\\n",
       "560           657.1          0.08473          0.133              0.1029   \n",
       "561           403.5          0.09261         0.1021              0.1112   \n",
       "562           600.4          0.09929         0.1126             0.04462   \n",
       "563             386          0.07449        0.03558                   0   \n",
       "564           716.9           0.1048         0.2087               0.255   \n",
       "565            1347           0.1099         0.2236              0.3174   \n",
       "566            1479            0.111         0.1159              0.2439   \n",
       "567            1261           0.0978         0.1034               0.144   \n",
       "568           858.1          0.08455         0.1023             0.09251   \n",
       "569            1265           0.1178          0.277              0.3514   \n",
       "\n",
       "     symmetry_mean fractal_dimension_mean radius_se texture_se  perimeter_se  \\\n",
       "560        0.03736                 0.1454   0.06147     0.2254         1.108   \n",
       "561        0.04105                 0.1388    0.0657     0.2388         2.904   \n",
       "562        0.04304                 0.1537   0.06171     0.3645         1.492   \n",
       "563        0.00000                  0.106   0.05502     0.3141         3.896   \n",
       "564        0.09429                 0.2128   0.07152     0.2602         1.205   \n",
       "565        0.14740                 0.2149   0.06879     0.9622         1.026   \n",
       "566        0.13890                 0.1726   0.05623      1.176         1.256   \n",
       "567        0.09791                 0.1752   0.05533     0.7655         2.463   \n",
       "568        0.05302                  0.159   0.05648     0.4564         1.075   \n",
       "569        0.15200                 0.2397   0.07016      0.726         1.595   \n",
       "\n",
       "     area_se smoothness_se compactness_se concavity_se concave points_se  \n",
       "560    2.224         19.54       0.004242      0.04639           0.06578  \n",
       "561    1.936         16.97         0.0082      0.02982           0.05738  \n",
       "562    2.888         29.84       0.007256      0.02678           0.02071  \n",
       "563    2.041         22.81       0.007594     0.008878                 0  \n",
       "564    2.362         22.65       0.004625      0.04844           0.07359  \n",
       "565    8.758         118.8       0.006399       0.0431           0.07845  \n",
       "566    7.673         158.7         0.0103      0.02891           0.05198  \n",
       "567    5.203         99.04       0.005769      0.02423            0.0395  \n",
       "568    3.425         48.55       0.005903      0.03731            0.0473  \n",
       "569    5.772         86.22       0.006522      0.06158           0.07117  "
      ]
     },
     "execution_count": 44,
     "metadata": {},
     "output_type": "execute_result"
    }
   ],
   "source": [
    "import pandas as pd\n",
    "data=pd.read_csv(\"BreastCancer.csv\")\n",
    "data.tail(10)\n"
   ]
  },
  {
   "cell_type": "code",
   "execution_count": 2,
   "metadata": {},
   "outputs": [
    {
     "name": "stderr",
     "output_type": "stream",
     "text": [
      "C:\\Users\\divanand\\Anaconda3\\lib\\site-packages\\sklearn\\utils\\deprecation.py:77: DeprecationWarning: Function make_blobs is deprecated; Please import make_blobs directly from scikit-learn\n",
      "  warnings.warn(msg, category=DeprecationWarning)\n"
     ]
    },
    {
     "data": {
      "image/png": "iVBORw0KGgoAAAANSUhEUgAAAXYAAAD8CAYAAABjAo9vAAAABHNCSVQICAgIfAhkiAAAAAlwSFlzAAALEgAACxIB0t1+/AAAADl0RVh0U29mdHdhcmUAbWF0cGxvdGxpYiB2ZXJzaW9uIDIuMi4yLCBodHRwOi8vbWF0cGxvdGxpYi5vcmcvhp/UCwAAIABJREFUeJzt3Xl8jVf+wPHPySJBEEtobE2HjmkTkcRWy6h9aac7SkK1NdVRRZlpqama0ZbS/iyp6nQZKgixlKJSqmjpSBGxFiWohpQIicQSWc7vjyzNcrPe/d7v+/W6L8m953mebx7J9577POd8j9JaI4QQwnG4WDsAIYQQpiWJXQghHIwkdiGEcDCS2IUQwsFIYhdCCAcjiV0IIRyMJHYhhHAwktiFEMLBSGIXQggH42aNgzZo0ED7+flZ49BCCGG3YmNjr2itfcprZ5XE7ufnx/79+61xaCGEsFtKqV8q0k4uxQghhIORxC6EEA5GErsQQjgYSexCCOFgJLELIYSDkcQuhBAORhK7KCExMZH+vR7kt99+s3YoQogqkMQuSpg94y327vmB2TPesnYoQogqkMQuikhMTGTJks/5drgnS5Ysll67EHZIErsoYvaMtxgR6EqwryvPtHaVXrsQdkgSuyiQ31t/rWPu9691RHrtQtghSeyiQH5v3bdW7q+Fby0X6bULYYcksQugZG89n/TahbA/ktgFULK3nk967ULYH0nsotTeej7ptQthXySxi1J76/mk1y4chbNMvrPKQhvCtuz7cQ8/7Etn3g9lt+ty53+WCUgIMyk8+W5O+IfWDsdslNba4gdt166dlhWUhBCWlJiYiH+rFnw71IXeK3M4dvIMd911l7XDqhSlVKzWul157eRSTBmc5WNbZcl5EfbImSbfSWIvg7PXTCktgRs6L5LshS1ztsl3kthLITVTSk/ghs6Ls78JCtvmbJPvJLGXwpk+thlSVgIvfl7kTVDYMmecfCeJ3QBn+9hmSFkJvPh5+dcbrzv1m6Cwbc44+c4ko2KUUueANCAbyCrvrq2tj4qZMPYliFvK3N6//yJM2JaDCnnGoYdI5csfPXDshdw/hsS0HAI+y2bgwMHUOLm2yHkZtTmLFUfu8PNLnkXa2uOIA+F4iv8ul3jdzn5frTEqpofWOqgiB7VlzvixrThD1yOfaqWIjFxecnZqdibDA5TTXLsU9sVZJ9/JBKViyv7YhsNPbMh/Yzv2gmvRF4olcMjt7az5KZNjL3kVafpaRwj4bDGvTZlqF70g4bicdfKdqXrsGtiqlIpVSo0y0T5LZa6hdVIzxfAbW34Cn9rNo2jbH+4wok01p7p2KezL7r1xaK3LfezeG2ftUE3KVIm9i9Y6BBgAjFFKdSveQCk1Sim1Xym1PykpyaiDmWtonbN+bMtX2huboQSemJbDkkN3eK1LNYP7coY3QSFslclLCiil/gWka63fL62NMTdPzTktuGuHYH7Yd7Dcdl3aBzncOzwYvmkM0HXRDX74NbvIc9VcYWSwOwsfrl76/pzohrMQllDRm6dGX2NXStUEXLTWaXlf9wWmG7vf0vw+DM+FZ1ork17zzk/WE8a+xJL/fsKzf33RqZJSha9Htg8C4KN9B/lof2bZbR3s2qUQ9sDoHrtS6g/Aurxv3YBIrfU7ZW1T1R57acPwTNlrd4RCQUIIx2Sx4Y5a6zNa6zZ5D//ykroxLDEt2NlnnAoh7J/dlO0tbaKBKXvtlvhEIIQQVeVwZXstMS149oy3GOYvk22EEKZl6eqndpHYLTG+PP8Yr3cuekpk2J7zkNLDwlwsXf3ULhK7JcaXO2OhIFGUlB4W5mCN6qd2cY3d3OPLHa1QkKg8GQ0lzKXw/BBj53Y41DV2c08LdvYZp0JGQwnzsFYJcLvosZubtWecJiYm8tywIXy+PEp6iVYgo6GEuZi6BLhD9djNLf8TAUCjRo0sXihIru1al7MtmyYsw5olwCWxFzN58mSLHk+WlbMuqb8vzMWaAzIksef55ZdfABg5cqRFjyvXdq1LRkMJc7B2CXBJ7Hnmzp0LQK1atSx2zMTERJZ87txrq1qTtf/4hOOy9oAMuXmaRykFgCXPxxOPPITvb9uKlL51plK31r5pXFqZ4iJtnOj/Q5iOuQZkVPTmaYWGEZr60bZtW20Op0+f1i+9PE7XqddAKxcXXadeA/3Sy+P06dOny90W0BMmTDBLXMVlZ2frVq1aaU839MWJXlpPq13wuDjRS9erXV0nJiZaJBZreuXl0bpudVc9YexLVjl+l/ZBmtzVv8p8dGkfZJX4hCgO2K8rkGMdpsceHR3N4KFheAT0xcO/N251GpKVepmMY9vIOLqVVSuWM2DAAIPbXr9+nTp16vDLL7/QvHlzk8ZV3MGDBwkODqaaK/ytQw3m9y1ZEt8ZeokyIUiIynOq4Y7x8fEMHhqG1yNT8Oo6HPe6vigXV9zr+uLVdThej0xh8NAw4uPjDW7/2WefAZg9qQ8fPpzg4GAAalavzuROhk+/M1zblZvGQpiPQ/TYx4wdT1TcJby6Di+1TfquCIa09WVB+LwSr/n4+HDlyhWzXV+/ePEiTZo0AeD//u//+PXsaae+tisTgoSomor22B0isXvX96HmwJm41/UttU3mtURurJlCSvLlEq8ppRg4cCCrV682WUz5Zs+ezaRJk4DcBO/r62v1ma7WZuim5SvbcnBx0DcyIUzFqRK7i6srzf6+DuXiWmobnZ1FwpynyM7OKvJ8ZmYm1apVY9++fbRrV/7N5oq6ceMGXl5eADz33HMsWrTIZPu2Z5ZYMEUIR+VU19hre9cjK7VkT7ywrOtJ1PKuV+L5L7/8EoC2bduaLJ4vvviiIKkfOnRIknohZU0IGvqnHLnWLoQJOERiDwsNJePYtjLbZBz9hmFhoSWenzlzJvD7OHZjZGdn06pVK5566ilCQkLIzs4mMDDQ6P06ivImBP2zqzufffapQ980FsISHCKxT3xlHBlHt5Jx4bjB1zMuHCfj2DdMGD+2xGsHDhygY8dSMk0l7N+/Hzc3N37++We++uorYmNjcXFxiNNrMhWZjTfMH/763DMWjkwIx1JyELUdatGiBatWLGfw0DAy/fvgEdAHt9o+ZF1P4taRLWT+9C2rViynRYsWRbbLv79gTOEvrTVPP/00q1evxsXFhfT0dKpXr17+hk5o3497+GFfOvN+KLtdDfdviImJ4YEHHrBMYEI4GJPdPFVKuQL7gQta67+U1dZcJQXi4+OZO/8Dli2PJC3lKtrFFXc3N346erhEUgeIiYmhU6dOZGZm4uZW+fe4X3/9tWDse3h4OGPHlvxEICqvYcOGJCUlce7cOe6++25rhyOEzbDGzdPxgOFrIRbSokULFoTPIyX5MtnZWcya8TZ3bt/knnvuMdh+1qxZAFVK6m+//XZBUr906ZIkdRO6dOkSAH5+fqSlpVk5GiHsj0kSu1KqKfAw8Jkp9mcqEydOBOA///mPwdfXr1+Pr2/pY98NSUtLQynF1KlT+dvf/obWmoYNGxodq/idUoqMjAwAateuTXZ2tpUjEsK+mKrHPg94Dcgx0f5MwtXVFVdXV8aMGVNqm8pcX4+KiqJ27doAHDt2jI8++sjoGIVh1apVIzk5Gcj9RGWN+RZC2CujE7tS6i/AZa11bDntRiml9iul9iclJRl72ArbsmULQImP9GfPngXg+eefL3cfWVlZ+Pn5MWTIEDp37kxOTg7333+/6YMVRdSrV4+TJ08C0KpVKytHI4T9MEWPvQvwqFLqHLAS6KmUWla8kdb6E611O611Ox8fHxMctmJ69eoFwLhx44o8n7+wRv5EotLExMTg7u7OL7/8wpYtW/jhhx9MMuZdVMwf//hHtm/fzqlTpxg2bJi1wxHCPlSktm9FH0B3YFN57cxVj700nTp10rk/6u/Iq7VdmpycHP3oo49qQFevXl3fvn3b3GGKMnzyySca0LNmzbJ2KEJYDRWsx+4UM2hWrlwJwM8//1zk+X/84x8G2587dw4XFxc2bNjAf/7zH27evImHh4fZ4xSle+GFFxg/fjyTJk0qKAMhhDDMIYqAVYRSCn9/f44ePUpqaire3t4kJCQUlNPNN3XqVN5++20AkpKSaNCggUXjFGX785//zO7du4mLiyMoKMja4QhhUU5VBKwixo0bx7Fjx9Ba8+mnnwIUSeqpqakopXj77bcZN24cWmtJ6jZo165duLm5ERwcTGJiorXDEcImOU1iz5+MtGLFCqa/+c8iry1fvhxvb28ATpw4wfz58y0en6i4/DHujRs35ubNm1aORgjb4xC1YirC09MTgLCwMAA6duxIZmYmzZs357fffqN79+5s375dRrzYARcXF27dukX16tWpWbMm2dnZUnBNiEKc6q8hIiICr2rQr4Ur2bdSqVatGr/99hvbt29nx44dktTtiKenZ0F5X1fX0hdYEcIZOXxif3RAH5RSKKV45plncFPw6SPVOX3yREGbnj178uiAPlaMUlRFo0aNOHz4MIBJSi8L4SgcPrFPeG0KDerUYMeIGuhptbk2uTbN6rhwbXJt9LTabH+mBg3q1GDipH+WvzNhc1q3bs2mTZvYu3cvL730krXDEcImOHxi79GjB6vWbWLQeth5ruh6pzvOZjH4S1i9/iu6d+9unQCF0R5++GHmzp3LRx99JPV7hMAJEjvkJvfFy6II3VB0zH7YRs3iZVGS1B3AK6+8wnPPPcdLL73E1q1brR2OEFblFIkdICUlhbZNPJj3YxbNFmQx78csQhpXIyUlxdqhCRNZtGgRAQEB9OvXj+PHrbo0gBBW5TSJfdXSRWz/+Tprr7Zi0Yr1rL3aih2n0li9bLG1QxMmlH8z9f777+fKlStWjkYI63CaxF6rdm1mvPse3+3ZT58+fdj5v328M3M2XrVqWTs0YUJKKbKycu+l+Pj4FExmEsKZOE2tGOFc0tPTqZX3pp2TkyNzFIRDkFoxwql5eXnx66+/AhSUixDCWThNSQHhfJo2bcrevXvp0KEDffv2darRMpmZmSQkJHD79m1rhyKqwNPTk6ZNm+Lu7l6l7SWxC4fWvn17Vq1axeDBg5k0aVJBMThHl5CQQK1atfDz85PLUHZGa01ycjIJCQncc889VdqHXIoRDm/QoEH8+9//Zvbs2URERAC5ZZqHDHyC1NRUK0dnHrdv36Z+/fqS1O2QUor69esb9WlLErtwCm+++SZPPfUUI0aMYNeuXWzYsIGotevZuHGjtUMzm4om9fj4eMaMHY93fR9cXF3xru/DmLHjiY+PN3OEojTGviFLYhdOY82aNTRr1oxu3boR8dlC+rVwdfp5DNHR0QS1bU9U3CVqDpxJs7+vo+bAmUTFXSKobXuio6OrtN+UlBQWLlxYpW0feuihcicOvvnmm2zbtq1K+6+Izz//nJdfftks+z579iwdO3bk3nvv5emnn+bOnTsmP4YkduEU8qt85o+U2f9jDJ8+Up2YPT8UVP9USjlVlc/4+HgGDw3D65EpeHUdjntdX5SLK+51ffHqOhyvR6YweGhYlXruZSX27OzsMrfdvHlzuSOZpk+fTu/evSsdly2YNGkSEyZM4NSpU9StW5f//ve/Jj+GJHbhFEqr8nlpgofTVvmcMy8cj4C+eDS5z+DrHk3uw8O/D3Pnf1DpfU+ePJn4+HiCgoJ49dVX2blzJz169CA0NJTWrVsD8Pjjj9O2bVv8/f355JNPCrb18/PjypUrnDt3jvvuu48XXngBf39/+vbty61btwB49tlnWbNmTUH7adOmERISQuvWrTlxIrckd1JSEn369CEkJIQXX3yRu+++2+Bs5K+//pqQkBDatGlDr169Sry+ceNGOnbsSHBwML179+bSpUsAfPfddwQFBREUFERwcDBpaWkkJibSrVs3goKCCAgIYNeuXUX2pbVm+/btDBw4EIARI0awfv36Sp/f8khiF05BqnyWtDwyEg//snu9HgF9WLY8stL7fvfdd2nRogUHDx7kvffeA2Dv3r288847/PTTT0BubZ/Y2Fj2799PeHg4ycnJJfZz6tQpxowZw7Fjx/D29mbt2rUGj9egQQMOHDjA6NGjef/99wH497//Tc+ePTlw4ABPPPEE58+fL7FdUlISL7zwAmvXruXQoUOsXr26RJuuXbsSExNDXFwcQ4YMYfbs2QC8//77fPjhhxw8eJBdu3ZRvXp1IiMj6devHwcPHuTQoUMlFlxPTk7G29sbN7fcAYlNmzblwoULFT2tFSaJXTiN/CqfA1cXHW3w1KqbvPnWu06V1AGup1zFrU7DMtu41fYhLeWqSY7XoUOHIsP3wsPDadOmDQ888AC//vorp06dKrHNPffcU5Ac27Zty7lz5wzu+8knnyzRZvfu3QwZMgSA/v37U7du3RLbxcTE0K1bt4K46tWrV6JNQkIC/fr1o3Xr1rz33nscO3YMgC5dujBx4kTCw8NJSUnBzc2N9u3bs3jxYv71r39x5MiRgtnP+QzN9DfHyCVJ7MKpfPnllwT4KObGZNJsQRZzf8yidSNXxo0bV+Ubhfaqtnc9slIvl9km63oStbxLJruqqFmzZsHXO3fuZNu2bezZs4dDhw4RHBxscHifh4dHwdeurq4FdYBKa1e4TUXKpWity02sY8eO5eWXX+bIkSN8/PHHBXFOnjyZzz77jFu3bvHAAw9w4sQJunXrxvfff0+TJk0YPnx4wfDafA0aNCAlJaUgxoSEBBo3blxunJVldGJXSnkqpfYqpQ4ppY4ppf5tisCEMLUzZ86wMuIz9l7M4Ytrf2LRivV8cbUV+xM1vvVr8dBDD7FgwQJrh2kxYaGhZBwre2RJxtFvGBYWWul916pVi7S0tFJfT01NpW7dutSoUYMTJ04QExNT6WOUp2vXrqxatQqArVu3cu3atRJtOnXqxHfffcfZs2cBuHq15KeT1NRUmjRpAsCSJUsKno+Pj6d169ZMmjSJdu3aceLECX755RcaNmzICy+8wMiRIzlw4ECRfSml6NGjR8H9gSVLlvDYY4+Z5gcuxBQ99gygp9a6DRAE9FdKPWCC/QphMllZWbRo0YIcDTNnvV+iymePHj0ZOXIkY8eOZcyYMdYO1yImvjKOjKNbybhguHZ9xoXjZBz7hgnjx1Z63/Xr16dLly4EBATw6quvlni9f//+ZGVlERgYyNSpU3ngAdOnjGnTprF161ZCQkKIjo7G19e3xKURHx8fPvnkE5588knatGnD008/XWI///rXvxg0aBB//vOfadCgQcHz8+bNIyAggDZt2lC9enUGDBjAzp07C26mrl27lvHjx5fY36xZs5gzZw4tW7YkOTmZkSNHmvxnR2ttsgdQAzgAdCyrXdu2bbUQllSjRg0N6PT09DLbzZkzRwO6c+fOForMPH766acKtdu8ebP2qlNX1+88WDce9alu/o/1uvGoT3X9zoO1V526evPmzWaO1Hxu376tMzMztdZa/+9//9Nt2rSxckSVY+j/ENivK5CLTVIrRinlCsQCLYEPtdY/GmgzChgF0Lx5c1McVogKmTRpEjdv3mTv3r1FrvMaMmHCBFq2bMmjjz6Kh4cHt2/fduhp+QMGDOBg7D7mzv+AZcunkJZylVre9RgWFsqEiH20aNHC2iFW2fnz5xk8eDA5OTlUq1aNTz/91NohWYxJ67ErpbyBdcBYrfXR0tpJPXZhKXv27KFz585MnTqV6dOnV3i7uLg4QkJCgNy6K4Vv4tmD48ePc999hsenC/tg6P/QKvXYtdYpwE6gvyn3K0RVpKen07lzZ+rVq1eppA4QHBxMQkICkFtCVZbZE/bEFKNifPJ66iilqgO9gRPG7lcIY+XfKLt8uewhfaVp0qRJwcgOHx8fTp48abLYhDAnU/TYfYEdSqnDwD7gG631JhPsV4gqe/jhhwE4d+4crq6uVd6Pl5dXwZjjP/3pT+zYscMk8QlhTkYndq31Ya11sNY6UGsdoLWu3GdeIUwsKiqKzZs3ExERwd133230/lxdXcnJyaFly5b07NmTxYsdsyJkYmIi/Xs9yG+//WbtUISRZOapcCgJCQkMGTKEnj17Mnz4cJPtVynFqVOnGDRoEM8//zyTJ0822b5txewZb7F3zw/MnvGW0fuSsr2lW7BgAS1btkQpZbZ7N5LYhcPIycmhWbNmAGb7o1+1ahXTp09n1qxZPPTQQ2Y5hjUkJiayZMnnfDvckyVLFhvda5eyvaXr0qUL27ZtM8mnydJIYhcOI/8PJSUlxaxjz6dOncrKlSuJjo6mUaNGFapJYutmz3iLEYGuBPu68kxrV6N77VK213DZXsgdceXn52fU+S1XRWYxmfohM0+Fqb399tsa0Dt37rTYMffs2aMBDeg7d+5Y7LgVUdGZp1prffHiRV23VnV9caKX1tNq64sTvXS92tV1YmJilY9/9uxZ7e/vX/D9jh07dI0aNfSZM2cKnktOTtZaa33z5k3t7++vr1y5orXW+u6779ZJSUn67Nmz2tXVVcfFxWmttR40aJBeunSp1lrrESNG6NWrVxe0Dw8P11pr/eGHH+qRI0dqrbUeM2aMnjFjhtZa6+joaA3opKSkInFevnxZN23atCCu/JgWL16sx4wZo7XW+urVqzonJ0drrfWnn36qJ06cqLXW+i9/+YvevXu31lrrtLQ0nZmZqd9//3399ttva621zsrK0tevXy/1HOX/nKUxZuap9NiF3YuLi+ONN95g3LhxPPjggxY77gMPPFBQPKpatWp2uzB2fm/dt1ZuOvCt5WKSXntxUrbXciSx2xBZVLjybt26RUhICEop5s+fb/Hj+/n5FVQN9Pb2LjXx2Kr8a+uvdSz6/GsdMcm19sKkbK/lSGK3EeZaVNjR1ahRA4CMjAyrxeDt7V2wIPE999xTogStLQ8jLN5bz2dsr13K9hou22spkthtgDkXFXZkYWFhAJw8eRJ3d3erxuLu7k5OTg4+Pj506tSJqKiogtdMOYzQlErrreczptcuZXtLL9sbHh5O06ZNSUhIIDAwkL/+9a8m/9lNWgSsoqQIWFFjxo4nKu4SXl1LH3edviuCIW19WRA+z4KR2a5NmzbxyCOPsHDhQkaPHm3tcIoYMGAAX3/9NW+99RYjR47Ev1ULvh3qQu+VORw7eYa77rrL7DFUpAjYhLEvQdxS5vYuvX83YVsOKuQZ5oR/aOoQzS4jIwNXV1fc3NzYs2cPo0eP5uDBg9YOq8KMKQImid0GeNf3oebAmbjX9S21Tea1RG6smUJKctXqnjiSy5cv06hRI4KDg632Ubc8kyZNYvbs2dzfqiV9G/zG3N4uFk2SFUnsXTsE88O+8hNdl/ZB7N4bZ6rQLObUqVNFyvYuXLiQ9u3bWzusCjMmsZukHrswzvWUq9Sx4KLC9kxrTaNGjQCIjY21cjSlmzVrFnfddRdTXpvIaw97AbmXNgI+W8xrU6ZapNdeHntM1pVx7733Ehfn2D9jaeQauw2w9KLC9iwgIADInXxi6wtgnD9zilHta5h9GKEQxUlitwHmXFTYkXzwwQf89NNPREdHF7mJZYvyb0xO7lT0T8wcwwiFKE4Suw0w56LCjuL48eOMGzeOZ599lv79bX8dF3MNIxSiIiSx24AWLVqwasVy0jfOIH1XBJnXEtHZWWReSyR9VwTpG2ewasVyu15/0hh37tzh/vvvB7CLkrnmHEZoTqmpqTwxcLDdzqAVv5PEbiPyFxUe0taXG2umkDDnKW6smcKQtr4cjN3HgAEDrB2i1eTPKswvAGXrSuut57PVXvuGDRtYv3Y1GzduNHpfxpTthdwx4jdv3jQ6joro3r07hkbpnT17lo4dO3Lvvffy9NNPF0xCswsVKShj6ocUARMVNXr0aA3oQ4cOWTuUCuvSPqigOFhZjy7tg8wWQ2WKgOXr0XeA9rwnRPfq95DRxy9eBKyyyiuQVZ7MzMwKt33wwQf1vn37Sjw/aNAgvWLFCq211i+++KJeuHBhleOpCikCJhzS9u3b+eijj3j33XcJDAy0djgVtntvXIU6ONYebthnwMMopQoee2JiqN9/LD/s2VPk+T4DHq70vouX7QV47733aN++PYGBgUybNg2AGzdu8PDDD9OmTRsCAgKIiooiPDycixcv0qNHD3r06FFi335+fkyaNIkOHTrQoUMHTp8+DeSW8p04cSI9evRg0qRJ3Lhxg+eff5727dsTHBzMl19+CeR+8hsyZAiBgYE8/fTTBj8Jaq3Zvn07AwcOBGDEiBGsX7++0ufBWmQcu7BJ165do1evXgV/xML0prz2D/bs2YPXQ6/i2fz3N85Go5cCcPuXw6RHv8c/J5UsCVCed999l6NHjxbM9Ny6dSunTp1i7969aK159NFH+f7770lKSqJx48Z89dVXQO51/jp16jBnzhx27NhR6uin2rVrs3fvXiIiInjllVfYtCl3meWff/6Zbdu24erqypQpU+jZsyeLFi0iJSWFDh060Lt3bz7++GNq1KjB4cOHOXz4MCEhISX2n5ycjLe3N25uuSmyadOmXLhwodLnwVqkxy5sjta6oHyq1Mcxnx49erBx3VrSN7/H7fOHi7yWn9Q3rf+C7t27G32srVu3snXrVoKDgwkJCeHEiROcOnWK1q1bs23bNiZNmsSuXbuoU6dOhfY3dOjQgn/37NlT8PygQYMKFi/funUr7777LkFBQXTv3p3bt29z/vx5vv/+e4YNGwZAYGCgwU+D2sCMfFufN1GY9NiFzenWrRsAFy9exMVF+h7m1KNHD1Yui+Dp4c/h+eLnBc+nfT2HqGURJknqkJsoX3/9dV588cUSr8XGxrJ582Zef/11+vbty5tvvlnu/gon2cJfFy4NrLVm7dq1tGrVqsztDWnQoAEpKSlkZWXh5uZGQkICjRs3LjcuWyF/NcKmLF68mN27d7NmzRp8fUuvnSNMJyUlhRqN7+VG7Jdc+XQkN2K/pIZvy3IXlC5L8bK9/fr1Y9GiRaSnpwNw4cIFLl++zMWLF6lRowbDhg3jH//4R0Htn/LK/uZXz4yKiqJTp04G2/Tr148PPvigoPedX16gW7duLF++HICjR49y+PDhEtsqpeiNLrIkAAAXMklEQVTRo0fB8ntLlizhscceq9Q5sCajE7tSqplSaodS6rhS6phSqmSdSiGKMbSoyPARz/H888/z+OOP89RTT1k7RKexaGkk107H0fz6UdatXErz60e5Fn+Qz5etqPI+i5ft7du3L6GhoXTq1InWrVszcOBA0tLSOHLkCB06dCAoKIh33nmHN954A4BRo0YxYMAAgzdPIbdyY8eOHZk/fz5z58412Gbq1KlkZmYSGBhIQEAAU6dOBWD06NGkp6cTGBjI7Nmz6dChg8HtZ82axZw5c2jZsiXJycmMHDmyyufD0oyu7qiU8gV8tdYHlFK1gFjgca31T6VtI9UdnVt0dDSDh4bhEdAXD//euNVpSFbqZdLiNpMet5mvNqxz6nH7plCR6o75nhj0NH/u3IlXxo/DxcWF7Oxs5s0PZ/eeGNatjip/Bxbm5+fH/v37bb6shLGsWt1Ra50IJOZ9naaUOg40AUpN7MJ5FV5UxKPJ77+07nV9qddzJDVbdWbw0DAOxu5z2pm2llY8ebu6uvL3iRP4u5XiEcYz6TV2pZQfEAz8aOC1UUqp/Uqp/UlJSaY8rLAjc+aF5/bUmxjuTXo0uQ8P/z7Mnf+BhSMT9uLcuXMO31s3lskSu1LKC1gLvKK1vl78da31J1rrdlrrdj4+PqY6rLAzyyMj8fDvXWYbj4A+LFseaaGIhHA8JknsSil3cpP6cq31F6bYp3BM11Ou4iaLighhVqYYFaOA/wLHtdZzjA9JODJZVEQI8zNFj70LMBzoqZQ6mPd4yAT7FQ5IFhWxXampqQwZ+ISU7XUARid2rfVurbXSWgdqrYPyHptNEZxwPLKoiO3asGEDUWvXS9nePAsWLKBly5Yopbhy5YpFYjEVmXkqLEoWFbFdq5ctpl8LV1YvM34xE2sn9qysrCpvm69Lly5s27aNu+++2+h9WZokdgMMzYocM3a8FKQyEVlUxDY8OqBPkfK8P8b8j08fqU7Mnh+KPP/ogD6V3re9l+0FCA4Oxs/Pr9I/uy2QImDFFJ4VWXPgTOrkzYqMittGRNv2rFqxXBKPCbRo0YIF4fNYED7P2qE4rQmvTWHPnv+x+nHo7vd7Krg0wQPwYMfZLAZ/CRMn/bPS+7b3sr32TnrshRSeFenVdTjudX1RLq641/XFq+twvB6ZwuChYdJzFw6hR48erFq3iUHrYee5opcu8pP66vVfOWXZXnsnib0Qa8yKlMs+wpp69OjB4mVRhG4oWjMqbKNm8bIok5ftPXjwIAcPHuT06dOMHDmSP/7xj8TGxtK6dWtef/11pk+fXqH9VaZsb/4xz58/X1B7xZ5qq1eFJPZCLD0rMjo6mqC27YmKu0TNgTNp9vd11Bw4k6i4SwS1bU90dLRJjiNEWVJSUmjbxIN5P2bRbEEW837MIqRxNacu22vvJLEXYslZkfmXfTy7j+JOxm1+W/Yq599/gt+WvcqdjNt4dh8ll32ERaxauojtP19n7dVWLFqxnrVXW7HjVJpRo2McoWxveHg4TZs2JSEhgcDAQP76179W+XxYmtFle6vCVsv2etf3oebAmbjXLX2Bh8xridxYM4WU5LJnT5ZnzNjxLN1+kBtnD+LVph9egX0LytemH95K+qEt1PRrwzO9Q+QGo6i0ypTtDRv0OB06d2Ps+FcKyvZ+MH8e+/bsYvlq21vAWcr2ll+2VxJ7IWPGjicq7hJeXYeX2iZ9VwRD2voanWxredfjZkYWDQe+afCafsaF41xeM50aHu6kpSQbdSzhfCqT2O2NJPbyE7tciinEkrMi09PT8QrqX+aNWq82/biRXvp1RiGckZTtLZ+MYy8kf1bk4KFhZPr3wSOgD261fci6nkTG0W/IOPaNyWZFKhcXvAL7ltnGq00/0g4YP71bCJHr9u3bXLp8matXr5KdlYWrmxv16tWjUcOGeHp6Wjs8k5HEXkz+rMi58z9g2fIppKVcpZZ3PYaFhTIhwnSr+uisOxW6UUtWpkmOJ5yP1trhh/VVRmpqKvFnzuBSvTYudZvg6uqOzs7k2s3rJB8/Tos//KHC4+jNzdhL5E5xKaayY8XzZ0WmJF8mOzuLlOTLLAifZ9L6JbXq1K1Q+VqvOnVNdkzhPDw9PUlOTjY6QTiK27dvE3/mDK51fHHxqo9ydQdAubrj4lUf1zq+xJ85w+3bt60caW5ST05ONuoThMP32G21RMDwYcNYGbsV924jSm1z68gWnhk+zIJRCUeRP0xPlqHMdfXqVW7cyUbdKv2NTmekExsbS7161l8LwNPTk6ZNm1Z5e4ceFRMfH09Q2/YlFk7Ol3HhOOkbZ1hl4WRbjk0IR2PJoczmJKNisO2Fk6V8rRCW42xLMjp0Yrf1hZOlfK0QluFsSzI6dGK3h3dpS9yoFcLZhYWGcvPw12W2caQlGR06sTvbu7QQwrBffzlL6v5NTrMko0Mndlk4WQjRvXt3Nm7cyLgxf3Oae1oOndhl4WQhnNu9997Ld999x7p165g3b57T3NNy6OGOUGgcexklAhzpP1SYXnx8PHPmhbM8MpLrKVep7V2PsNBQJr4yzmF6eI5Ga42npyd37txh586dPPjgg9YOySQsOtxRKbVIKXVZKXXUFPszJRl5Iowhi6HYn5ycHFxcXLhz5w4HDhxwmKReGSbpsSulugHpQITWOqC89rZatleIwmQSmf25c+cOHh4eAJw6dYqWLVtaOSLTsmiPXWv9PeAYI/uFyGPLE9xESTdu3ChI6hcvXnS4pF4ZDn3zVAhj2PoEN/G75ORkvLy8gNy6ML6+pZcOcAYWS+xKqVFKqf1Kqf1SmEjYg4pOcEu9eoURI0awZcsWsrKyLBSdyJeQkFCw8MaNGzeoW1cqolossWutP9Fat9Nat/Px8bHUYYWosopOcFNu7kRERNC/f3/c3d1RSqGU4g9/+ANvvPEGP/30k5TPNZOTJ0/SrFkzIPf6eo0aNawckW2QSzFClKKiE9xeGj0arTVaa86dO8esWbNo06YNZ8+e5Z133sHf3x8XF5eChP/ggw/y8ccfk5wsa9kaY9++ffzpT38CIDs7G3d3dytHZDtMNSpmBdAdaABcAqZprf9bWnsZFSPsgalGxeTk5BATE0NkZCSRkZFcu3atRBulFKGhoYSFhdG7d29JUuXYtm0bffr0oXbt2qSkpDjNSlEVHRXj8BOUhDCGOSe43bhxg02bNhEZGcmGDRsMtmnevDlhYWEMHTqUgIAAp0lgZVm9ejWDBw/G39+fo0dtbuqMWVU0sRd8hLTko23btloIe3H69Gk9Zux4Xaeej3ZxcdV16vnoMWPH69OnT5vleOfPn9fvvfeeDg4O1oDBR9euXfXChQt1UlKSWWKwVR999JEGdN++fa0dilUA+3UFcqz02IWwAzk5Oezbt4/IyEiWL19e6vX5oUOHEhoaSt++falWrZqFozSv6dOnM23aNEaMGMHnn39u7XCsQi7FCOEEbt68yebNm4mMjGTdunUG2zRt2pTQ0FBCQ0MJDAy0y8s5Y8aMYeHChUyePJmZM2daOxyrkcQuhBO7cOECUVFRREZGEhsba7BNp06dCAsLY9CgQTRsWPZ4fWt68sknWbduHXPmzGHChAnWDseqJLELIYrQWrN///6C0TmXLxseoz948GDCwsLo169fwRR9a+nYsSN79+4lIiKC4cOHWzUWWyCJXQhRIbdu3SI6OprIyEjWrl1rsE3jxo0LLucEBQWZ/HJOamoqz458gc//+yl16tRBa03Tpk25ePEimzZt4uGHHzbp8eyVJHYhhFESExNZtWoVkZGR7N2712Cbjh07EhoayuDBg7nrrruqfKylS5fyzDPPsHTpUsLCwnBxyZ07uXv3brp06VLl/ToaSexCCJPTWnPgwAFWrFhBZGQkiYmJBtsNHDiQ0NBQBgwYgKenZ7n77dnvIfacukTnexuxfWtujfvDhw/TunVrk8Zv7ySxCyEs5vbt22zZsoXIyEhWrVplsE2jRo0KZtdOfuNNtn29ueA1z9p1qR82h4uLXkZn3Ch4vnf/h/gm+iuzx28vJLELIazu0qVLrF69muXLlxMTE1PkNeXmQcNB0/BsHlhiu9u/HCY9+j02rf+C7t27Wyha22fRhTaEEMKQRo0a8fLLL7Nnz56CWZE5OTnExcUx+KnHSVozndvnDxfZRpK68SSxCyEsSilFUFAQK1eu5MsvVpOy6b0ir6d9PYeVyyIkqRvBzdoBCCGc15UrV8C7Cdf3ruPOoU1UD3mUGr4tSUlJsXZodk167EIIqxk38VXuJP6MX/ox1q1cSvPrR7kWf5DPl62wdmh2TRK7EMIqjhw5QnpaGqFDnmZ/zA/06dOHvf/bxayZM6hVy8va4dk1GRUjhLCK/Nmr1shB9kpGxQghbNa0adMASp3gJIwjiV0IYVHp6elMnz6dYcOGGVWGQJROErsQwqKaNGkCQEREhJUjcVyS2IUQFrNjxw6uX7/Otm3b7HLBD3shiV0IYRFaa3r27EnNmjXp1auXtcNxaJLYhRAW8eyzzwJyw9QSTJLYlVL9lVInlVKnlVKTTbFPIYTjuHTpEhEREbzxxhvUqlXL2uE4PKPHsSulXIGfgT5AArAPGKq1/qm0bWQcuxDORcasm4Ylx7F3AE5rrc9ore8AK4HHTLBfIYQDWLlyJQCHDh2yciTOwxSJvQnwa6HvE/KeE0I4uezsbIYOHUpAQACBgSXrrgvzMEViNzRmqcTnLaXUKKXUfqXU/qSkJBMcVghhS+Lj4xkzdjze9X1wcXXFu74Pzf3uASA2NtbK0TkXUyT2BKBZoe+bAheLN9Jaf6K1bqe1bufj42OCwwpnYyhxjBk7nvj4eGuH5vSio6MJatueqLhL1Bw4k2Z/X0fNgTNJ822HR81afPvtt9YO0amY4uapG7k3T3sBF8i9eRqqtT5W2jZy81RUVnR0NIOHhuER0BcP/9641WlIVuplMo5tI+PoVlatWM6AAQOsHaZTio+PJ6hte7wemYJHk/tKvJ5x4TjpG2dwMHYfLVq0sEKEjsNiN0+11lnAy8AW4DiwqqykLgRUrvcdHx/P4KFheD0yBa+uw3Gv64tyccW9ri9eXYfj9cgUBg8Nk567lcyZF577hmsgqQN4NLkPD/8+zJ3/gYUjc14mGceutd6stf6j1rqF1vodU+xTOK7SPrZHxV0iqG17oqOji7SXxGHblkdG4uHfu8w2HgF9WLY80kIRCZl5KiyqKr1vSRy27XrKVdzqNCyzjVttH9JSrlooIiGJXVhUVXrfkjhsW23vemSlXi6zTdb1JGp517NQREISu7CoqvS+JXHYtrDQUDKObSuzTcbRbxgWFmqhiIQkdmFRVel9S+KwbRNfGUfG0a1kXDhu8PWMC8fJOPYNE8aPtXBkzksSu7CoqvS+JXHYthYtWrBqxXLSN84gfVcEmdcS0dlZZF5LJH1XBOkbZ7BqxXIZ6mhBktiFRVWl9y2Jw/YNGDCAg7H7GNLWlxtrppAw5ylurJnCkLa+HIzdJ3MMLMzoCUpVIROUnJcxk1ni4+OZO/8Dli2PJC3lKrW86zEsLJQJ48dKUhdOoaITlCSxC4srmEXq3wePgD641fYh63oSGUe/IePYNzKLVIhSWLJsrxCVIh/bhTAv6bELIYSdkB67E5Gqh0KIwiSx27nK1l0RQjg+N2sHIKqucN2VwiNM3Ov64t51OO73tGPw0DAplyqEk5Eeux2TqodCCEMksdsxqXoohDBEErsdk6qHQghDJLHbMal6KIQwRBK7HZOqh0IIQySx2zGpeiiEMESGO9qx/KqHg4eGkVlG3RUZ6iiEc5Eeu52TuitCiOKkVowQQtgJqRUjhBBOyqjErpQapJQ6ppTKUUqV+y4ihBDC/IztsR8FngS+N0EsQgghTMCoUTFa6+MASinTRCOEEMJoFrvGrpQapZTar5Tan5SUZKnDCiGE0ym3x66U2gbcZeClf2qtv6zogbTWnwCfQO6omApHKIQQolLKTexa67LLB1ZBbGzsFaXUL0bupgFwxRTxmJjEVXm2GpvEVXm2GpujxHV3RRpZZeap1trH2H0opfZXZDynpUlclWersUlclWersTlbXMYOd3xCKZUAdAK+UkptMU1YQgghqsrYUTHrgHUmikUIIYQJ2PPM00+sHUApJK7Ks9XYJK7Ks9XYnCouq9SKEUIIYT723GMXQghhgM0ndqXUhLx6NEeVUiuUUp7FXvdQSkUppU4rpX5USvnZSFzPKqWSlFIH8x5/tVBc4/NiOqaUesXA60opFZ53vg4rpUJsJK7uSqnUQufrTTPGskgpdVkpdbTQc/WUUt8opU7l/Vu3lG1H5LU5pZQaYUNxZRc6dxtMGVcZsVWoVpRSqr9S6mTe79xkG4rrnFLqSN45M2m52VLiek8pdSLv726dUsq7lG2NP19aa5t9AE2As0D1vO9XAc8Wa/MS8J+8r4cAUTYS17PAAgufrwBy6/fUIPfG+Dbg3mJtHgKiAQU8APxoI3F1BzZZ6Dx1A0KAo4Wemw1Mzvt6MjDLwHb1gDN5/9bN+7qutePKey3dCufsPqAVsBNoV8p2rkA88AegGnAIuN/aceW1Owc0sOD56gu45X09q5TfMZOcL5vvsZObCKorpdzITQwXi73+GLAk7+s1QC9lmeI15cVlDfcBMVrrm1rrLOA74IlibR4DInSuGMBbKeVrA3FZjNb6e+BqsacL/x4tAR43sGk/4But9VWt9TXgG6C/DcRldoZi01of11qfLGfTDsBprfUZrfUdYCW5P5O14zKrUuLamvf7DxADNDWwqUnOl00ndq31BeB94DyQCKRqrbcWa9YE+DWvfRaQCtS3gbgAnsr72LVGKdXMnDHlOQp0U0rVV0rVILd3Xvy4BecrT0Lec9aOC6CTUuqQUipaKeVv5piKa6S1TgTI+7ehgTbWOHcViQvAU+XWYopRSlkl+ZfCGuesojSwVSkVq5QaZeFjP0/uJ+fiTHK+bDqx511PfAy4B2gM1FRKDSvezMCmZh3qU8G4NgJ+WutAci89LMHMdG61zVnk9iS/JvdjXFaxZhY/XxWM6wBwt9a6DfABsN6cMVWRxc9dJTTXuTMYQ4F5SilbWejWls9ZF611CDAAGKOU6maJgyql/knu7/9yQy8beK7S58umEzvQGzirtU7SWmcCXwCdi7VJIK/3l3dZpA4lP85aPC6tdbLWOiPv20+BtmaOKf+4/9Vah2itu5F7Hk4Va1JwvvI0xQKXkcqLS2t9XWudnvf1ZsBdKdXA3HEVcin/klTev5cNtLHGuatIXGitL+b9e4bca8vBZo6roqzy+1YRhc7ZZXInWnYw9zHzbrj/BQjTeRfVizHJ+bL1xH4eeEApVSPvunkv4HixNhuA/NEJA4HtpZwwi8ZV7Lr1o8VfNxelVMO8f5uTuwjKimJNNgDP5I2OeYDcy0iJ1o5LKXVX/r0RpVQHcn83k80dVyGFf49GAIYql24B+iql6uZ9auub95xV48qLxyPv6wZAF+AnM8dVUfuAe5VS9yilqpE7wMHko3YqSylVUylVK/9rcv8vj5a9ldHH7A9MAh7VWt8spZlpzpc57gib+O7yv4ET5J70pYAHMD3v5AB4AquB08Be4A82EtdM4Bi5lx12AH+yUFy7yP2jPgT0ynvub8Df8r5WwIfk3nk/QhmjBiwc18uFzlcM0NmMsawg995IJrk9pJHk3pf5ltxPEt8C9fLatgM+K7Tt83m/a6eB52whLnI/LR7JO3dHgJEWOmdP5H2dAVwCtuS1bQxsLrTtQ8DPeb9z/7SFuMgddXIo73HMQnGdJvf6+cG8x3+Kx2Wq8yUzT4UQwsHY+qUYIYQQlSSJXQghHIwkdiGEcDCS2IUQwsFIYhdCCAcjiV0IIRyMJHYhhHAwktiFEMLB/D86Zi6GV2ScPgAAAABJRU5ErkJggg==\n",
      "text/plain": [
       "<Figure size 432x288 with 1 Axes>"
      ]
     },
     "metadata": {},
     "output_type": "display_data"
    }
   ],
   "source": [
    "#KNN Classifier \n",
    "import mglearn \n",
    "mglearn.plots.plot_knn_classification(n_neighbors=3)"
   ]
  },
  {
   "cell_type": "code",
   "execution_count": 5,
   "metadata": {},
   "outputs": [
    {
     "data": {
      "text/plain": [
       "KNeighborsClassifier(algorithm='auto', leaf_size=30, metric='minkowski',\n",
       "           metric_params=None, n_jobs=1, n_neighbors=5, p=2,\n",
       "           weights='uniform')"
      ]
     },
     "execution_count": 5,
     "metadata": {},
     "output_type": "execute_result"
    }
   ],
   "source": [
    "from sklearn.datasets import load_breast_cancer\n",
    "from sklearn.neighbors import KNeighborsClassifier\n",
    "from sklearn.model_selection import train_test_split\n",
    "\n",
    "import matplotlib.pyplot as plt\n",
    "%matplotlib inline\n",
    "\n",
    "cancer=load_breast_cancer()\n",
    "#First we create a training set and a testing set\n",
    "X_train, X_test, y_train, y_test = train_test_split(cancer.data, cancer.target, stratify=cancer.target,random_state=42)\n",
    "#Second we instantiate a k-NN class and fit with our training set.\n",
    "knn = KNeighborsClassifier()\n",
    "knn.fit(X_train,y_train)"
   ]
  },
  {
   "cell_type": "code",
   "execution_count": 49,
   "metadata": {},
   "outputs": [
    {
     "name": "stdout",
     "output_type": "stream",
     "text": [
      "Accuracy of KNN n-5, on the training set:0.946\n",
      "Accuracy of KNN n-5, on the test set:0.930\n"
     ]
    }
   ],
   "source": [
    "#we evaluate the accuracy of the model by comparing the predictions \n",
    "print(\"Accuracy of KNN n-5, on the training set:{:.3f}\".format(knn.score(X_train,y_train)))\n",
    "print(\"Accuracy of KNN n-5, on the test set:{:.3f}\".format(knn.score(X_test,y_test)))\n"
   ]
  },
  {
   "cell_type": "code",
   "execution_count": 22,
   "metadata": {},
   "outputs": [
    {
     "data": {
      "text/plain": [
       "<matplotlib.legend.Legend at 0x2804193c048>"
      ]
     },
     "execution_count": 22,
     "metadata": {},
     "output_type": "execute_result"
    },
    {
     "data": {
      "image/png": "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\n",
      "text/plain": [
       "<Figure size 432x288 with 1 Axes>"
      ]
     },
     "metadata": {},
     "output_type": "display_data"
    }
   ],
   "source": [
    "X_train,X_test,y_train,y_test=train_test_split(cancer.data, cancer.target, stratify=cancer.target, random_state=66)\n",
    "\n",
    "training_accuracy=[]\n",
    "test_accuracy=[]\n",
    "\n",
    "neighbors_settings=range(1,11)\n",
    "\n",
    "for n_neighbors in neighbors_settings:\n",
    "    clf=KNeighborsClassifier(n_neighbors=n_neighbors)\n",
    "    clf.fit(X_train,y_train)\n",
    "    training_accuracy.append(clf.score(X_train,y_train))\n",
    "    test_accuracy.append(clf.score(X_test,y_test))\n",
    "    \n",
    "plt.plot(neighbors_settings, training_accuracy, label=\"Accuracy of the Training Set\")\n",
    "plt.plot(neighbors_settings,test_accuracy, label=\"Accuracy of the test set\")\n",
    "plt.ylabel(\"Accuracy \")\n",
    "plt.xlabel(\"Number of Neighbors\")\n",
    "plt.legend()\n"
   ]
  },
  {
   "cell_type": "code",
   "execution_count": 4,
   "metadata": {},
   "outputs": [
    {
     "data": {
      "text/plain": [
       "LogisticRegression(C=1.0, class_weight=None, dual=False, fit_intercept=True,\n",
       "          intercept_scaling=1, max_iter=100, multi_class='ovr', n_jobs=1,\n",
       "          penalty='l2', random_state=None, solver='liblinear', tol=0.0001,\n",
       "          verbose=0, warm_start=False)"
      ]
     },
     "execution_count": 4,
     "metadata": {},
     "output_type": "execute_result"
    }
   ],
   "source": [
    "#Using LogisticRegression on the cancer dataset.\n",
    "from sklearn.datasets import load_breast_cancer\n",
    "from sklearn.linear_model import LogisticRegression\n",
    "from sklearn.model_selection import train_test_split\n",
    "\n",
    "import matplotlib.pyplot as plt\n",
    "%matplotlib inline\n",
    "\n",
    "cancer= load_breast_cancer()\n",
    "\n",
    "X_train,X_test,y_train,y_test=train_test_split(cancer.data, cancer.target, stratify=cancer.target, random_state=42)\n",
    "\n",
    "log_reg = LogisticRegression()\n",
    "log_reg.fit(X_train,y_train)\n"
   ]
  },
  {
   "cell_type": "code",
   "execution_count": 5,
   "metadata": {},
   "outputs": [
    {
     "name": "stdout",
     "output_type": "stream",
     "text": [
      "Accuracy on the training subset:0.955399 \n",
      "Accuracy on the test subset:0.958042\n"
     ]
    }
   ],
   "source": [
    "print(\"Accuracy on the training subset:{:3f} \".format(log_reg.score(X_train,y_train)))\n",
    "print(\"Accuracy on the test subset:{:3f}\".format(log_reg.score(X_test,y_test)))\n"
   ]
  },
  {
   "cell_type": "code",
   "execution_count": 55,
   "metadata": {},
   "outputs": [
    {
     "name": "stdout",
     "output_type": "stream",
     "text": [
      "Accuracy on the training subset:0.971831\n",
      "Accuracy on the test subset:0.965035\n"
     ]
    }
   ],
   "source": [
    "log_reg100=LogisticRegression(C=100)\n",
    "log_reg100.fit(X_train,y_train)\n",
    "print(\"Accuracy on the training subset:{:3f}\".format(log_reg100.score(X_train,y_train)))\n",
    "print(\"Accuracy on the test subset:{:3f}\".format(log_reg100.score(X_test,y_test)))\n"
   ]
  },
  {
   "cell_type": "code",
   "execution_count": 56,
   "metadata": {},
   "outputs": [
    {
     "name": "stdout",
     "output_type": "stream",
     "text": [
      "Accuracy on the training subset:0.936620\n",
      "Accuracy on the test subnet:0.930070\n"
     ]
    }
   ],
   "source": [
    "log_reg001=LogisticRegression(C=0.01)\n",
    "log_reg001.fit(X_test,y_test)\n",
    "print(\"Accuracy on the training subset:{:3f}\".format(log_reg001.score(X_train,y_train)))\n",
    "print(\"Accuracy on the test subnet:{:3f}\".format(log_reg001.score(X_test,y_test)))\n",
    "\n"
   ]
  },
  {
   "cell_type": "markdown",
   "metadata": {},
   "source": [
    "# For Logistic Regression:"
   ]
  },
  {
   "cell_type": "markdown",
   "metadata": {},
   "source": [
    "y=w[0]*x[0]+w[1]*x[1]+.....+w[p]*x[p]+b>0"
   ]
  },
  {
   "cell_type": "code",
   "execution_count": 27,
   "metadata": {},
   "outputs": [
    {
     "name": "stdout",
     "output_type": "stream",
     "text": [
      "w[0]: 0.393906  b: -0.031804\n"
     ]
    },
    {
     "data": {
      "image/png": "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\n",
      "text/plain": [
       "<Figure size 576x576 with 1 Axes>"
      ]
     },
     "metadata": {},
     "output_type": "display_data"
    }
   ],
   "source": [
    "import mglearn \n",
    "mglearn.plots.plot_linear_regression_wave()\n"
   ]
  },
  {
   "cell_type": "code",
   "execution_count": 60,
   "metadata": {},
   "outputs": [
    {
     "data": {
      "text/plain": [
       "<matplotlib.legend.Legend at 0x28041f3f8d0>"
      ]
     },
     "execution_count": 60,
     "metadata": {},
     "output_type": "execute_result"
    },
    {
     "data": {
      "image/png": "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\n",
      "text/plain": [
       "<Figure size 432x288 with 1 Axes>"
      ]
     },
     "metadata": {},
     "output_type": "display_data"
    }
   ],
   "source": [
    "\n",
    "plt.plot(log_reg.coef_.T,\"o\",label=\"C=1\")\n",
    "plt.plot(log_reg100.coef_.T,\"^\",label=\"C=100\")\n",
    "plt.plot(log_reg001.coef_.T,\"v\",label=\"C=0.01\")\n",
    "plt.xticks(range(cancer.data.shape[1]),cancer.feature_names,rotation=90)\n",
    "plt.ylim(-5,5)\n",
    "plt.xlabel(\"Coefficient Index\")\n",
    "plt.ylabel(\"Coefficinet Magnitude\")\n",
    "plt.legend()\n"
   ]
  },
  {
   "cell_type": "code",
   "execution_count": 5,
   "metadata": {},
   "outputs": [
    {
     "name": "stdout",
     "output_type": "stream",
     "text": [
      "Accuracy on the training subset:1.000\n",
      "Accuracy on the test subset:0.972\n"
     ]
    }
   ],
   "source": [
    "from sklearn.ensemble import RandomForestClassifier\n",
    "from sklearn.model_selection import train_test_split\n",
    "from sklearn.datasets import load_breast_cancer\n",
    "\n",
    "import matplotlib.pyplot as plt\n",
    "import numpy as np\n",
    "%matplotlib inline\n",
    "\n",
    "cancer= load_breast_cancer()\n",
    "\n",
    "X_train, X_test,y_train,y_test=train_test_split(cancer.data,cancer.target, random_state=0)\n",
    "\n",
    "forest=RandomForestClassifier(n_estimators=100,random_state=0)\n",
    "forest.fit(X_train,y_train)\n",
    "\n",
    "print(\"Accuracy on the training subset:{:.3f}\".format(forest.score(X_train,y_train)))\n",
    "print(\"Accuracy on the test subset:{:.3f}\".format(forest.score(X_test,y_test)))\n"
   ]
  },
  {
   "cell_type": "code",
   "execution_count": 6,
   "metadata": {},
   "outputs": [
    {
     "data": {
      "image/png": "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\n",
      "text/plain": [
       "<Figure size 432x288 with 1 Axes>"
      ]
     },
     "metadata": {},
     "output_type": "display_data"
    }
   ],
   "source": [
    "n_features=cancer.data.shape[1]\n",
    "plt.barh(range(n_features),forest.feature_importances_,align='center')\n",
    "plt.yticks(np.arange(n_features),cancer.feature_names)\n",
    "plt.xlabel(\"Features Importance\")\n",
    "plt.ylabel(\"Feature\")\n",
    "plt.show()"
   ]
  }
 ],
 "metadata": {
  "kernelspec": {
   "display_name": "Python 3",
   "language": "python",
   "name": "python3"
  },
  "language_info": {
   "codemirror_mode": {
    "name": "ipython",
    "version": 3
   },
   "file_extension": ".py",
   "mimetype": "text/x-python",
   "name": "python",
   "nbconvert_exporter": "python",
   "pygments_lexer": "ipython3",
   "version": "3.6.5"
  }
 },
 "nbformat": 4,
 "nbformat_minor": 2
}

 "cells": [
  {
   "cell_type": "code",
   "execution_count": 40,
   "metadata": {},
   "outputs": [],
   "source": [
    "from sklearn.datasets import  load_breast_cancer\n",
    "from sklearn.neighbors import KNeighborsClassifier\n",
    "from sklearn.model_selection import train_test_split\n",
    " \n",
    "import matplotlib.pyplot as plt\n",
    "\n",
    "%matplotlib inline\n"
   ]
  },
  {
   "cell_type": "markdown",
   "metadata": {},
   "source": [
    "In this notebook, First I have done some exploration on the data using matplotlib.Then, I use different classifier models to predict the breast cancer."
   ]
  },
  {
   "cell_type": "markdown",
   "metadata": {},
   "source": [
    "1. KNN Classifier"
   ]
  },
  {
   "cell_type": "markdown",
   "metadata": {},
   "source": [
    "2. LogisticRegression."
   ]
  },
  {
   "cell_type": "markdown",
   "metadata": {},
   "source": [
    "3.RandomForestClassifier"
   ]
  },
  {
   "cell_type": "code",
   "execution_count": 41,
   "metadata": {},
   "outputs": [],
   "source": [
    "cancer = load_breast_cancer()\n",
    "#print(cancer.DESCR)"
   ]
  },
  {
   "cell_type": "code",
   "execution_count": 42,
   "metadata": {},
   "outputs": [
    {
     "name": "stdout",
     "output_type": "stream",
     "text": [
      "['mean radius' 'mean texture' 'mean perimeter' 'mean area'\n",
      " 'mean smoothness' 'mean compactness' 'mean concavity'\n",
      " 'mean concave points' 'mean symmetry' 'mean fractal dimension'\n",
      " 'radius error' 'texture error' 'perimeter error' 'area error'\n",
      " 'smoothness error' 'compactness error' 'concavity error'\n",
      " 'concave points error' 'symmetry error' 'fractal dimension error'\n",
      " 'worst radius' 'worst texture' 'worst perimeter' 'worst area'\n",
      " 'worst smoothness' 'worst compactness' 'worst concavity'\n",
      " 'worst concave points' 'worst symmetry' 'worst fractal dimension']\n",
      "['malignant' 'benign']\n"
     ]
    }
   ],
   "source": [
    "print(cancer.feature_names)\n",
    "print(cancer.target_names)\n"
   ]
  },
  {
   "cell_type": "code",
   "execution_count": 43,
   "metadata": {},
   "outputs": [
    {
     "data": {
      "text/plain": [
       "(569, 30)"
      ]
     },
     "execution_count": 43,
     "metadata": {},
     "output_type": "execute_result"
    }
   ],
   "source": [
    "cancer.data.shape\n"
   ]
  },
  {
   "cell_type": "markdown",
   "metadata": {},
   "source": [
    "# Process Outline"
   ]
  },
  {
   "cell_type": "markdown",
   "metadata": {},
   "source": [
    "1.Get the data(Pre process)"
   ]
  },
  {
   "cell_type": "markdown",
   "metadata": {},
   "source": [
    "2.Pick an Algorithm"
   ]
  },
  {
   "cell_type": "markdown",
   "metadata": {},
   "source": [
    "3..Train the Algorithm.Verify the Algorithm"
   ]
  },
  {
   "cell_type": "markdown",
   "metadata": {},
   "source": [
    "4.Predict"
   ]
  },
  {
   "cell_type": "code",
   "execution_count": 44,
   "metadata": {},
   "outputs": [
    {
     "data": {
      "text/html": [
       "<div>\n",
       "<style scoped>\n",
       "    .dataframe tbody tr th:only-of-type {\n",
       "        vertical-align: middle;\n",
       "    }\n",
       "\n",
       "    .dataframe tbody tr th {\n",
       "        vertical-align: top;\n",
       "    }\n",
       "\n",
       "    .dataframe thead th {\n",
       "        text-align: right;\n",
       "    }\n",
       "</style>\n",
       "<table border=\"1\" class=\"dataframe\">\n",
       "  <thead>\n",
       "    <tr style=\"text-align: right;\">\n",
       "      <th></th>\n",
       "      <th>Unnamed: 0</th>\n",
       "      <th>diagnosis</th>\n",
       "      <th>radius_mean</th>\n",
       "      <th>texture_mean</th>\n",
       "      <th>perimeter_mean</th>\n",
       "      <th>area_mean</th>\n",
       "      <th>smoothness_mean</th>\n",
       "      <th>compactness_mean</th>\n",
       "      <th>concavity_mean</th>\n",
       "      <th>concave points_mean</th>\n",
       "      <th>symmetry_mean</th>\n",
       "      <th>fractal_dimension_mean</th>\n",
       "      <th>radius_se</th>\n",
       "      <th>texture_se</th>\n",
       "      <th>perimeter_se</th>\n",
       "      <th>area_se</th>\n",
       "      <th>smoothness_se</th>\n",
       "      <th>compactness_se</th>\n",
       "      <th>concavity_se</th>\n",
       "      <th>concave points_se</th>\n",
       "    </tr>\n",
       "  </thead>\n",
       "  <tbody>\n",
       "    <tr>\n",
       "      <th>560</th>\n",
       "      <td>559</td>\n",
       "      <td>925277</td>\n",
       "      <td>B</td>\n",
       "      <td>14.59</td>\n",
       "      <td>22.68</td>\n",
       "      <td>96.39</td>\n",
       "      <td>657.1</td>\n",
       "      <td>0.08473</td>\n",
       "      <td>0.133</td>\n",
       "      <td>0.1029</td>\n",
       "      <td>0.03736</td>\n",
       "      <td>0.1454</td>\n",
       "      <td>0.06147</td>\n",
       "      <td>0.2254</td>\n",
       "      <td>1.108</td>\n",
       "      <td>2.224</td>\n",
       "      <td>19.54</td>\n",
       "      <td>0.004242</td>\n",
       "      <td>0.04639</td>\n",
       "      <td>0.06578</td>\n",
       "    </tr>\n",
       "    <tr>\n",
       "      <th>561</th>\n",
       "      <td>560</td>\n",
       "      <td>925291</td>\n",
       "      <td>B</td>\n",
       "      <td>11.51</td>\n",
       "      <td>23.93</td>\n",
       "      <td>74.52</td>\n",
       "      <td>403.5</td>\n",
       "      <td>0.09261</td>\n",
       "      <td>0.1021</td>\n",
       "      <td>0.1112</td>\n",
       "      <td>0.04105</td>\n",
       "      <td>0.1388</td>\n",
       "      <td>0.0657</td>\n",
       "      <td>0.2388</td>\n",
       "      <td>2.904</td>\n",
       "      <td>1.936</td>\n",
       "      <td>16.97</td>\n",
       "      <td>0.0082</td>\n",
       "      <td>0.02982</td>\n",
       "      <td>0.05738</td>\n",
       "    </tr>\n",
       "    <tr>\n",
       "      <th>562</th>\n",
       "      <td>561</td>\n",
       "      <td>925292</td>\n",
       "      <td>B</td>\n",
       "      <td>14.05</td>\n",
       "      <td>27.15</td>\n",
       "      <td>91.38</td>\n",
       "      <td>600.4</td>\n",
       "      <td>0.09929</td>\n",
       "      <td>0.1126</td>\n",
       "      <td>0.04462</td>\n",
       "      <td>0.04304</td>\n",
       "      <td>0.1537</td>\n",
       "      <td>0.06171</td>\n",
       "      <td>0.3645</td>\n",
       "      <td>1.492</td>\n",
       "      <td>2.888</td>\n",
       "      <td>29.84</td>\n",
       "      <td>0.007256</td>\n",
       "      <td>0.02678</td>\n",
       "      <td>0.02071</td>\n",
       "    </tr>\n",
       "    <tr>\n",
       "      <th>563</th>\n",
       "      <td>562</td>\n",
       "      <td>925311</td>\n",
       "      <td>B</td>\n",
       "      <td>11.2</td>\n",
       "      <td>29.37</td>\n",
       "      <td>70.67</td>\n",
       "      <td>386</td>\n",
       "      <td>0.07449</td>\n",
       "      <td>0.03558</td>\n",
       "      <td>0</td>\n",
       "      <td>0.00000</td>\n",
       "      <td>0.106</td>\n",
       "      <td>0.05502</td>\n",
       "      <td>0.3141</td>\n",
       "      <td>3.896</td>\n",
       "      <td>2.041</td>\n",
       "      <td>22.81</td>\n",
       "      <td>0.007594</td>\n",
       "      <td>0.008878</td>\n",
       "      <td>0</td>\n",
       "    </tr>\n",
       "    <tr>\n",
       "      <th>564</th>\n",
       "      <td>563</td>\n",
       "      <td>925622</td>\n",
       "      <td>M</td>\n",
       "      <td>15.22</td>\n",
       "      <td>30.62</td>\n",
       "      <td>103.40</td>\n",
       "      <td>716.9</td>\n",
       "      <td>0.1048</td>\n",
       "      <td>0.2087</td>\n",
       "      <td>0.255</td>\n",
       "      <td>0.09429</td>\n",
       "      <td>0.2128</td>\n",
       "      <td>0.07152</td>\n",
       "      <td>0.2602</td>\n",
       "      <td>1.205</td>\n",
       "      <td>2.362</td>\n",
       "      <td>22.65</td>\n",
       "      <td>0.004625</td>\n",
       "      <td>0.04844</td>\n",
       "      <td>0.07359</td>\n",
       "    </tr>\n",
       "    <tr>\n",
       "      <th>565</th>\n",
       "      <td>564</td>\n",
       "      <td>926125</td>\n",
       "      <td>M</td>\n",
       "      <td>20.92</td>\n",
       "      <td>25.09</td>\n",
       "      <td>143.00</td>\n",
       "      <td>1347</td>\n",
       "      <td>0.1099</td>\n",
       "      <td>0.2236</td>\n",
       "      <td>0.3174</td>\n",
       "      <td>0.14740</td>\n",
       "      <td>0.2149</td>\n",
       "      <td>0.06879</td>\n",
       "      <td>0.9622</td>\n",
       "      <td>1.026</td>\n",
       "      <td>8.758</td>\n",
       "      <td>118.8</td>\n",
       "      <td>0.006399</td>\n",
       "      <td>0.0431</td>\n",
       "      <td>0.07845</td>\n",
       "    </tr>\n",
       "    <tr>\n",
       "      <th>566</th>\n",
       "      <td>565</td>\n",
       "      <td>926424</td>\n",
       "      <td>M</td>\n",
       "      <td>21.56</td>\n",
       "      <td>22.39</td>\n",
       "      <td>142.00</td>\n",
       "      <td>1479</td>\n",
       "      <td>0.111</td>\n",
       "      <td>0.1159</td>\n",
       "      <td>0.2439</td>\n",
       "      <td>0.13890</td>\n",
       "      <td>0.1726</td>\n",
       "      <td>0.05623</td>\n",
       "      <td>1.176</td>\n",
       "      <td>1.256</td>\n",
       "      <td>7.673</td>\n",
       "      <td>158.7</td>\n",
       "      <td>0.0103</td>\n",
       "      <td>0.02891</td>\n",
       "      <td>0.05198</td>\n",
       "    </tr>\n",
       "    <tr>\n",
       "      <th>567</th>\n",
       "      <td>566</td>\n",
       "      <td>926682</td>\n",
       "      <td>M</td>\n",
       "      <td>20.13</td>\n",
       "      <td>28.25</td>\n",
       "      <td>131.20</td>\n",
       "      <td>1261</td>\n",
       "      <td>0.0978</td>\n",
       "      <td>0.1034</td>\n",
       "      <td>0.144</td>\n",
       "      <td>0.09791</td>\n",
       "      <td>0.1752</td>\n",
       "      <td>0.05533</td>\n",
       "      <td>0.7655</td>\n",
       "      <td>2.463</td>\n",
       "      <td>5.203</td>\n",
       "      <td>99.04</td>\n",
       "      <td>0.005769</td>\n",
       "      <td>0.02423</td>\n",
       "      <td>0.0395</td>\n",
       "    </tr>\n",
       "    <tr>\n",
       "      <th>568</th>\n",
       "      <td>567</td>\n",
       "      <td>926954</td>\n",
       "      <td>M</td>\n",
       "      <td>16.6</td>\n",
       "      <td>28.08</td>\n",
       "      <td>108.30</td>\n",
       "      <td>858.1</td>\n",
       "      <td>0.08455</td>\n",
       "      <td>0.1023</td>\n",
       "      <td>0.09251</td>\n",
       "      <td>0.05302</td>\n",
       "      <td>0.159</td>\n",
       "      <td>0.05648</td>\n",
       "      <td>0.4564</td>\n",
       "      <td>1.075</td>\n",
       "      <td>3.425</td>\n",
       "      <td>48.55</td>\n",
       "      <td>0.005903</td>\n",
       "      <td>0.03731</td>\n",
       "      <td>0.0473</td>\n",
       "    </tr>\n",
       "    <tr>\n",
       "      <th>569</th>\n",
       "      <td>568</td>\n",
       "      <td>927241</td>\n",
       "      <td>M</td>\n",
       "      <td>20.6</td>\n",
       "      <td>29.33</td>\n",
       "      <td>140.10</td>\n",
       "      <td>1265</td>\n",
       "      <td>0.1178</td>\n",
       "      <td>0.277</td>\n",
       "      <td>0.3514</td>\n",
       "      <td>0.15200</td>\n",
       "      <td>0.2397</td>\n",
       "      <td>0.07016</td>\n",
       "      <td>0.726</td>\n",
       "      <td>1.595</td>\n",
       "      <td>5.772</td>\n",
       "      <td>86.22</td>\n",
       "      <td>0.006522</td>\n",
       "      <td>0.06158</td>\n",
       "      <td>0.07117</td>\n",
       "    </tr>\n",
       "  </tbody>\n",
       "</table>\n",
       "</div>"
      ],
      "text/plain": [
       "    Unnamed: 0 diagnosis radius_mean texture_mean perimeter_mean  area_mean  \\\n",
       "560        559    925277           B        14.59          22.68      96.39   \n",
       "561        560    925291           B        11.51          23.93      74.52   \n",
       "562        561    925292           B        14.05          27.15      91.38   \n",
       "563        562    925311           B         11.2          29.37      70.67   \n",
       "564        563    925622           M        15.22          30.62     103.40   \n",
       "565        564    926125           M        20.92          25.09     143.00   \n",
       "566        565    926424           M        21.56          22.39     142.00   \n",
       "567        566    926682           M        20.13          28.25     131.20   \n",
       "568        567    926954           M         16.6          28.08     108.30   \n",
       "569        568    927241           M         20.6          29.33     140.10   \n",
       "\n",
       "    smoothness_mean compactness_mean concavity_mean concave points_mean  \\\n",
       "560           657.1          0.08473          0.133              0.1029   \n",
       "561           403.5          0.09261         0.1021              0.1112   \n",
       "562           600.4          0.09929         0.1126             0.04462   \n",
       "563             386          0.07449        0.03558                   0   \n",
       "564           716.9           0.1048         0.2087               0.255   \n",
       "565            1347           0.1099         0.2236              0.3174   \n",
       "566            1479            0.111         0.1159              0.2439   \n",
       "567            1261           0.0978         0.1034               0.144   \n",
       "568           858.1          0.08455         0.1023             0.09251   \n",
       "569            1265           0.1178          0.277              0.3514   \n",
       "\n",
       "     symmetry_mean fractal_dimension_mean radius_se texture_se  perimeter_se  \\\n",
       "560        0.03736                 0.1454   0.06147     0.2254         1.108   \n",
       "561        0.04105                 0.1388    0.0657     0.2388         2.904   \n",
       "562        0.04304                 0.1537   0.06171     0.3645         1.492   \n",
       "563        0.00000                  0.106   0.05502     0.3141         3.896   \n",
       "564        0.09429                 0.2128   0.07152     0.2602         1.205   \n",
       "565        0.14740                 0.2149   0.06879     0.9622         1.026   \n",
       "566        0.13890                 0.1726   0.05623      1.176         1.256   \n",
       "567        0.09791                 0.1752   0.05533     0.7655         2.463   \n",
       "568        0.05302                  0.159   0.05648     0.4564         1.075   \n",
       "569        0.15200                 0.2397   0.07016      0.726         1.595   \n",
       "\n",
       "     area_se smoothness_se compactness_se concavity_se concave points_se  \n",
       "560    2.224         19.54       0.004242      0.04639           0.06578  \n",
       "561    1.936         16.97         0.0082      0.02982           0.05738  \n",
       "562    2.888         29.84       0.007256      0.02678           0.02071  \n",
       "563    2.041         22.81       0.007594     0.008878                 0  \n",
       "564    2.362         22.65       0.004625      0.04844           0.07359  \n",
       "565    8.758         118.8       0.006399       0.0431           0.07845  \n",
       "566    7.673         158.7         0.0103      0.02891           0.05198  \n",
       "567    5.203         99.04       0.005769      0.02423            0.0395  \n",
       "568    3.425         48.55       0.005903      0.03731            0.0473  \n",
       "569    5.772         86.22       0.006522      0.06158           0.07117  "
      ]
     },
     "execution_count": 44,
     "metadata": {},
     "output_type": "execute_result"
    }
   ],
   "source": [
    "import pandas as pd\n",
    "data=pd.read_csv(\"BreastCancer.csv\")\n",
    "data.tail(10)\n"
   ]
  },
  {
   "cell_type": "code",
   "execution_count": 2,
   "metadata": {},
   "outputs": [
    {
     "name": "stderr",
     "output_type": "stream",
     "text": [
      "C:\\Users\\divanand\\Anaconda3\\lib\\site-packages\\sklearn\\utils\\deprecation.py:77: DeprecationWarning: Function make_blobs is deprecated; Please import make_blobs directly from scikit-learn\n",
      "  warnings.warn(msg, category=DeprecationWarning)\n"
     ]
    },
    {
     "data": {
      "image/png": "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\n",
      "text/plain": [
       "<Figure size 432x288 with 1 Axes>"
      ]
     },
     "metadata": {},
     "output_type": "display_data"
    }
   ],
   "source": [
    "#KNN Classifier \n",
    "import mglearn \n",
    "mglearn.plots.plot_knn_classification(n_neighbors=3)"
   ]
  },
  {
   "cell_type": "code",
   "execution_count": 5,
   "metadata": {},
   "outputs": [
    {
     "data": {
      "text/plain": [
       "KNeighborsClassifier(algorithm='auto', leaf_size=30, metric='minkowski',\n",
       "           metric_params=None, n_jobs=1, n_neighbors=5, p=2,\n",
       "           weights='uniform')"
      ]
     },
     "execution_count": 5,
     "metadata": {},
     "output_type": "execute_result"
    }
   ],
   "source": [
    "from sklearn.datasets import load_breast_cancer\n",
    "from sklearn.neighbors import KNeighborsClassifier\n",
    "from sklearn.model_selection import train_test_split\n",
    "\n",
    "import matplotlib.pyplot as plt\n",
    "%matplotlib inline\n",
    "\n",
    "cancer=load_breast_cancer()\n",
    "#First we create a training set and a testing set\n",
    "X_train, X_test, y_train, y_test = train_test_split(cancer.data, cancer.target, stratify=cancer.target,random_state=42)\n",
    "#Second we instantiate a k-NN class and fit with our training set.\n",
    "knn = KNeighborsClassifier()\n",
    "knn.fit(X_train,y_train)"
   ]
  },
  {
   "cell_type": "code",
   "execution_count": 49,
   "metadata": {},
   "outputs": [
    {
     "name": "stdout",
     "output_type": "stream",
     "text": [
      "Accuracy of KNN n-5, on the training set:0.946\n",
      "Accuracy of KNN n-5, on the test set:0.930\n"
     ]
    }
   ],
   "source": [
    "#we evaluate the accuracy of the model by comparing the predictions \n",
    "print(\"Accuracy of KNN n-5, on the training set:{:.3f}\".format(knn.score(X_train,y_train)))\n",
    "print(\"Accuracy of KNN n-5, on the test set:{:.3f}\".format(knn.score(X_test,y_test)))\n"
   ]
  },
  {
   "cell_type": "code",
   "execution_count": 22,
   "metadata": {},
   "outputs": [
    {
     "data": {
      "text/plain": [
       "<matplotlib.legend.Legend at 0x2804193c048>"
      ]
     },
     "execution_count": 22,
     "metadata": {},
     "output_type": "execute_result"
    },
    {
     "data": {
      "image/png": "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\n",
      "text/plain": [
       "<Figure size 432x288 with 1 Axes>"
      ]
     },
     "metadata": {},
     "output_type": "display_data"
    }
   ],
   "source": [
    "X_train,X_test,y_train,y_test=train_test_split(cancer.data, cancer.target, stratify=cancer.target, random_state=66)\n",
    "\n",
    "training_accuracy=[]\n",
    "test_accuracy=[]\n",
    "\n",
    "neighbors_settings=range(1,11)\n",
    "\n",
    "for n_neighbors in neighbors_settings:\n",
    "    clf=KNeighborsClassifier(n_neighbors=n_neighbors)\n",
    "    clf.fit(X_train,y_train)\n",
    "    training_accuracy.append(clf.score(X_train,y_train))\n",
    "    test_accuracy.append(clf.score(X_test,y_test))\n",
    "    \n",
    "plt.plot(neighbors_settings, training_accuracy, label=\"Accuracy of the Training Set\")\n",
    "plt.plot(neighbors_settings,test_accuracy, label=\"Accuracy of the test set\")\n",
    "plt.ylabel(\"Accuracy \")\n",
    "plt.xlabel(\"Number of Neighbors\")\n",
    "plt.legend()\n"
   ]
  },
  {
   "cell_type": "code",
   "execution_count": 4,
   "metadata": {},
   "outputs": [
    {
     "data": {
      "text/plain": [
       "LogisticRegression(C=1.0, class_weight=None, dual=False, fit_intercept=True,\n",
       "          intercept_scaling=1, max_iter=100, multi_class='ovr', n_jobs=1,\n",
       "          penalty='l2', random_state=None, solver='liblinear', tol=0.0001,\n",
       "          verbose=0, warm_start=False)"
      ]
     },
     "execution_count": 4,
     "metadata": {},
     "output_type": "execute_result"
    }
   ],
   "source": [
    "#Using LogisticRegression on the cancer dataset.\n",
    "from sklearn.datasets import load_breast_cancer\n",
    "from sklearn.linear_model import LogisticRegression\n",
    "from sklearn.model_selection import train_test_split\n",
    "\n",
    "import matplotlib.pyplot as plt\n",
    "%matplotlib inline\n",
    "\n",
    "cancer= load_breast_cancer()\n",
    "\n",
    "X_train,X_test,y_train,y_test=train_test_split(cancer.data, cancer.target, stratify=cancer.target, random_state=42)\n",
    "\n",
    "log_reg = LogisticRegression()\n",
    "log_reg.fit(X_train,y_train)\n"
   ]
  },
  {
   "cell_type": "code",
   "execution_count": 5,
   "metadata": {},
   "outputs": [
    {
     "name": "stdout",
     "output_type": "stream",
     "text": [
      "Accuracy on the training subset:0.955399 \n",
      "Accuracy on the test subset:0.958042\n"
     ]
    }
   ],
   "source": [
    "print(\"Accuracy on the training subset:{:3f} \".format(log_reg.score(X_train,y_train)))\n",
    "print(\"Accuracy on the test subset:{:3f}\".format(log_reg.score(X_test,y_test)))\n"
   ]
  },
  {
   "cell_type": "code",
   "execution_count": 55,
   "metadata": {},
   "outputs": [
    {
     "name": "stdout",
     "output_type": "stream",
     "text": [
      "Accuracy on the training subset:0.971831\n",
      "Accuracy on the test subset:0.965035\n"
     ]
    }
   ],
   "source": [
    "log_reg100=LogisticRegression(C=100)\n",
    "log_reg100.fit(X_train,y_train)\n",
    "print(\"Accuracy on the training subset:{:3f}\".format(log_reg100.score(X_train,y_train)))\n",
    "print(\"Accuracy on the test subset:{:3f}\".format(log_reg100.score(X_test,y_test)))\n"
   ]
  },
  {
   "cell_type": "code",
   "execution_count": 56,
   "metadata": {},
   "outputs": [
    {
     "name": "stdout",
     "output_type": "stream",
     "text": [
      "Accuracy on the training subset:0.936620\n",
      "Accuracy on the test subnet:0.930070\n"
     ]
    }
   ],
   "source": [
    "log_reg001=LogisticRegression(C=0.01)\n",
    "log_reg001.fit(X_test,y_test)\n",
    "print(\"Accuracy on the training subset:{:3f}\".format(log_reg001.score(X_train,y_train)))\n",
    "print(\"Accuracy on the test subnet:{:3f}\".format(log_reg001.score(X_test,y_test)))\n",
    "\n"
   ]
  },
  {
   "cell_type": "markdown",
   "metadata": {},
   "source": [
    "# For Logistic Regression:"
   ]
  },
  {
   "cell_type": "markdown",
   "metadata": {},
   "source": [
    "y=w[0]*x[0]+w[1]*x[1]+.....+w[p]*x[p]+b>0"
   ]
  },
  {
   "cell_type": "code",
   "execution_count": 27,
   "metadata": {},
   "outputs": [
    {
     "name": "stdout",
     "output_type": "stream",
     "text": [
      "w[0]: 0.393906  b: -0.031804\n"
     ]
    },
    {
     "data": {
      "image/png": "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\n",
      "text/plain": [
       "<Figure size 576x576 with 1 Axes>"
      ]
     },
     "metadata": {},
     "output_type": "display_data"
    }
   ],
   "source": [
    "import mglearn \n",
    "mglearn.plots.plot_linear_regression_wave()\n"
   ]
  },
  {
   "cell_type": "code",
   "execution_count": 60,
   "metadata": {},
   "outputs": [
    {
     "data": {
      "text/plain": [
       "<matplotlib.legend.Legend at 0x28041f3f8d0>"
      ]
     },
     "execution_count": 60,
     "metadata": {},
     "output_type": "execute_result"
    },
    {
     "data": {
      "image/png": "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\n",
      "text/plain": [
       "<Figure size 432x288 with 1 Axes>"
      ]
     },
     "metadata": {},
     "output_type": "display_data"
    }
   ],
   "source": [
    "\n",
    "plt.plot(log_reg.coef_.T,\"o\",label=\"C=1\")\n",
    "plt.plot(log_reg100.coef_.T,\"^\",label=\"C=100\")\n",
    "plt.plot(log_reg001.coef_.T,\"v\",label=\"C=0.01\")\n",
    "plt.xticks(range(cancer.data.shape[1]),cancer.feature_names,rotation=90)\n",
    "plt.ylim(-5,5)\n",
    "plt.xlabel(\"Coefficient Index\")\n",
    "plt.ylabel(\"Coefficinet Magnitude\")\n",
    "plt.legend()\n"
   ]
  },
  {
   "cell_type": "code",
   "execution_count": 5,
   "metadata": {},
   "outputs": [
    {
     "name": "stdout",
     "output_type": "stream",
     "text": [
      "Accuracy on the training subset:1.000\n",
      "Accuracy on the test subset:0.972\n"
     ]
    }
   ],
   "source": [
    "from sklearn.ensemble import RandomForestClassifier\n",
    "from sklearn.model_selection import train_test_split\n",
    "from sklearn.datasets import load_breast_cancer\n",
    "\n",
    "import matplotlib.pyplot as plt\n",
    "import numpy as np\n",
    "%matplotlib inline\n",
    "\n",
    "cancer= load_breast_cancer()\n",
    "\n",
    "X_train, X_test,y_train,y_test=train_test_split(cancer.data,cancer.target, random_state=0)\n",
    "\n",
    "forest=RandomForestClassifier(n_estimators=100,random_state=0)\n",
    "forest.fit(X_train,y_train)\n",
    "\n",
    "print(\"Accuracy on the training subset:{:.3f}\".format(forest.score(X_train,y_train)))\n",
    "print(\"Accuracy on the test subset:{:.3f}\".format(forest.score(X_test,y_test)))\n"
   ]
  },
  {
   "cell_type": "code",
   "execution_count": 6,
   "metadata": {},
   "outputs": [
    {
     "data": {
      "image/png": "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\n",
      "text/plain": [
       "<Figure size 432x288 with 1 Axes>"
      ]
     },
     "metadata": {},
     "output_type": "display_data"
    }
   ],
   "source": [
    "n_features=cancer.data.shape[1]\n",
    "plt.barh(range(n_features),forest.feature_importances_,align='center')\n",
    "plt.yticks(np.arange(n_features),cancer.feature_names)\n",
    "plt.xlabel(\"Features Importance\")\n",
    "plt.ylabel(\"Feature\")\n",
    "plt.show()"
   ]
  }
 ],
 "metadata": {
  "kernelspec": {
   "display_name": "Python 3",
   "language": "python",
   "name": "python3"
  },
  "language_info": {
   "codemirror_mode": {
    "name": "ipython",
    "version": 3
   },
   "file_extension": ".py",
   "mimetype": "text/x-python",
   "name": "python",
   "nbconvert_exporter": "python",
   "pygments_lexer": "ipython3",
   "version": "3.6.5"
  }
 },
 "nbformat": 4,
 "nbformat_minor": 2
}

   "execution_count": 40,
   "metadata": {},
   "outputs": [],
   "source": [
    "from sklearn.datasets import  load_breast_cancer\n",
    "from sklearn.neighbors import KNeighborsClassifier\n",
    "from sklearn.model_selection import train_test_split\n",
    " \n",
    "import matplotlib.pyplot as plt\n",
    "\n",
    "%matplotlib inline\n"
   ]
  },
  {
   "cell_type": "markdown",
   "metadata": {},
   "source": [
    "In this notebook, First I have done some exploration on the data using matplotlib.Then, I use different classifier models to predict the breast cancer."
   ]
  },
  {
   "cell_type": "markdown",
   "metadata": {},
   "source": [
    "1. KNN Classifier"
   ]
  },
  {
   "cell_type": "markdown",
   "metadata": {},
   "source": [
    "2. LogisticRegression."
   ]
  },
  {
   "cell_type": "markdown",
   "metadata": {},
   "source": [
    "3.RandomForestClassifier"
   ]
  },
  {
   "cell_type": "code",
   "execution_count": 41,
   "metadata": {},
   "outputs": [],
   "source": [
    "cancer = load_breast_cancer()\n",
    "#print(cancer.DESCR)"
   ]
  },
  {
   "cell_type": "code",
   "execution_count": 42,
   "metadata": {},
   "outputs": [
    {
     "name": "stdout",
     "output_type": "stream",
     "text": [
      "['mean radius' 'mean texture' 'mean perimeter' 'mean area'\n",
      " 'mean smoothness' 'mean compactness' 'mean concavity'\n",
      " 'mean concave points' 'mean symmetry' 'mean fractal dimension'\n",
      " 'radius error' 'texture error' 'perimeter error' 'area error'\n",
      " 'smoothness error' 'compactness error' 'concavity error'\n",
      " 'concave points error' 'symmetry error' 'fractal dimension error'\n",
      " 'worst radius' 'worst texture' 'worst perimeter' 'worst area'\n",
      " 'worst smoothness' 'worst compactness' 'worst concavity'\n",
      " 'worst concave points' 'worst symmetry' 'worst fractal dimension']\n",
      "['malignant' 'benign']\n"
     ]
    }
   ],
   "source": [
    "print(cancer.feature_names)\n",
    "print(cancer.target_names)\n"
   ]
  },
  {
   "cell_type": "code",
   "execution_count": 43,
   "metadata": {},
   "outputs": [
    {
     "data": {
      "text/plain": [
       "(569, 30)"
      ]
     },
     "execution_count": 43,
     "metadata": {},
     "output_type": "execute_result"
    }
   ],
   "source": [
    "cancer.data.shape\n"
   ]
  },
  {
   "cell_type": "markdown",
   "metadata": {},
   "source": [
    "# Process Outline"
   ]
  },
  {
   "cell_type": "markdown",
   "metadata": {},
   "source": [
    "1.Get the data(Pre process)"
   ]
  },
  {
   "cell_type": "markdown",
   "metadata": {},
   "source": [
    "2.Pick an Algorithm"
   ]
  },
  {
   "cell_type": "markdown",
   "metadata": {},
   "source": [
    "3..Train the Algorithm.Verify the Algorithm"
   ]
  },
  {
   "cell_type": "markdown",
   "metadata": {},
   "source": [
    "4.Predict"
   ]
  },
  {
   "cell_type": "code",
   "execution_count": 44,
   "metadata": {},
   "outputs": [
    {
     "data": {
      "text/html": [
       "<div>\n",
       "<style scoped>\n",
       "    .dataframe tbody tr th:only-of-type {\n",
       "        vertical-align: middle;\n",
       "    }\n",
       "\n",
       "    .dataframe tbody tr th {\n",
       "        vertical-align: top;\n",
       "    }\n",
       "\n",
       "    .dataframe thead th {\n",
       "        text-align: right;\n",
       "    }\n",
       "</style>\n",
       "<table border=\"1\" class=\"dataframe\">\n",
       "  <thead>\n",
       "    <tr style=\"text-align: right;\">\n",
       "      <th></th>\n",
       "      <th>Unnamed: 0</th>\n",
       "      <th>diagnosis</th>\n",
       "      <th>radius_mean</th>\n",
       "      <th>texture_mean</th>\n",
       "      <th>perimeter_mean</th>\n",
       "      <th>area_mean</th>\n",
       "      <th>smoothness_mean</th>\n",
       "      <th>compactness_mean</th>\n",
       "      <th>concavity_mean</th>\n",
       "      <th>concave points_mean</th>\n",
       "      <th>symmetry_mean</th>\n",
       "      <th>fractal_dimension_mean</th>\n",
       "      <th>radius_se</th>\n",
       "      <th>texture_se</th>\n",
       "      <th>perimeter_se</th>\n",
       "      <th>area_se</th>\n",
       "      <th>smoothness_se</th>\n",
       "      <th>compactness_se</th>\n",
       "      <th>concavity_se</th>\n",
       "      <th>concave points_se</th>\n",
       "    </tr>\n",
       "  </thead>\n",
       "  <tbody>\n",
       "    <tr>\n",
       "      <th>560</th>\n",
       "      <td>559</td>\n",
       "      <td>925277</td>\n",
       "      <td>B</td>\n",
       "      <td>14.59</td>\n",
       "      <td>22.68</td>\n",
       "      <td>96.39</td>\n",
       "      <td>657.1</td>\n",
       "      <td>0.08473</td>\n",
       "      <td>0.133</td>\n",
       "      <td>0.1029</td>\n",
       "      <td>0.03736</td>\n",
       "      <td>0.1454</td>\n",
       "      <td>0.06147</td>\n",
       "      <td>0.2254</td>\n",
       "      <td>1.108</td>\n",
       "      <td>2.224</td>\n",
       "      <td>19.54</td>\n",
       "      <td>0.004242</td>\n",
       "      <td>0.04639</td>\n",
       "      <td>0.06578</td>\n",
       "    </tr>\n",
       "    <tr>\n",
       "      <th>561</th>\n",
       "      <td>560</td>\n",
       "      <td>925291</td>\n",
       "      <td>B</td>\n",
       "      <td>11.51</td>\n",
       "      <td>23.93</td>\n",
       "      <td>74.52</td>\n",
       "      <td>403.5</td>\n",
       "      <td>0.09261</td>\n",
       "      <td>0.1021</td>\n",
       "      <td>0.1112</td>\n",
       "      <td>0.04105</td>\n",
       "      <td>0.1388</td>\n",
       "      <td>0.0657</td>\n",
       "      <td>0.2388</td>\n",
       "      <td>2.904</td>\n",
       "      <td>1.936</td>\n",
       "      <td>16.97</td>\n",
       "      <td>0.0082</td>\n",
       "      <td>0.02982</td>\n",
       "      <td>0.05738</td>\n",
       "    </tr>\n",
       "    <tr>\n",
       "      <th>562</th>\n",
       "      <td>561</td>\n",
       "      <td>925292</td>\n",
       "      <td>B</td>\n",
       "      <td>14.05</td>\n",
       "      <td>27.15</td>\n",
       "      <td>91.38</td>\n",
       "      <td>600.4</td>\n",
       "      <td>0.09929</td>\n",
       "      <td>0.1126</td>\n",
       "      <td>0.04462</td>\n",
       "      <td>0.04304</td>\n",
       "      <td>0.1537</td>\n",
       "      <td>0.06171</td>\n",
       "      <td>0.3645</td>\n",
       "      <td>1.492</td>\n",
       "      <td>2.888</td>\n",
       "      <td>29.84</td>\n",
       "      <td>0.007256</td>\n",
       "      <td>0.02678</td>\n",
       "      <td>0.02071</td>\n",
       "    </tr>\n",
       "    <tr>\n",
       "      <th>563</th>\n",
       "      <td>562</td>\n",
       "      <td>925311</td>\n",
       "      <td>B</td>\n",
       "      <td>11.2</td>\n",
       "      <td>29.37</td>\n",
       "      <td>70.67</td>\n",
       "      <td>386</td>\n",
       "      <td>0.07449</td>\n",
       "      <td>0.03558</td>\n",
       "      <td>0</td>\n",
       "      <td>0.00000</td>\n",
       "      <td>0.106</td>\n",
       "      <td>0.05502</td>\n",
       "      <td>0.3141</td>\n",
       "      <td>3.896</td>\n",
       "      <td>2.041</td>\n",
       "      <td>22.81</td>\n",
       "      <td>0.007594</td>\n",
       "      <td>0.008878</td>\n",
       "      <td>0</td>\n",
       "    </tr>\n",
       "    <tr>\n",
       "      <th>564</th>\n",
       "      <td>563</td>\n",
       "      <td>925622</td>\n",
       "      <td>M</td>\n",
       "      <td>15.22</td>\n",
       "      <td>30.62</td>\n",
       "      <td>103.40</td>\n",
       "      <td>716.9</td>\n",
       "      <td>0.1048</td>\n",
       "      <td>0.2087</td>\n",
       "      <td>0.255</td>\n",
       "      <td>0.09429</td>\n",
       "      <td>0.2128</td>\n",
       "      <td>0.07152</td>\n",
       "      <td>0.2602</td>\n",
       "      <td>1.205</td>\n",
       "      <td>2.362</td>\n",
       "      <td>22.65</td>\n",
       "      <td>0.004625</td>\n",
       "      <td>0.04844</td>\n",
       "      <td>0.07359</td>\n",
       "    </tr>\n",
       "    <tr>\n",
       "      <th>565</th>\n",
       "      <td>564</td>\n",
       "      <td>926125</td>\n",
       "      <td>M</td>\n",
       "      <td>20.92</td>\n",
       "      <td>25.09</td>\n",
       "      <td>143.00</td>\n",
       "      <td>1347</td>\n",
       "      <td>0.1099</td>\n",
       "      <td>0.2236</td>\n",
       "      <td>0.3174</td>\n",
       "      <td>0.14740</td>\n",
       "      <td>0.2149</td>\n",
       "      <td>0.06879</td>\n",
       "      <td>0.9622</td>\n",
       "      <td>1.026</td>\n",
       "      <td>8.758</td>\n",
       "      <td>118.8</td>\n",
       "      <td>0.006399</td>\n",
       "      <td>0.0431</td>\n",
       "      <td>0.07845</td>\n",
       "    </tr>\n",
       "    <tr>\n",
       "      <th>566</th>\n",
       "      <td>565</td>\n",
       "      <td>926424</td>\n",
       "      <td>M</td>\n",
       "      <td>21.56</td>\n",
       "      <td>22.39</td>\n",
       "      <td>142.00</td>\n",
       "      <td>1479</td>\n",
       "      <td>0.111</td>\n",
       "      <td>0.1159</td>\n",
       "      <td>0.2439</td>\n",
       "      <td>0.13890</td>\n",
       "      <td>0.1726</td>\n",
       "      <td>0.05623</td>\n",
       "      <td>1.176</td>\n",
       "      <td>1.256</td>\n",
       "      <td>7.673</td>\n",
       "      <td>158.7</td>\n",
       "      <td>0.0103</td>\n",
       "      <td>0.02891</td>\n",
       "      <td>0.05198</td>\n",
       "    </tr>\n",
       "    <tr>\n",
       "      <th>567</th>\n",
       "      <td>566</td>\n",
       "      <td>926682</td>\n",
       "      <td>M</td>\n",
       "      <td>20.13</td>\n",
       "      <td>28.25</td>\n",
       "      <td>131.20</td>\n",
       "      <td>1261</td>\n",
       "      <td>0.0978</td>\n",
       "      <td>0.1034</td>\n",
       "      <td>0.144</td>\n",
       "      <td>0.09791</td>\n",
       "      <td>0.1752</td>\n",
       "      <td>0.05533</td>\n",
       "      <td>0.7655</td>\n",
       "      <td>2.463</td>\n",
       "      <td>5.203</td>\n",
       "      <td>99.04</td>\n",
       "      <td>0.005769</td>\n",
       "      <td>0.02423</td>\n",
       "      <td>0.0395</td>\n",
       "    </tr>\n",
       "    <tr>\n",
       "      <th>568</th>\n",
       "      <td>567</td>\n",
       "      <td>926954</td>\n",
       "      <td>M</td>\n",
       "      <td>16.6</td>\n",
       "      <td>28.08</td>\n",
       "      <td>108.30</td>\n",
       "      <td>858.1</td>\n",
       "      <td>0.08455</td>\n",
       "      <td>0.1023</td>\n",
       "      <td>0.09251</td>\n",
       "      <td>0.05302</td>\n",
       "      <td>0.159</td>\n",
       "      <td>0.05648</td>\n",
       "      <td>0.4564</td>\n",
       "      <td>1.075</td>\n",
       "      <td>3.425</td>\n",
       "      <td>48.55</td>\n",
       "      <td>0.005903</td>\n",
       "      <td>0.03731</td>\n",
       "      <td>0.0473</td>\n",
       "    </tr>\n",
       "    <tr>\n",
       "      <th>569</th>\n",
       "      <td>568</td>\n",
       "      <td>927241</td>\n",
       "      <td>M</td>\n",
       "      <td>20.6</td>\n",
       "      <td>29.33</td>\n",
       "      <td>140.10</td>\n",
       "      <td>1265</td>\n",
       "      <td>0.1178</td>\n",
       "      <td>0.277</td>\n",
       "      <td>0.3514</td>\n",
       "      <td>0.15200</td>\n",
       "      <td>0.2397</td>\n",
       "      <td>0.07016</td>\n",
       "      <td>0.726</td>\n",
       "      <td>1.595</td>\n",
       "      <td>5.772</td>\n",
       "      <td>86.22</td>\n",
       "      <td>0.006522</td>\n",
       "      <td>0.06158</td>\n",
       "      <td>0.07117</td>\n",
       "    </tr>\n",
       "  </tbody>\n",
       "</table>\n",
       "</div>"
      ],
      "text/plain": [
       "    Unnamed: 0 diagnosis radius_mean texture_mean perimeter_mean  area_mean  \\\n",
       "560        559    925277           B        14.59          22.68      96.39   \n",
       "561        560    925291           B        11.51          23.93      74.52   \n",
       "562        561    925292           B        14.05          27.15      91.38   \n",
       "563        562    925311           B         11.2          29.37      70.67   \n",
       "564        563    925622           M        15.22          30.62     103.40   \n",
       "565        564    926125           M        20.92          25.09     143.00   \n",
       "566        565    926424           M        21.56          22.39     142.00   \n",
       "567        566    926682           M        20.13          28.25     131.20   \n",
       "568        567    926954           M         16.6          28.08     108.30   \n",
       "569        568    927241           M         20.6          29.33     140.10   \n",
       "\n",
       "    smoothness_mean compactness_mean concavity_mean concave points_mean  \\\n",
       "560           657.1          0.08473          0.133              0.1029   \n",
       "561           403.5          0.09261         0.1021              0.1112   \n",
       "562           600.4          0.09929         0.1126             0.04462   \n",
       "563             386          0.07449        0.03558                   0   \n",
       "564           716.9           0.1048         0.2087               0.255   \n",
       "565            1347           0.1099         0.2236              0.3174   \n",
       "566            1479            0.111         0.1159              0.2439   \n",
       "567            1261           0.0978         0.1034               0.144   \n",
       "568           858.1          0.08455         0.1023             0.09251   \n",
       "569            1265           0.1178          0.277              0.3514   \n",
       "\n",
       "     symmetry_mean fractal_dimension_mean radius_se texture_se  perimeter_se  \\\n",
       "560        0.03736                 0.1454   0.06147     0.2254         1.108   \n",
       "561        0.04105                 0.1388    0.0657     0.2388         2.904   \n",
       "562        0.04304                 0.1537   0.06171     0.3645         1.492   \n",
       "563        0.00000                  0.106   0.05502     0.3141         3.896   \n",
       "564        0.09429                 0.2128   0.07152     0.2602         1.205   \n",
       "565        0.14740                 0.2149   0.06879     0.9622         1.026   \n",
       "566        0.13890                 0.1726   0.05623      1.176         1.256   \n",
       "567        0.09791                 0.1752   0.05533     0.7655         2.463   \n",
       "568        0.05302                  0.159   0.05648     0.4564         1.075   \n",
       "569        0.15200                 0.2397   0.07016      0.726         1.595   \n",
       "\n",
       "     area_se smoothness_se compactness_se concavity_se concave points_se  \n",
       "560    2.224         19.54       0.004242      0.04639           0.06578  \n",
       "561    1.936         16.97         0.0082      0.02982           0.05738  \n",
       "562    2.888         29.84       0.007256      0.02678           0.02071  \n",
       "563    2.041         22.81       0.007594     0.008878                 0  \n",
       "564    2.362         22.65       0.004625      0.04844           0.07359  \n",
       "565    8.758         118.8       0.006399       0.0431           0.07845  \n",
       "566    7.673         158.7         0.0103      0.02891           0.05198  \n",
       "567    5.203         99.04       0.005769      0.02423            0.0395  \n",
       "568    3.425         48.55       0.005903      0.03731            0.0473  \n",
       "569    5.772         86.22       0.006522      0.06158           0.07117  "
      ]
     },
     "execution_count": 44,
     "metadata": {},
     "output_type": "execute_result"
    }
   ],
   "source": [
    "import pandas as pd\n",
    "data=pd.read_csv(\"BreastCancer.csv\")\n",
    "data.tail(10)\n"
   ]
  },
  {
   "cell_type": "code",
   "execution_count": 2,
   "metadata": {},
   "outputs": [
    {
     "name": "stderr",
     "output_type": "stream",
     "text": [
      "C:\\Users\\divanand\\Anaconda3\\lib\\site-packages\\sklearn\\utils\\deprecation.py:77: DeprecationWarning: Function make_blobs is deprecated; Please import make_blobs directly from scikit-learn\n",
      "  warnings.warn(msg, category=DeprecationWarning)\n"
     ]
    },
    {
     "data": {
      "image/png": "iVBORw0KGgoAAAANSUhEUgAAAXYAAAD8CAYAAABjAo9vAAAABHNCSVQICAgIfAhkiAAAAAlwSFlzAAALEgAACxIB0t1+/AAAADl0RVh0U29mdHdhcmUAbWF0cGxvdGxpYiB2ZXJzaW9uIDIuMi4yLCBodHRwOi8vbWF0cGxvdGxpYi5vcmcvhp/UCwAAIABJREFUeJzt3Xl8jVf+wPHPySJBEEtobE2HjmkTkcRWy6h9aac7SkK1NdVRRZlpqama0ZbS/iyp6nQZKgixlKJSqmjpSBGxFiWohpQIicQSWc7vjyzNcrPe/d7v+/W6L8m953mebx7J9577POd8j9JaI4QQwnG4WDsAIYQQpiWJXQghHIwkdiGEcDCS2IUQwsFIYhdCCAcjiV0IIRyMJHYhhHAwktiFEMLBSGIXQggH42aNgzZo0ED7+flZ49BCCGG3YmNjr2itfcprZ5XE7ufnx/79+61xaCGEsFtKqV8q0k4uxQghhIORxC6EEA5GErsQQjgYSexCCOFgJLELIYSDkcQuhBAORhK7KCExMZH+vR7kt99+s3YoQogqkMQuSpg94y327vmB2TPesnYoQogqkMQuikhMTGTJks/5drgnS5Ysll67EHZIErsoYvaMtxgR6EqwryvPtHaVXrsQdkgSuyiQ31t/rWPu9691RHrtQtghSeyiQH5v3bdW7q+Fby0X6bULYYcksQugZG89n/TahbA/ktgFULK3nk967ULYH0nsotTeej7ptQthXySxi1J76/mk1y4chbNMvrPKQhvCtuz7cQ8/7Etn3g9lt+ty53+WCUgIMyk8+W5O+IfWDsdslNba4gdt166dlhWUhBCWlJiYiH+rFnw71IXeK3M4dvIMd911l7XDqhSlVKzWul157eRSTBmc5WNbZcl5EfbImSbfSWIvg7PXTCktgRs6L5LshS1ztsl3kthLITVTSk/ghs6Ls78JCtvmbJPvJLGXwpk+thlSVgIvfl7kTVDYMmecfCeJ3QBn+9hmSFkJvPh5+dcbrzv1m6Cwbc44+c4ko2KUUueANCAbyCrvrq2tj4qZMPYliFvK3N6//yJM2JaDCnnGoYdI5csfPXDshdw/hsS0HAI+y2bgwMHUOLm2yHkZtTmLFUfu8PNLnkXa2uOIA+F4iv8ul3jdzn5frTEqpofWOqgiB7VlzvixrThD1yOfaqWIjFxecnZqdibDA5TTXLsU9sVZJ9/JBKViyv7YhsNPbMh/Yzv2gmvRF4olcMjt7az5KZNjL3kVafpaRwj4bDGvTZlqF70g4bicdfKdqXrsGtiqlIpVSo0y0T5LZa6hdVIzxfAbW34Cn9rNo2jbH+4wok01p7p2KezL7r1xaK3LfezeG2ftUE3KVIm9i9Y6BBgAjFFKdSveQCk1Sim1Xym1PykpyaiDmWtonbN+bMtX2huboQSemJbDkkN3eK1LNYP7coY3QSFslclLCiil/gWka63fL62NMTdPzTktuGuHYH7Yd7Dcdl3aBzncOzwYvmkM0HXRDX74NbvIc9VcYWSwOwsfrl76/pzohrMQllDRm6dGX2NXStUEXLTWaXlf9wWmG7vf0vw+DM+FZ1ork17zzk/WE8a+xJL/fsKzf33RqZJSha9Htg8C4KN9B/lof2bZbR3s2qUQ9sDoHrtS6g/Aurxv3YBIrfU7ZW1T1R57acPwTNlrd4RCQUIIx2Sx4Y5a6zNa6zZ5D//ykroxLDEt2NlnnAoh7J/dlO0tbaKBKXvtlvhEIIQQVeVwZXstMS149oy3GOYvk22EEKZl6eqndpHYLTG+PP8Yr3cuekpk2J7zkNLDwlwsXf3ULhK7JcaXO2OhIFGUlB4W5mCN6qd2cY3d3OPLHa1QkKg8GQ0lzKXw/BBj53Y41DV2c08LdvYZp0JGQwnzsFYJcLvosZubtWecJiYm8tywIXy+PEp6iVYgo6GEuZi6BLhD9djNLf8TAUCjRo0sXihIru1al7MtmyYsw5olwCWxFzN58mSLHk+WlbMuqb8vzMWaAzIksef55ZdfABg5cqRFjyvXdq1LRkMJc7B2CXBJ7Hnmzp0LQK1atSx2zMTERJZ87txrq1qTtf/4hOOy9oAMuXmaRykFgCXPxxOPPITvb9uKlL51plK31r5pXFqZ4iJtnOj/Q5iOuQZkVPTmaYWGEZr60bZtW20Op0+f1i+9PE7XqddAKxcXXadeA/3Sy+P06dOny90W0BMmTDBLXMVlZ2frVq1aaU839MWJXlpPq13wuDjRS9erXV0nJiZaJBZreuXl0bpudVc9YexLVjl+l/ZBmtzVv8p8dGkfZJX4hCgO2K8rkGMdpsceHR3N4KFheAT0xcO/N251GpKVepmMY9vIOLqVVSuWM2DAAIPbXr9+nTp16vDLL7/QvHlzk8ZV3MGDBwkODqaaK/ytQw3m9y1ZEt8ZeokyIUiIynOq4Y7x8fEMHhqG1yNT8Oo6HPe6vigXV9zr+uLVdThej0xh8NAw4uPjDW7/2WefAZg9qQ8fPpzg4GAAalavzuROhk+/M1zblZvGQpiPQ/TYx4wdT1TcJby6Di+1TfquCIa09WVB+LwSr/n4+HDlyhWzXV+/ePEiTZo0AeD//u//+PXsaae+tisTgoSomor22B0isXvX96HmwJm41/UttU3mtURurJlCSvLlEq8ppRg4cCCrV682WUz5Zs+ezaRJk4DcBO/r62v1ma7WZuim5SvbcnBx0DcyIUzFqRK7i6srzf6+DuXiWmobnZ1FwpynyM7OKvJ8ZmYm1apVY9++fbRrV/7N5oq6ceMGXl5eADz33HMsWrTIZPu2Z5ZYMEUIR+VU19hre9cjK7VkT7ywrOtJ1PKuV+L5L7/8EoC2bduaLJ4vvviiIKkfOnRIknohZU0IGvqnHLnWLoQJOERiDwsNJePYtjLbZBz9hmFhoSWenzlzJvD7OHZjZGdn06pVK5566ilCQkLIzs4mMDDQ6P06ivImBP2zqzufffapQ980FsISHCKxT3xlHBlHt5Jx4bjB1zMuHCfj2DdMGD+2xGsHDhygY8dSMk0l7N+/Hzc3N37++We++uorYmNjcXFxiNNrMhWZjTfMH/763DMWjkwIx1JyELUdatGiBatWLGfw0DAy/fvgEdAHt9o+ZF1P4taRLWT+9C2rViynRYsWRbbLv79gTOEvrTVPP/00q1evxsXFhfT0dKpXr17+hk5o3497+GFfOvN+KLtdDfdviImJ4YEHHrBMYEI4GJPdPFVKuQL7gQta67+U1dZcJQXi4+OZO/8Dli2PJC3lKtrFFXc3N346erhEUgeIiYmhU6dOZGZm4uZW+fe4X3/9tWDse3h4OGPHlvxEICqvYcOGJCUlce7cOe6++25rhyOEzbDGzdPxgOFrIRbSokULFoTPIyX5MtnZWcya8TZ3bt/knnvuMdh+1qxZAFVK6m+//XZBUr906ZIkdRO6dOkSAH5+fqSlpVk5GiHsj0kSu1KqKfAw8Jkp9mcqEydOBOA///mPwdfXr1+Pr2/pY98NSUtLQynF1KlT+dvf/obWmoYNGxodq/idUoqMjAwAateuTXZ2tpUjEsK+mKrHPg94Dcgx0f5MwtXVFVdXV8aMGVNqm8pcX4+KiqJ27doAHDt2jI8++sjoGIVh1apVIzk5Gcj9RGWN+RZC2CujE7tS6i/AZa11bDntRiml9iul9iclJRl72ArbsmULQImP9GfPngXg+eefL3cfWVlZ+Pn5MWTIEDp37kxOTg7333+/6YMVRdSrV4+TJ08C0KpVKytHI4T9MEWPvQvwqFLqHLAS6KmUWla8kdb6E611O611Ox8fHxMctmJ69eoFwLhx44o8n7+wRv5EotLExMTg7u7OL7/8wpYtW/jhhx9MMuZdVMwf//hHtm/fzqlTpxg2bJi1wxHCPlSktm9FH0B3YFN57cxVj700nTp10rk/6u/Iq7VdmpycHP3oo49qQFevXl3fvn3b3GGKMnzyySca0LNmzbJ2KEJYDRWsx+4UM2hWrlwJwM8//1zk+X/84x8G2587dw4XFxc2bNjAf/7zH27evImHh4fZ4xSle+GFFxg/fjyTJk0qKAMhhDDMIYqAVYRSCn9/f44ePUpqaire3t4kJCQUlNPNN3XqVN5++20AkpKSaNCggUXjFGX785//zO7du4mLiyMoKMja4QhhUU5VBKwixo0bx7Fjx9Ba8+mnnwIUSeqpqakopXj77bcZN24cWmtJ6jZo165duLm5ERwcTGJiorXDEcImOU1iz5+MtGLFCqa/+c8iry1fvhxvb28ATpw4wfz58y0en6i4/DHujRs35ubNm1aORgjb4xC1YirC09MTgLCwMAA6duxIZmYmzZs357fffqN79+5s375dRrzYARcXF27dukX16tWpWbMm2dnZUnBNiEKc6q8hIiICr2rQr4Ur2bdSqVatGr/99hvbt29nx44dktTtiKenZ0F5X1fX0hdYEcIZOXxif3RAH5RSKKV45plncFPw6SPVOX3yREGbnj178uiAPlaMUlRFo0aNOHz4MIBJSi8L4SgcPrFPeG0KDerUYMeIGuhptbk2uTbN6rhwbXJt9LTabH+mBg3q1GDipH+WvzNhc1q3bs2mTZvYu3cvL730krXDEcImOHxi79GjB6vWbWLQeth5ruh6pzvOZjH4S1i9/iu6d+9unQCF0R5++GHmzp3LRx99JPV7hMAJEjvkJvfFy6II3VB0zH7YRs3iZVGS1B3AK6+8wnPPPcdLL73E1q1brR2OEFblFIkdICUlhbZNPJj3YxbNFmQx78csQhpXIyUlxdqhCRNZtGgRAQEB9OvXj+PHrbo0gBBW5TSJfdXSRWz/+Tprr7Zi0Yr1rL3aih2n0li9bLG1QxMmlH8z9f777+fKlStWjkYI63CaxF6rdm1mvPse3+3ZT58+fdj5v328M3M2XrVqWTs0YUJKKbKycu+l+Pj4FExmEsKZOE2tGOFc0tPTqZX3pp2TkyNzFIRDkFoxwql5eXnx66+/AhSUixDCWThNSQHhfJo2bcrevXvp0KEDffv2darRMpmZmSQkJHD79m1rhyKqwNPTk6ZNm+Lu7l6l7SWxC4fWvn17Vq1axeDBg5k0aVJBMThHl5CQQK1atfDz85PLUHZGa01ycjIJCQncc889VdqHXIoRDm/QoEH8+9//Zvbs2URERAC5ZZqHDHyC1NRUK0dnHrdv36Z+/fqS1O2QUor69esb9WlLErtwCm+++SZPPfUUI0aMYNeuXWzYsIGotevZuHGjtUMzm4om9fj4eMaMHY93fR9cXF3xru/DmLHjiY+PN3OEojTGviFLYhdOY82aNTRr1oxu3boR8dlC+rVwdfp5DNHR0QS1bU9U3CVqDpxJs7+vo+bAmUTFXSKobXuio6OrtN+UlBQWLlxYpW0feuihcicOvvnmm2zbtq1K+6+Izz//nJdfftks+z579iwdO3bk3nvv5emnn+bOnTsmP4YkduEU8qt85o+U2f9jDJ8+Up2YPT8UVP9USjlVlc/4+HgGDw3D65EpeHUdjntdX5SLK+51ffHqOhyvR6YweGhYlXruZSX27OzsMrfdvHlzuSOZpk+fTu/evSsdly2YNGkSEyZM4NSpU9StW5f//ve/Jj+GJHbhFEqr8nlpgofTVvmcMy8cj4C+eDS5z+DrHk3uw8O/D3Pnf1DpfU+ePJn4+HiCgoJ49dVX2blzJz169CA0NJTWrVsD8Pjjj9O2bVv8/f355JNPCrb18/PjypUrnDt3jvvuu48XXngBf39/+vbty61btwB49tlnWbNmTUH7adOmERISQuvWrTlxIrckd1JSEn369CEkJIQXX3yRu+++2+Bs5K+//pqQkBDatGlDr169Sry+ceNGOnbsSHBwML179+bSpUsAfPfddwQFBREUFERwcDBpaWkkJibSrVs3goKCCAgIYNeuXUX2pbVm+/btDBw4EIARI0awfv36Sp/f8khiF05BqnyWtDwyEg//snu9HgF9WLY8stL7fvfdd2nRogUHDx7kvffeA2Dv3r288847/PTTT0BubZ/Y2Fj2799PeHg4ycnJJfZz6tQpxowZw7Fjx/D29mbt2rUGj9egQQMOHDjA6NGjef/99wH497//Tc+ePTlw4ABPPPEE58+fL7FdUlISL7zwAmvXruXQoUOsXr26RJuuXbsSExNDXFwcQ4YMYfbs2QC8//77fPjhhxw8eJBdu3ZRvXp1IiMj6devHwcPHuTQoUMlFlxPTk7G29sbN7fcAYlNmzblwoULFT2tFSaJXTiN/CqfA1cXHW3w1KqbvPnWu06V1AGup1zFrU7DMtu41fYhLeWqSY7XoUOHIsP3wsPDadOmDQ888AC//vorp06dKrHNPffcU5Ac27Zty7lz5wzu+8knnyzRZvfu3QwZMgSA/v37U7du3RLbxcTE0K1bt4K46tWrV6JNQkIC/fr1o3Xr1rz33nscO3YMgC5dujBx4kTCw8NJSUnBzc2N9u3bs3jxYv71r39x5MiRgtnP+QzN9DfHyCVJ7MKpfPnllwT4KObGZNJsQRZzf8yidSNXxo0bV+Ubhfaqtnc9slIvl9km63oStbxLJruqqFmzZsHXO3fuZNu2bezZs4dDhw4RHBxscHifh4dHwdeurq4FdYBKa1e4TUXKpWity02sY8eO5eWXX+bIkSN8/PHHBXFOnjyZzz77jFu3bvHAAw9w4sQJunXrxvfff0+TJk0YPnx4wfDafA0aNCAlJaUgxoSEBBo3blxunJVldGJXSnkqpfYqpQ4ppY4ppf5tisCEMLUzZ86wMuIz9l7M4Ytrf2LRivV8cbUV+xM1vvVr8dBDD7FgwQJrh2kxYaGhZBwre2RJxtFvGBYWWul916pVi7S0tFJfT01NpW7dutSoUYMTJ04QExNT6WOUp2vXrqxatQqArVu3cu3atRJtOnXqxHfffcfZs2cBuHq15KeT1NRUmjRpAsCSJUsKno+Pj6d169ZMmjSJdu3aceLECX755RcaNmzICy+8wMiRIzlw4ECRfSml6NGjR8H9gSVLlvDYY4+Z5gcuxBQ99gygp9a6DRAE9FdKPWCC/QphMllZWbRo0YIcDTNnvV+iymePHj0ZOXIkY8eOZcyYMdYO1yImvjKOjKNbybhguHZ9xoXjZBz7hgnjx1Z63/Xr16dLly4EBATw6quvlni9f//+ZGVlERgYyNSpU3ngAdOnjGnTprF161ZCQkKIjo7G19e3xKURHx8fPvnkE5588knatGnD008/XWI///rXvxg0aBB//vOfadCgQcHz8+bNIyAggDZt2lC9enUGDBjAzp07C26mrl27lvHjx5fY36xZs5gzZw4tW7YkOTmZkSNHmvxnR2ttsgdQAzgAdCyrXdu2bbUQllSjRg0N6PT09DLbzZkzRwO6c+fOForMPH766acKtdu8ebP2qlNX1+88WDce9alu/o/1uvGoT3X9zoO1V526evPmzWaO1Hxu376tMzMztdZa/+9//9Nt2rSxckSVY+j/ENivK5CLTVIrRinlCsQCLYEPtdY/GmgzChgF0Lx5c1McVogKmTRpEjdv3mTv3r1FrvMaMmHCBFq2bMmjjz6Kh4cHt2/fduhp+QMGDOBg7D7mzv+AZcunkJZylVre9RgWFsqEiH20aNHC2iFW2fnz5xk8eDA5OTlUq1aNTz/91NohWYxJ67ErpbyBdcBYrfXR0tpJPXZhKXv27KFz585MnTqV6dOnV3i7uLg4QkJCgNy6K4Vv4tmD48ePc999hsenC/tg6P/QKvXYtdYpwE6gvyn3K0RVpKen07lzZ+rVq1eppA4QHBxMQkICkFtCVZbZE/bEFKNifPJ66iilqgO9gRPG7lcIY+XfKLt8uewhfaVp0qRJwcgOHx8fTp48abLYhDAnU/TYfYEdSqnDwD7gG631JhPsV4gqe/jhhwE4d+4crq6uVd6Pl5dXwZjjP/3pT+zYscMk8QlhTkYndq31Ya11sNY6UGsdoLWu3GdeIUwsKiqKzZs3ExERwd133230/lxdXcnJyaFly5b07NmTxYsdsyJkYmIi/Xs9yG+//WbtUISRZOapcCgJCQkMGTKEnj17Mnz4cJPtVynFqVOnGDRoEM8//zyTJ0822b5txewZb7F3zw/MnvGW0fuSsr2lW7BgAS1btkQpZbZ7N5LYhcPIycmhWbNmAGb7o1+1ahXTp09n1qxZPPTQQ2Y5hjUkJiayZMnnfDvckyVLFhvda5eyvaXr0qUL27ZtM8mnydJIYhcOI/8PJSUlxaxjz6dOncrKlSuJjo6mUaNGFapJYutmz3iLEYGuBPu68kxrV6N77VK213DZXsgdceXn52fU+S1XRWYxmfohM0+Fqb399tsa0Dt37rTYMffs2aMBDeg7d+5Y7LgVUdGZp1prffHiRV23VnV9caKX1tNq64sTvXS92tV1YmJilY9/9uxZ7e/vX/D9jh07dI0aNfSZM2cKnktOTtZaa33z5k3t7++vr1y5orXW+u6779ZJSUn67Nmz2tXVVcfFxWmttR40aJBeunSp1lrrESNG6NWrVxe0Dw8P11pr/eGHH+qRI0dqrbUeM2aMnjFjhtZa6+joaA3opKSkInFevnxZN23atCCu/JgWL16sx4wZo7XW+urVqzonJ0drrfWnn36qJ06cqLXW+i9/+YvevXu31lrrtLQ0nZmZqd9//3399ttva621zsrK0tevXy/1HOX/nKUxZuap9NiF3YuLi+ONN95g3LhxPPjggxY77gMPPFBQPKpatWp2uzB2fm/dt1ZuOvCt5WKSXntxUrbXciSx2xBZVLjybt26RUhICEop5s+fb/Hj+/n5FVQN9Pb2LjXx2Kr8a+uvdSz6/GsdMcm19sKkbK/lSGK3EeZaVNjR1ahRA4CMjAyrxeDt7V2wIPE999xTogStLQ8jLN5bz2dsr13K9hou22spkthtgDkXFXZkYWFhAJw8eRJ3d3erxuLu7k5OTg4+Pj506tSJqKiogtdMOYzQlErrreczptcuZXtLL9sbHh5O06ZNSUhIIDAwkL/+9a8m/9lNWgSsoqQIWFFjxo4nKu4SXl1LH3edviuCIW19WRA+z4KR2a5NmzbxyCOPsHDhQkaPHm3tcIoYMGAAX3/9NW+99RYjR47Ev1ULvh3qQu+VORw7eYa77rrL7DFUpAjYhLEvQdxS5vYuvX83YVsOKuQZ5oR/aOoQzS4jIwNXV1fc3NzYs2cPo0eP5uDBg9YOq8KMKQImid0GeNf3oebAmbjX9S21Tea1RG6smUJKctXqnjiSy5cv06hRI4KDg632Ubc8kyZNYvbs2dzfqiV9G/zG3N4uFk2SFUnsXTsE88O+8hNdl/ZB7N4bZ6rQLObUqVNFyvYuXLiQ9u3bWzusCjMmsZukHrswzvWUq9Sx4KLC9kxrTaNGjQCIjY21cjSlmzVrFnfddRdTXpvIaw97AbmXNgI+W8xrU6ZapNdeHntM1pVx7733Ehfn2D9jaeQauw2w9KLC9iwgIADInXxi6wtgnD9zilHta5h9GKEQxUlitwHmXFTYkXzwwQf89NNPREdHF7mJZYvyb0xO7lT0T8wcwwiFKE4Suw0w56LCjuL48eOMGzeOZ599lv79bX8dF3MNIxSiIiSx24AWLVqwasVy0jfOIH1XBJnXEtHZWWReSyR9VwTpG2ewasVyu15/0hh37tzh/vvvB7CLkrnmHEZoTqmpqTwxcLDdzqAVv5PEbiPyFxUe0taXG2umkDDnKW6smcKQtr4cjN3HgAEDrB2i1eTPKswvAGXrSuut57PVXvuGDRtYv3Y1GzduNHpfxpTthdwx4jdv3jQ6joro3r07hkbpnT17lo4dO3Lvvffy9NNPF0xCswsVKShj6ocUARMVNXr0aA3oQ4cOWTuUCuvSPqigOFhZjy7tg8wWQ2WKgOXr0XeA9rwnRPfq95DRxy9eBKyyyiuQVZ7MzMwKt33wwQf1vn37Sjw/aNAgvWLFCq211i+++KJeuHBhleOpCikCJhzS9u3b+eijj3j33XcJDAy0djgVtntvXIU6ONYebthnwMMopQoee2JiqN9/LD/s2VPk+T4DHq70vouX7QV47733aN++PYGBgUybNg2AGzdu8PDDD9OmTRsCAgKIiooiPDycixcv0qNHD3r06FFi335+fkyaNIkOHTrQoUMHTp8+DeSW8p04cSI9evRg0qRJ3Lhxg+eff5727dsTHBzMl19+CeR+8hsyZAiBgYE8/fTTBj8Jaq3Zvn07AwcOBGDEiBGsX7++0ufBWmQcu7BJ165do1evXgV/xML0prz2D/bs2YPXQ6/i2fz3N85Go5cCcPuXw6RHv8c/J5UsCVCed999l6NHjxbM9Ny6dSunTp1i7969aK159NFH+f7770lKSqJx48Z89dVXQO51/jp16jBnzhx27NhR6uin2rVrs3fvXiIiInjllVfYtCl3meWff/6Zbdu24erqypQpU+jZsyeLFi0iJSWFDh060Lt3bz7++GNq1KjB4cOHOXz4MCEhISX2n5ycjLe3N25uuSmyadOmXLhwodLnwVqkxy5sjta6oHyq1Mcxnx49erBx3VrSN7/H7fOHi7yWn9Q3rf+C7t27G32srVu3snXrVoKDgwkJCeHEiROcOnWK1q1bs23bNiZNmsSuXbuoU6dOhfY3dOjQgn/37NlT8PygQYMKFi/funUr7777LkFBQXTv3p3bt29z/vx5vv/+e4YNGwZAYGCgwU+D2sCMfFufN1GY9NiFzenWrRsAFy9exMVF+h7m1KNHD1Yui+Dp4c/h+eLnBc+nfT2HqGURJknqkJsoX3/9dV588cUSr8XGxrJ582Zef/11+vbty5tvvlnu/gon2cJfFy4NrLVm7dq1tGrVqsztDWnQoAEpKSlkZWXh5uZGQkICjRs3LjcuWyF/NcKmLF68mN27d7NmzRp8fUuvnSNMJyUlhRqN7+VG7Jdc+XQkN2K/pIZvy3IXlC5L8bK9/fr1Y9GiRaSnpwNw4cIFLl++zMWLF6lRowbDhg3jH//4R0Htn/LK/uZXz4yKiqJTp04G2/Tr148PPvigoPedX16gW7duLF++HICjR49y+PDhEtsqpeiNLrIkAAAXMklEQVTRo0fB8ntLlizhscceq9Q5sCajE7tSqplSaodS6rhS6phSqmSdSiGKMbSoyPARz/H888/z+OOP89RTT1k7RKexaGkk107H0fz6UdatXErz60e5Fn+Qz5etqPI+i5ft7du3L6GhoXTq1InWrVszcOBA0tLSOHLkCB06dCAoKIh33nmHN954A4BRo0YxYMAAgzdPIbdyY8eOHZk/fz5z58412Gbq1KlkZmYSGBhIQEAAU6dOBWD06NGkp6cTGBjI7Nmz6dChg8HtZ82axZw5c2jZsiXJycmMHDmyyufD0oyu7qiU8gV8tdYHlFK1gFjgca31T6VtI9UdnVt0dDSDh4bhEdAXD//euNVpSFbqZdLiNpMet5mvNqxz6nH7plCR6o75nhj0NH/u3IlXxo/DxcWF7Oxs5s0PZ/eeGNatjip/Bxbm5+fH/v37bb6shLGsWt1Ra50IJOZ9naaUOg40AUpN7MJ5FV5UxKPJ77+07nV9qddzJDVbdWbw0DAOxu5z2pm2llY8ebu6uvL3iRP4u5XiEcYz6TV2pZQfEAz8aOC1UUqp/Uqp/UlJSaY8rLAjc+aF5/bUmxjuTXo0uQ8P/z7Mnf+BhSMT9uLcuXMO31s3lskSu1LKC1gLvKK1vl78da31J1rrdlrrdj4+PqY6rLAzyyMj8fDvXWYbj4A+LFseaaGIhHA8JknsSil3cpP6cq31F6bYp3BM11Ou4iaLighhVqYYFaOA/wLHtdZzjA9JODJZVEQI8zNFj70LMBzoqZQ6mPd4yAT7FQ5IFhWxXampqQwZ+ISU7XUARid2rfVurbXSWgdqrYPyHptNEZxwPLKoiO3asGEDUWvXS9nePAsWLKBly5Yopbhy5YpFYjEVmXkqLEoWFbFdq5ctpl8LV1YvM34xE2sn9qysrCpvm69Lly5s27aNu+++2+h9WZokdgMMzYocM3a8FKQyEVlUxDY8OqBPkfK8P8b8j08fqU7Mnh+KPP/ogD6V3re9l+0FCA4Oxs/Pr9I/uy2QImDFFJ4VWXPgTOrkzYqMittGRNv2rFqxXBKPCbRo0YIF4fNYED7P2qE4rQmvTWHPnv+x+nHo7vd7Krg0wQPwYMfZLAZ/CRMn/bPS+7b3sr32TnrshRSeFenVdTjudX1RLq641/XFq+twvB6ZwuChYdJzFw6hR48erFq3iUHrYee5opcu8pP66vVfOWXZXnsnib0Qa8yKlMs+wpp69OjB4mVRhG4oWjMqbKNm8bIok5ftPXjwIAcPHuT06dOMHDmSP/7xj8TGxtK6dWtef/11pk+fXqH9VaZsb/4xz58/X1B7xZ5qq1eFJPZCLD0rMjo6mqC27YmKu0TNgTNp9vd11Bw4k6i4SwS1bU90dLRJjiNEWVJSUmjbxIN5P2bRbEEW837MIqRxNacu22vvJLEXYslZkfmXfTy7j+JOxm1+W/Yq599/gt+WvcqdjNt4dh8ll32ERaxauojtP19n7dVWLFqxnrVXW7HjVJpRo2McoWxveHg4TZs2JSEhgcDAQP76179W+XxYmtFle6vCVsv2etf3oebAmbjXLX2Bh8xridxYM4WU5LJnT5ZnzNjxLN1+kBtnD+LVph9egX0LytemH95K+qEt1PRrwzO9Q+QGo6i0ypTtDRv0OB06d2Ps+FcKyvZ+MH8e+/bsYvlq21vAWcr2ll+2VxJ7IWPGjicq7hJeXYeX2iZ9VwRD2voanWxredfjZkYWDQe+afCafsaF41xeM50aHu6kpSQbdSzhfCqT2O2NJPbyE7tciinEkrMi09PT8QrqX+aNWq82/biRXvp1RiGckZTtLZ+MYy8kf1bk4KFhZPr3wSOgD261fci6nkTG0W/IOPaNyWZFKhcXvAL7ltnGq00/0g4YP71bCJHr9u3bXLp8matXr5KdlYWrmxv16tWjUcOGeHp6Wjs8k5HEXkz+rMi58z9g2fIppKVcpZZ3PYaFhTIhwnSr+uisOxW6UUtWpkmOJ5yP1trhh/VVRmpqKvFnzuBSvTYudZvg6uqOzs7k2s3rJB8/Tos//KHC4+jNzdhL5E5xKaayY8XzZ0WmJF8mOzuLlOTLLAifZ9L6JbXq1K1Q+VqvOnVNdkzhPDw9PUlOTjY6QTiK27dvE3/mDK51fHHxqo9ydQdAubrj4lUf1zq+xJ85w+3bt60caW5ST05ONuoThMP32G21RMDwYcNYGbsV924jSm1z68gWnhk+zIJRCUeRP0xPlqHMdfXqVW7cyUbdKv2NTmekExsbS7161l8LwNPTk6ZNm1Z5e4ceFRMfH09Q2/YlFk7Ol3HhOOkbZ1hl4WRbjk0IR2PJoczmJKNisO2Fk6V8rRCW42xLMjp0Yrf1hZOlfK0QluFsSzI6dGK3h3dpS9yoFcLZhYWGcvPw12W2caQlGR06sTvbu7QQwrBffzlL6v5NTrMko0Mndlk4WQjRvXt3Nm7cyLgxf3Oae1oOndhl4WQhnNu9997Ld999x7p165g3b57T3NNy6OGOUGgcexklAhzpP1SYXnx8PHPmhbM8MpLrKVep7V2PsNBQJr4yzmF6eI5Ga42npyd37txh586dPPjgg9YOySQsOtxRKbVIKXVZKXXUFPszJRl5Iowhi6HYn5ycHFxcXLhz5w4HDhxwmKReGSbpsSulugHpQITWOqC89rZatleIwmQSmf25c+cOHh4eAJw6dYqWLVtaOSLTsmiPXWv9PeAYI/uFyGPLE9xESTdu3ChI6hcvXnS4pF4ZDn3zVAhj2PoEN/G75ORkvLy8gNy6ML6+pZcOcAYWS+xKqVFKqf1Kqf1SmEjYg4pOcEu9eoURI0awZcsWsrKyLBSdyJeQkFCw8MaNGzeoW1cqolossWutP9Fat9Nat/Px8bHUYYWosopOcFNu7kRERNC/f3/c3d1RSqGU4g9/+ANvvPEGP/30k5TPNZOTJ0/SrFkzIPf6eo0aNawckW2QSzFClKKiE9xeGj0arTVaa86dO8esWbNo06YNZ8+e5Z133sHf3x8XF5eChP/ggw/y8ccfk5wsa9kaY9++ffzpT38CIDs7G3d3dytHZDtMNSpmBdAdaABcAqZprf9bWnsZFSPsgalGxeTk5BATE0NkZCSRkZFcu3atRBulFKGhoYSFhdG7d29JUuXYtm0bffr0oXbt2qSkpDjNSlEVHRXj8BOUhDCGOSe43bhxg02bNhEZGcmGDRsMtmnevDlhYWEMHTqUgIAAp0lgZVm9ejWDBw/G39+fo0dtbuqMWVU0sRd8hLTko23btloIe3H69Gk9Zux4Xaeej3ZxcdV16vnoMWPH69OnT5vleOfPn9fvvfeeDg4O1oDBR9euXfXChQt1UlKSWWKwVR999JEGdN++fa0dilUA+3UFcqz02IWwAzk5Oezbt4/IyEiWL19e6vX5oUOHEhoaSt++falWrZqFozSv6dOnM23aNEaMGMHnn39u7XCsQi7FCOEEbt68yebNm4mMjGTdunUG2zRt2pTQ0FBCQ0MJDAy0y8s5Y8aMYeHChUyePJmZM2daOxyrkcQuhBO7cOECUVFRREZGEhsba7BNp06dCAsLY9CgQTRsWPZ4fWt68sknWbduHXPmzGHChAnWDseqJLELIYrQWrN///6C0TmXLxseoz948GDCwsLo169fwRR9a+nYsSN79+4lIiKC4cOHWzUWWyCJXQhRIbdu3SI6OprIyEjWrl1rsE3jxo0LLucEBQWZ/HJOamoqz458gc//+yl16tRBa03Tpk25ePEimzZt4uGHHzbp8eyVJHYhhFESExNZtWoVkZGR7N2712Cbjh07EhoayuDBg7nrrruqfKylS5fyzDPPsHTpUsLCwnBxyZ07uXv3brp06VLl/ToaSexCCJPTWnPgwAFWrFhBZGQkiYmJBtsNHDiQ0NBQBgwYgKenZ7n77dnvIfacukTnexuxfWtujfvDhw/TunVrk8Zv7ySxCyEs5vbt22zZsoXIyEhWrVplsE2jRo0KZtdOfuNNtn29ueA1z9p1qR82h4uLXkZn3Ch4vnf/h/gm+iuzx28vJLELIazu0qVLrF69muXLlxMTE1PkNeXmQcNB0/BsHlhiu9u/HCY9+j02rf+C7t27Wyha22fRhTaEEMKQRo0a8fLLL7Nnz56CWZE5OTnExcUx+KnHSVozndvnDxfZRpK68SSxCyEsSilFUFAQK1eu5MsvVpOy6b0ir6d9PYeVyyIkqRvBzdoBCCGc15UrV8C7Cdf3ruPOoU1UD3mUGr4tSUlJsXZodk167EIIqxk38VXuJP6MX/ox1q1cSvPrR7kWf5DPl62wdmh2TRK7EMIqjhw5QnpaGqFDnmZ/zA/06dOHvf/bxayZM6hVy8va4dk1GRUjhLCK/Nmr1shB9kpGxQghbNa0adMASp3gJIwjiV0IYVHp6elMnz6dYcOGGVWGQJROErsQwqKaNGkCQEREhJUjcVyS2IUQFrNjxw6uX7/Otm3b7HLBD3shiV0IYRFaa3r27EnNmjXp1auXtcNxaJLYhRAW8eyzzwJyw9QSTJLYlVL9lVInlVKnlVKTTbFPIYTjuHTpEhEREbzxxhvUqlXL2uE4PKPHsSulXIGfgT5AArAPGKq1/qm0bWQcuxDORcasm4Ylx7F3AE5rrc9ore8AK4HHTLBfIYQDWLlyJQCHDh2yciTOwxSJvQnwa6HvE/KeE0I4uezsbIYOHUpAQACBgSXrrgvzMEViNzRmqcTnLaXUKKXUfqXU/qSkJBMcVghhS+Lj4xkzdjze9X1wcXXFu74Pzf3uASA2NtbK0TkXUyT2BKBZoe+bAheLN9Jaf6K1bqe1bufj42OCwwpnYyhxjBk7nvj4eGuH5vSio6MJatueqLhL1Bw4k2Z/X0fNgTNJ822HR81afPvtt9YO0amY4uapG7k3T3sBF8i9eRqqtT5W2jZy81RUVnR0NIOHhuER0BcP/9641WlIVuplMo5tI+PoVlatWM6AAQOsHaZTio+PJ6hte7wemYJHk/tKvJ5x4TjpG2dwMHYfLVq0sEKEjsNiN0+11lnAy8AW4DiwqqykLgRUrvcdHx/P4KFheD0yBa+uw3Gv64tyccW9ri9eXYfj9cgUBg8Nk567lcyZF577hmsgqQN4NLkPD/8+zJ3/gYUjc14mGceutd6stf6j1rqF1vodU+xTOK7SPrZHxV0iqG17oqOji7SXxGHblkdG4uHfu8w2HgF9WLY80kIRCZl5KiyqKr1vSRy27XrKVdzqNCyzjVttH9JSrlooIiGJXVhUVXrfkjhsW23vemSlXi6zTdb1JGp517NQREISu7CoqvS+JXHYtrDQUDKObSuzTcbRbxgWFmqhiIQkdmFRVel9S+KwbRNfGUfG0a1kXDhu8PWMC8fJOPYNE8aPtXBkzksSu7CoqvS+JXHYthYtWrBqxXLSN84gfVcEmdcS0dlZZF5LJH1XBOkbZ7BqxXIZ6mhBktiFRVWl9y2Jw/YNGDCAg7H7GNLWlxtrppAw5ylurJnCkLa+HIzdJ3MMLMzoCUpVIROUnJcxk1ni4+OZO/8Dli2PJC3lKrW86zEsLJQJ48dKUhdOoaITlCSxC4srmEXq3wePgD641fYh63oSGUe/IePYNzKLVIhSWLJsrxCVIh/bhTAv6bELIYSdkB67E5Gqh0KIwiSx27nK1l0RQjg+N2sHIKqucN2VwiNM3Ov64t51OO73tGPw0DAplyqEk5Eeux2TqodCCEMksdsxqXoohDBEErsdk6qHQghDJLHbMal6KIQwRBK7HZOqh0IIQySx2zGpeiiEMESGO9qx/KqHg4eGkVlG3RUZ6iiEc5Eeu52TuitCiOKkVowQQtgJqRUjhBBOyqjErpQapJQ6ppTKUUqV+y4ihBDC/IztsR8FngS+N0EsQgghTMCoUTFa6+MASinTRCOEEMJoFrvGrpQapZTar5Tan5SUZKnDCiGE0ym3x66U2gbcZeClf2qtv6zogbTWnwCfQO6omApHKIQQolLKTexa67LLB1ZBbGzsFaXUL0bupgFwxRTxmJjEVXm2GpvEVXm2GpujxHV3RRpZZeap1trH2H0opfZXZDynpUlclWersUlclWersTlbXMYOd3xCKZUAdAK+UkptMU1YQgghqsrYUTHrgHUmikUIIYQJ2PPM00+sHUApJK7Ks9XYJK7Ks9XYnCouq9SKEUIIYT723GMXQghhgM0ndqXUhLx6NEeVUiuUUp7FXvdQSkUppU4rpX5USvnZSFzPKqWSlFIH8x5/tVBc4/NiOqaUesXA60opFZ53vg4rpUJsJK7uSqnUQufrTTPGskgpdVkpdbTQc/WUUt8opU7l/Vu3lG1H5LU5pZQaYUNxZRc6dxtMGVcZsVWoVpRSqr9S6mTe79xkG4rrnFLqSN45M2m52VLiek8pdSLv726dUsq7lG2NP19aa5t9AE2As0D1vO9XAc8Wa/MS8J+8r4cAUTYS17PAAgufrwBy6/fUIPfG+Dbg3mJtHgKiAQU8APxoI3F1BzZZ6Dx1A0KAo4Wemw1Mzvt6MjDLwHb1gDN5/9bN+7qutePKey3dCufsPqAVsBNoV8p2rkA88AegGnAIuN/aceW1Owc0sOD56gu45X09q5TfMZOcL5vvsZObCKorpdzITQwXi73+GLAk7+s1QC9lmeI15cVlDfcBMVrrm1rrLOA74IlibR4DInSuGMBbKeVrA3FZjNb6e+BqsacL/x4tAR43sGk/4But9VWt9TXgG6C/DcRldoZi01of11qfLGfTDsBprfUZrfUdYCW5P5O14zKrUuLamvf7DxADNDWwqUnOl00ndq31BeB94DyQCKRqrbcWa9YE+DWvfRaQCtS3gbgAnsr72LVGKdXMnDHlOQp0U0rVV0rVILd3Xvy4BecrT0Lec9aOC6CTUuqQUipaKeVv5piKa6S1TgTI+7ehgTbWOHcViQvAU+XWYopRSlkl+ZfCGuesojSwVSkVq5QaZeFjP0/uJ+fiTHK+bDqx511PfAy4B2gM1FRKDSvezMCmZh3qU8G4NgJ+WutAci89LMHMdG61zVnk9iS/JvdjXFaxZhY/XxWM6wBwt9a6DfABsN6cMVWRxc9dJTTXuTMYQ4F5SilbWejWls9ZF611CDAAGKOU6maJgyql/knu7/9yQy8beK7S58umEzvQGzirtU7SWmcCXwCdi7VJIK/3l3dZpA4lP85aPC6tdbLWOiPv20+BtmaOKf+4/9Vah2itu5F7Hk4Va1JwvvI0xQKXkcqLS2t9XWudnvf1ZsBdKdXA3HEVcin/klTev5cNtLHGuatIXGitL+b9e4bca8vBZo6roqzy+1YRhc7ZZXInWnYw9zHzbrj/BQjTeRfVizHJ+bL1xH4eeEApVSPvunkv4HixNhuA/NEJA4HtpZwwi8ZV7Lr1o8VfNxelVMO8f5uTuwjKimJNNgDP5I2OeYDcy0iJ1o5LKXVX/r0RpVQHcn83k80dVyGFf49GAIYql24B+iql6uZ9auub95xV48qLxyPv6wZAF+AnM8dVUfuAe5VS9yilqpE7wMHko3YqSylVUylVK/9rcv8vj5a9ldHH7A9MAh7VWt8spZlpzpc57gib+O7yv4ET5J70pYAHMD3v5AB4AquB08Be4A82EtdM4Bi5lx12AH+yUFy7yP2jPgT0ynvub8Df8r5WwIfk3nk/QhmjBiwc18uFzlcM0NmMsawg995IJrk9pJHk3pf5ltxPEt8C9fLatgM+K7Tt83m/a6eB52whLnI/LR7JO3dHgJEWOmdP5H2dAVwCtuS1bQxsLrTtQ8DPeb9z/7SFuMgddXIo73HMQnGdJvf6+cG8x3+Kx2Wq8yUzT4UQwsHY+qUYIYQQlSSJXQghHIwkdiGEcDCS2IUQwsFIYhdCCAcjiV0IIRyMJHYhhHAwktiFEMLB/D86Zi6GV2ScPgAAAABJRU5ErkJggg==\n",
      "text/plain": [
       "<Figure size 432x288 with 1 Axes>"
      ]
     },
     "metadata": {},
     "output_type": "display_data"
    }
   ],
   "source": [
    "#KNN Classifier \n",
    "import mglearn \n",
    "mglearn.plots.plot_knn_classification(n_neighbors=3)"
   ]
  },
  {
   "cell_type": "code",
   "execution_count": 5,
   "metadata": {},
   "outputs": [
    {
     "data": {
      "text/plain": [
       "KNeighborsClassifier(algorithm='auto', leaf_size=30, metric='minkowski',\n",
       "           metric_params=None, n_jobs=1, n_neighbors=5, p=2,\n",
       "           weights='uniform')"
      ]
     },
     "execution_count": 5,
     "metadata": {},
     "output_type": "execute_result"
    }
   ],
   "source": [
    "from sklearn.datasets import load_breast_cancer\n",
    "from sklearn.neighbors import KNeighborsClassifier\n",
    "from sklearn.model_selection import train_test_split\n",
    "\n",
    "import matplotlib.pyplot as plt\n",
    "%matplotlib inline\n",
    "\n",
    "cancer=load_breast_cancer()\n",
    "#First we create a training set and a testing set\n",
    "X_train, X_test, y_train, y_test = train_test_split(cancer.data, cancer.target, stratify=cancer.target,random_state=42)\n",
    "#Second we instantiate a k-NN class and fit with our training set.\n",
    "knn = KNeighborsClassifier()\n",
    "knn.fit(X_train,y_train)"
   ]
  },
  {
   "cell_type": "code",
   "execution_count": 49,
   "metadata": {},
   "outputs": [
    {
     "name": "stdout",
     "output_type": "stream",
     "text": [
      "Accuracy of KNN n-5, on the training set:0.946\n",
      "Accuracy of KNN n-5, on the test set:0.930\n"
     ]
    }
   ],
   "source": [
    "#we evaluate the accuracy of the model by comparing the predictions \n",
    "print(\"Accuracy of KNN n-5, on the training set:{:.3f}\".format(knn.score(X_train,y_train)))\n",
    "print(\"Accuracy of KNN n-5, on the test set:{:.3f}\".format(knn.score(X_test,y_test)))\n"
   ]
  },
  {
   "cell_type": "code",
   "execution_count": 22,
   "metadata": {},
   "outputs": [
    {
     "data": {
      "text/plain": [
       "<matplotlib.legend.Legend at 0x2804193c048>"
      ]
     },
     "execution_count": 22,
     "metadata": {},
     "output_type": "execute_result"
    },
    {
     "data": {
      "image/png": "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\n",
      "text/plain": [
       "<Figure size 432x288 with 1 Axes>"
      ]
     },
     "metadata": {},
     "output_type": "display_data"
    }
   ],
   "source": [
    "X_train,X_test,y_train,y_test=train_test_split(cancer.data, cancer.target, stratify=cancer.target, random_state=66)\n",
    "\n",
    "training_accuracy=[]\n",
    "test_accuracy=[]\n",
    "\n",
    "neighbors_settings=range(1,11)\n",
    "\n",
    "for n_neighbors in neighbors_settings:\n",
    "    clf=KNeighborsClassifier(n_neighbors=n_neighbors)\n",
    "    clf.fit(X_train,y_train)\n",
    "    training_accuracy.append(clf.score(X_train,y_train))\n",
    "    test_accuracy.append(clf.score(X_test,y_test))\n",
    "    \n",
    "plt.plot(neighbors_settings, training_accuracy, label=\"Accuracy of the Training Set\")\n",
    "plt.plot(neighbors_settings,test_accuracy, label=\"Accuracy of the test set\")\n",
    "plt.ylabel(\"Accuracy \")\n",
    "plt.xlabel(\"Number of Neighbors\")\n",
    "plt.legend()\n"
   ]
  },
  {
   "cell_type": "code",
   "execution_count": 4,
   "metadata": {},
   "outputs": [
    {
     "data": {
      "text/plain": [
       "LogisticRegression(C=1.0, class_weight=None, dual=False, fit_intercept=True,\n",
       "          intercept_scaling=1, max_iter=100, multi_class='ovr', n_jobs=1,\n",
       "          penalty='l2', random_state=None, solver='liblinear', tol=0.0001,\n",
       "          verbose=0, warm_start=False)"
      ]
     },
     "execution_count": 4,
     "metadata": {},
     "output_type": "execute_result"
    }
   ],
   "source": [
    "#Using LogisticRegression on the cancer dataset.\n",
    "from sklearn.datasets import load_breast_cancer\n",
    "from sklearn.linear_model import LogisticRegression\n",
    "from sklearn.model_selection import train_test_split\n",
    "\n",
    "import matplotlib.pyplot as plt\n",
    "%matplotlib inline\n",
    "\n",
    "cancer= load_breast_cancer()\n",
    "\n",
    "X_train,X_test,y_train,y_test=train_test_split(cancer.data, cancer.target, stratify=cancer.target, random_state=42)\n",
    "\n",
    "log_reg = LogisticRegression()\n",
    "log_reg.fit(X_train,y_train)\n"
   ]
  },
  {
   "cell_type": "code",
   "execution_count": 5,
   "metadata": {},
   "outputs": [
    {
     "name": "stdout",
     "output_type": "stream",
     "text": [
      "Accuracy on the training subset:0.955399 \n",
      "Accuracy on the test subset:0.958042\n"
     ]
    }
   ],
   "source": [
    "print(\"Accuracy on the training subset:{:3f} \".format(log_reg.score(X_train,y_train)))\n",
    "print(\"Accuracy on the test subset:{:3f}\".format(log_reg.score(X_test,y_test)))\n"
   ]
  },
  {
   "cell_type": "code",
   "execution_count": 55,
   "metadata": {},
   "outputs": [
    {
     "name": "stdout",
     "output_type": "stream",
     "text": [
      "Accuracy on the training subset:0.971831\n",
      "Accuracy on the test subset:0.965035\n"
     ]
    }
   ],
   "source": [
    "log_reg100=LogisticRegression(C=100)\n",
    "log_reg100.fit(X_train,y_train)\n",
    "print(\"Accuracy on the training subset:{:3f}\".format(log_reg100.score(X_train,y_train)))\n",
    "print(\"Accuracy on the test subset:{:3f}\".format(log_reg100.score(X_test,y_test)))\n"
   ]
  },
  {
   "cell_type": "code",
   "execution_count": 56,
   "metadata": {},
   "outputs": [
    {
     "name": "stdout",
     "output_type": "stream",
     "text": [
      "Accuracy on the training subset:0.936620\n",
      "Accuracy on the test subnet:0.930070\n"
     ]
    }
   ],
   "source": [
    "log_reg001=LogisticRegression(C=0.01)\n",
    "log_reg001.fit(X_test,y_test)\n",
    "print(\"Accuracy on the training subset:{:3f}\".format(log_reg001.score(X_train,y_train)))\n",
    "print(\"Accuracy on the test subnet:{:3f}\".format(log_reg001.score(X_test,y_test)))\n",
    "\n"
   ]
  },
  {
   "cell_type": "markdown",
   "metadata": {},
   "source": [
    "# For Logistic Regression:"
   ]
  },
  {
   "cell_type": "markdown",
   "metadata": {},
   "source": [
    "y=w[0]*x[0]+w[1]*x[1]+.....+w[p]*x[p]+b>0"
   ]
  },
  {
   "cell_type": "code",
   "execution_count": 27,
   "metadata": {},
   "outputs": [
    {
     "name": "stdout",
     "output_type": "stream",
     "text": [
      "w[0]: 0.393906  b: -0.031804\n"
     ]
    },
    {
     "data": {
      "image/png": "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\n",
      "text/plain": [
       "<Figure size 576x576 with 1 Axes>"
      ]
     },
     "metadata": {},
     "output_type": "display_data"
    }
   ],
   "source": [
    "import mglearn \n",
    "mglearn.plots.plot_linear_regression_wave()\n"
   ]
  },
  {
   "cell_type": "code",
   "execution_count": 60,
   "metadata": {},
   "outputs": [
    {
     "data": {
      "text/plain": [
       "<matplotlib.legend.Legend at 0x28041f3f8d0>"
      ]
     },
     "execution_count": 60,
     "metadata": {},
     "output_type": "execute_result"
    },
    {
     "data": {
      "image/png": "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\n",
      "text/plain": [
       "<Figure size 432x288 with 1 Axes>"
      ]
     },
     "metadata": {},
     "output_type": "display_data"
    }
   ],
   "source": [
    "\n",
    "plt.plot(log_reg.coef_.T,\"o\",label=\"C=1\")\n",
    "plt.plot(log_reg100.coef_.T,\"^\",label=\"C=100\")\n",
    "plt.plot(log_reg001.coef_.T,\"v\",label=\"C=0.01\")\n",
    "plt.xticks(range(cancer.data.shape[1]),cancer.feature_names,rotation=90)\n",
    "plt.ylim(-5,5)\n",
    "plt.xlabel(\"Coefficient Index\")\n",
    "plt.ylabel(\"Coefficinet Magnitude\")\n",
    "plt.legend()\n"
   ]
  },
  {
   "cell_type": "code",
   "execution_count": 5,
   "metadata": {},
   "outputs": [
    {
     "name": "stdout",
     "output_type": "stream",
     "text": [
      "Accuracy on the training subset:1.000\n",
      "Accuracy on the test subset:0.972\n"
     ]
    }
   ],
   "source": [
    "from sklearn.ensemble import RandomForestClassifier\n",
    "from sklearn.model_selection import train_test_split\n",
    "from sklearn.datasets import load_breast_cancer\n",
    "\n",
    "import matplotlib.pyplot as plt\n",
    "import numpy as np\n",
    "%matplotlib inline\n",
    "\n",
    "cancer= load_breast_cancer()\n",
    "\n",
    "X_train, X_test,y_train,y_test=train_test_split(cancer.data,cancer.target, random_state=0)\n",
    "\n",
    "forest=RandomForestClassifier(n_estimators=100,random_state=0)\n",
    "forest.fit(X_train,y_train)\n",
    "\n",
    "print(\"Accuracy on the training subset:{:.3f}\".format(forest.score(X_train,y_train)))\n",
    "print(\"Accuracy on the test subset:{:.3f}\".format(forest.score(X_test,y_test)))\n"
   ]
  },
  {
   "cell_type": "code",
   "execution_count": 6,
   "metadata": {},
   "outputs": [
    {
     "data": {
      "image/png": "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\n",
      "text/plain": [
       "<Figure size 432x288 with 1 Axes>"
      ]
     },
     "metadata": {},
     "output_type": "display_data"
    }
   ],
   "source": [
    "n_features=cancer.data.shape[1]\n",
    "plt.barh(range(n_features),forest.feature_importances_,align='center')\n",
    "plt.yticks(np.arange(n_features),cancer.feature_names)\n",
    "plt.xlabel(\"Features Importance\")\n",
    "plt.ylabel(\"Feature\")\n",
    "plt.show()"
   ]
  }
 ],
 "metadata": {
  "kernelspec": {
   "display_name": "Python 3",
   "language": "python",
   "name": "python3"
  },
  "language_info": {
   "codemirror_mode": {
    "name": "ipython",
    "version": 3
   },
   "file_extension": ".py",
   "mimetype": "text/x-python",
   "name": "python",
   "nbconvert_exporter": "python",
   "pygments_lexer": "ipython3",
   "version": "3.6.5"
  }
 },
 "nbformat": 4,
 "nbformat_minor": 2
}

  {
   "cell_type": "markdown",
   "metadata": {},
   "source": [
    "Using the Breast Cancer Wisconsin (Diagnostic) Database, we can create a classifier that can help diagnose patients and predict the likelihood of a breast cancer. A few machine learning techniques will be explored. In this exercise, Support Vector Machine is being implemented with 99% accuracy."
   ]
  },
  {
   "cell_type": "code",
   "execution_count": 1,
   "metadata": {},
   "outputs": [],
   "source": [
    "import numpy as np\n",
    "import pandas as pd\n",
    "import matplotlib.pyplot as plt\n",
    "from sklearn.metrics import classification_report\n",
    "from sklearn.metrics import confusion_matrix\n",
    "from sklearn.metrics import accuracy_score\n",
    "from sklearn.model_selection import train_test_split\n",
    "from sklearn.model_selection import cross_val_score\n",
    "from sklearn.model_selection import KFold\n",
    "from sklearn.tree import DecisionTreeClassifier\n",
    "from sklearn.neighbors import KNeighborsClassifier\n",
    "from sklearn.naive_bayes import GaussianNB\n",
    "from sklearn.pipeline import Pipeline\n",
    "from sklearn.preprocessing import StandardScaler\n",
    "from sklearn.model_selection import GridSearchCV\n",
    "from sklearn.svm import SVC\n",
    "import time"
   ]
  },
  {
   "cell_type": "markdown",
   "metadata": {},
   "source": [
    "# Exploratory analysis"
   ]
  },
  {
   "cell_type": "markdown",
   "metadata": {},
   "source": [
    "Load the dataset and do some quick exploratory analysis."
   ]
  },
  {
   "cell_type": "code",
   "execution_count": 2,
   "metadata": {},
   "outputs": [
    {
     "data": {
      "text/html": [
       "<div>\n",
       "<style scoped>\n",
       "    .dataframe tbody tr th:only-of-type {\n",
       "        vertical-align: middle;\n",
       "    }\n",
       "\n",
       "    .dataframe tbody tr th {\n",
       "        vertical-align: top;\n",
       "    }\n",
       "\n",
       "    .dataframe thead th {\n",
       "        text-align: right;\n",
       "    }\n",
       "</style>\n",
       "<table border=\"1\" class=\"dataframe\">\n",
       "  <thead>\n",
       "    <tr style=\"text-align: right;\">\n",
       "      <th></th>\n",
       "      <th>id</th>\n",
       "      <th>diagnosis</th>\n",
       "      <th>radius_mean</th>\n",
       "      <th>texture_mean</th>\n",
       "      <th>perimeter_mean</th>\n",
       "      <th>area_mean</th>\n",
       "      <th>smoothness_mean</th>\n",
       "      <th>compactness_mean</th>\n",
       "      <th>concavity_mean</th>\n",
       "      <th>concave points_mean</th>\n",
       "      <th>symmetry_mean</th>\n",
       "      <th>fractal_dimension_mean</th>\n",
       "      <th>radius_se</th>\n",
       "      <th>texture_se</th>\n",
       "      <th>perimeter_se</th>\n",
       "      <th>area_se</th>\n",
       "      <th>smoothness_se</th>\n",
       "      <th>compactness_se</th>\n",
       "      <th>concavity_se</th>\n",
       "      <th>concave points_se</th>\n",
       "    </tr>\n",
       "  </thead>\n",
       "  <tbody>\n",
       "    <tr>\n",
       "      <th>0</th>\n",
       "      <td>1</td>\n",
       "      <td>842302</td>\n",
       "      <td>M</td>\n",
       "      <td>17.99</td>\n",
       "      <td>10.38</td>\n",
       "      <td>122.80</td>\n",
       "      <td>1001.0</td>\n",
       "      <td>0.11840</td>\n",
       "      <td>0.27760</td>\n",
       "      <td>0.3001</td>\n",
       "      <td>0.14710</td>\n",
       "      <td>0.2419</td>\n",
       "      <td>0.07871</td>\n",
       "      <td>1.0950</td>\n",
       "      <td>0.9053</td>\n",
       "      <td>8.589</td>\n",
       "      <td>153.40</td>\n",
       "      <td>0.006399</td>\n",
       "      <td>0.04904</td>\n",
       "      <td>0.05373</td>\n",
       "    </tr>\n",
       "    <tr>\n",
       "      <th>1</th>\n",
       "      <td>2</td>\n",
       "      <td>842517</td>\n",
       "      <td>M</td>\n",
       "      <td>20.57</td>\n",
       "      <td>17.77</td>\n",
       "      <td>132.90</td>\n",
       "      <td>1326.0</td>\n",
       "      <td>0.08474</td>\n",
       "      <td>0.07864</td>\n",
       "      <td>0.0869</td>\n",
       "      <td>0.07017</td>\n",
       "      <td>0.1812</td>\n",
       "      <td>0.05667</td>\n",
       "      <td>0.5435</td>\n",
       "      <td>0.7339</td>\n",
       "      <td>3.398</td>\n",
       "      <td>74.08</td>\n",
       "      <td>0.005225</td>\n",
       "      <td>0.01308</td>\n",
       "      <td>0.01860</td>\n",
       "    </tr>\n",
       "    <tr>\n",
       "      <th>2</th>\n",
       "      <td>3</td>\n",
       "      <td>84300903</td>\n",
       "      <td>M</td>\n",
       "      <td>19.69</td>\n",
       "      <td>21.25</td>\n",
       "      <td>130.00</td>\n",
       "      <td>1203.0</td>\n",
       "      <td>0.10960</td>\n",
       "      <td>0.15990</td>\n",
       "      <td>0.1974</td>\n",
       "      <td>0.12790</td>\n",
       "      <td>0.2069</td>\n",
       "      <td>0.05999</td>\n",
       "      <td>0.7456</td>\n",
       "      <td>0.7869</td>\n",
       "      <td>4.585</td>\n",
       "      <td>94.03</td>\n",
       "      <td>0.006150</td>\n",
       "      <td>0.04006</td>\n",
       "      <td>0.03832</td>\n",
       "    </tr>\n",
       "    <tr>\n",
       "      <th>3</th>\n",
       "      <td>4</td>\n",
       "      <td>84348301</td>\n",
       "      <td>M</td>\n",
       "      <td>11.42</td>\n",
       "      <td>20.38</td>\n",
       "      <td>77.58</td>\n",
       "      <td>386.1</td>\n",
       "      <td>0.14250</td>\n",
       "      <td>0.28390</td>\n",
       "      <td>0.2414</td>\n",
       "      <td>0.10520</td>\n",
       "      <td>0.2597</td>\n",
       "      <td>0.09744</td>\n",
       "      <td>0.4956</td>\n",
       "      <td>1.1560</td>\n",
       "      <td>3.445</td>\n",
       "      <td>27.23</td>\n",
       "      <td>0.009110</td>\n",
       "      <td>0.07458</td>\n",
       "      <td>0.05661</td>\n",
       "    </tr>\n",
       "    <tr>\n",
       "      <th>4</th>\n",
       "      <td>5</td>\n",
       "      <td>84358402</td>\n",
       "      <td>M</td>\n",
       "      <td>20.29</td>\n",
       "      <td>14.34</td>\n",
       "      <td>135.10</td>\n",
       "      <td>1297.0</td>\n",
       "      <td>0.10030</td>\n",
       "      <td>0.13280</td>\n",
       "      <td>0.1980</td>\n",
       "      <td>0.10430</td>\n",
       "      <td>0.1809</td>\n",
       "      <td>0.05883</td>\n",
       "      <td>0.7572</td>\n",
       "      <td>0.7813</td>\n",
       "      <td>5.438</td>\n",
       "      <td>94.44</td>\n",
       "      <td>0.011490</td>\n",
       "      <td>0.02461</td>\n",
       "      <td>0.05688</td>\n",
       "    </tr>\n",
       "  </tbody>\n",
       "</table>\n",
       "</div>"
      ],
      "text/plain": [
       "   id  diagnosis radius_mean  texture_mean  perimeter_mean  area_mean  \\\n",
       "0   1     842302           M         17.99           10.38     122.80   \n",
       "1   2     842517           M         20.57           17.77     132.90   \n",
       "2   3   84300903           M         19.69           21.25     130.00   \n",
       "3   4   84348301           M         11.42           20.38      77.58   \n",
       "4   5   84358402           M         20.29           14.34     135.10   \n",
       "\n",
       "   smoothness_mean  compactness_mean  concavity_mean  concave points_mean  \\\n",
       "0           1001.0           0.11840         0.27760               0.3001   \n",
       "1           1326.0           0.08474         0.07864               0.0869   \n",
       "2           1203.0           0.10960         0.15990               0.1974   \n",
       "3            386.1           0.14250         0.28390               0.2414   \n",
       "4           1297.0           0.10030         0.13280               0.1980   \n",
       "\n",
       "   symmetry_mean  fractal_dimension_mean  radius_se  texture_se  perimeter_se  \\\n",
       "0        0.14710                  0.2419    0.07871      1.0950        0.9053   \n",
       "1        0.07017                  0.1812    0.05667      0.5435        0.7339   \n",
       "2        0.12790                  0.2069    0.05999      0.7456        0.7869   \n",
       "3        0.10520                  0.2597    0.09744      0.4956        1.1560   \n",
       "4        0.10430                  0.1809    0.05883      0.7572        0.7813   \n",
       "\n",
       "   area_se  smoothness_se  compactness_se  concavity_se  concave points_se  \n",
       "0    8.589         153.40        0.006399       0.04904            0.05373  \n",
       "1    3.398          74.08        0.005225       0.01308            0.01860  \n",
       "2    4.585          94.03        0.006150       0.04006            0.03832  \n",
       "3    3.445          27.23        0.009110       0.07458            0.05661  \n",
       "4    5.438          94.44        0.011490       0.02461            0.05688  "
      ]
     },
     "execution_count": 2,
     "metadata": {},
     "output_type": "execute_result"
    }
   ],
   "source": [
    "data = pd.read_csv(\"C:/Users/divanand/Desktop/breast.csv\")\n",
    "data.head(5)"
   ]
  },
  {
   "cell_type": "code",
   "execution_count": 3,
   "metadata": {},
   "outputs": [
    {
     "name": "stdout",
     "output_type": "stream",
     "text": [
      "(569, 20)\n"
     ]
    }
   ],
   "source": [
    "print(data.shape)"
   ]
  },
  {
   "cell_type": "code",
   "execution_count": 4,
   "metadata": {},
   "outputs": [
    {
     "data": {
      "text/html": [
       "<div>\n",
       "<style scoped>\n",
       "    .dataframe tbody tr th:only-of-type {\n",
       "        vertical-align: middle;\n",
       "    }\n",
       "\n",
       "    .dataframe tbody tr th {\n",
       "        vertical-align: top;\n",
       "    }\n",
       "\n",
       "    .dataframe thead th {\n",
       "        text-align: right;\n",
       "    }\n",
       "</style>\n",
       "<table border=\"1\" class=\"dataframe\">\n",
       "  <thead>\n",
       "    <tr style=\"text-align: right;\">\n",
       "      <th></th>\n",
       "      <th>id</th>\n",
       "      <th>diagnosis</th>\n",
       "      <th>texture_mean</th>\n",
       "      <th>perimeter_mean</th>\n",
       "      <th>area_mean</th>\n",
       "      <th>smoothness_mean</th>\n",
       "      <th>compactness_mean</th>\n",
       "      <th>concavity_mean</th>\n",
       "      <th>concave points_mean</th>\n",
       "      <th>symmetry_mean</th>\n",
       "      <th>fractal_dimension_mean</th>\n",
       "      <th>radius_se</th>\n",
       "      <th>texture_se</th>\n",
       "      <th>perimeter_se</th>\n",
       "      <th>area_se</th>\n",
       "      <th>smoothness_se</th>\n",
       "      <th>compactness_se</th>\n",
       "      <th>concavity_se</th>\n",
       "      <th>concave points_se</th>\n",
       "    </tr>\n",
       "  </thead>\n",
       "  <tbody>\n",
       "    <tr>\n",
       "      <th>count</th>\n",
       "      <td>569.000000</td>\n",
       "      <td>5.690000e+02</td>\n",
       "      <td>568.000000</td>\n",
       "      <td>568.000000</td>\n",
       "      <td>568.000000</td>\n",
       "      <td>568.000000</td>\n",
       "      <td>568.000000</td>\n",
       "      <td>568.000000</td>\n",
       "      <td>568.000000</td>\n",
       "      <td>568.000000</td>\n",
       "      <td>568.000000</td>\n",
       "      <td>568.000000</td>\n",
       "      <td>568.000000</td>\n",
       "      <td>568.000000</td>\n",
       "      <td>568.000000</td>\n",
       "      <td>568.000000</td>\n",
       "      <td>568.000000</td>\n",
       "      <td>568.000000</td>\n",
       "      <td>568.000000</td>\n",
       "    </tr>\n",
       "    <tr>\n",
       "      <th>mean</th>\n",
       "      <td>285.000000</td>\n",
       "      <td>3.037183e+07</td>\n",
       "      <td>14.138502</td>\n",
       "      <td>19.280405</td>\n",
       "      <td>92.046585</td>\n",
       "      <td>655.723415</td>\n",
       "      <td>0.096437</td>\n",
       "      <td>0.104448</td>\n",
       "      <td>0.088956</td>\n",
       "      <td>0.049005</td>\n",
       "      <td>0.181201</td>\n",
       "      <td>0.062805</td>\n",
       "      <td>0.405206</td>\n",
       "      <td>1.216482</td>\n",
       "      <td>2.866619</td>\n",
       "      <td>40.374380</td>\n",
       "      <td>0.007041</td>\n",
       "      <td>0.025515</td>\n",
       "      <td>0.031950</td>\n",
       "    </tr>\n",
       "    <tr>\n",
       "      <th>std</th>\n",
       "      <td>164.400426</td>\n",
       "      <td>1.250206e+08</td>\n",
       "      <td>3.516986</td>\n",
       "      <td>4.299166</td>\n",
       "      <td>24.249819</td>\n",
       "      <td>351.660642</td>\n",
       "      <td>0.013956</td>\n",
       "      <td>0.052798</td>\n",
       "      <td>0.079703</td>\n",
       "      <td>0.038783</td>\n",
       "      <td>0.027422</td>\n",
       "      <td>0.007065</td>\n",
       "      <td>0.277556</td>\n",
       "      <td>0.552063</td>\n",
       "      <td>2.023593</td>\n",
       "      <td>45.522393</td>\n",
       "      <td>0.003005</td>\n",
       "      <td>0.017903</td>\n",
       "      <td>0.030183</td>\n",
       "    </tr>\n",
       "    <tr>\n",
       "      <th>min</th>\n",
       "      <td>1.000000</td>\n",
       "      <td>8.670000e+03</td>\n",
       "      <td>6.981000</td>\n",
       "      <td>9.710000</td>\n",
       "      <td>43.790000</td>\n",
       "      <td>143.500000</td>\n",
       "      <td>0.062510</td>\n",
       "      <td>0.019380</td>\n",
       "      <td>0.000000</td>\n",
       "      <td>0.000000</td>\n",
       "      <td>0.106000</td>\n",
       "      <td>0.049960</td>\n",
       "      <td>0.111500</td>\n",
       "      <td>0.360200</td>\n",
       "      <td>0.757000</td>\n",
       "      <td>6.802000</td>\n",
       "      <td>0.001713</td>\n",
       "      <td>0.002252</td>\n",
       "      <td>0.000000</td>\n",
       "    </tr>\n",
       "    <tr>\n",
       "      <th>25%</th>\n",
       "      <td>143.000000</td>\n",
       "      <td>8.692180e+05</td>\n",
       "      <td>11.707500</td>\n",
       "      <td>16.170000</td>\n",
       "      <td>75.200000</td>\n",
       "      <td>420.300000</td>\n",
       "      <td>0.086400</td>\n",
       "      <td>0.065175</td>\n",
       "      <td>0.029575</td>\n",
       "      <td>0.020347</td>\n",
       "      <td>0.161975</td>\n",
       "      <td>0.057697</td>\n",
       "      <td>0.232375</td>\n",
       "      <td>0.833150</td>\n",
       "      <td>1.605000</td>\n",
       "      <td>17.850000</td>\n",
       "      <td>0.005166</td>\n",
       "      <td>0.013133</td>\n",
       "      <td>0.015097</td>\n",
       "    </tr>\n",
       "    <tr>\n",
       "      <th>50%</th>\n",
       "      <td>285.000000</td>\n",
       "      <td>9.060240e+05</td>\n",
       "      <td>13.375000</td>\n",
       "      <td>18.835000</td>\n",
       "      <td>86.290000</td>\n",
       "      <td>551.400000</td>\n",
       "      <td>0.095895</td>\n",
       "      <td>0.093125</td>\n",
       "      <td>0.061545</td>\n",
       "      <td>0.033600</td>\n",
       "      <td>0.179250</td>\n",
       "      <td>0.061545</td>\n",
       "      <td>0.323950</td>\n",
       "      <td>1.108000</td>\n",
       "      <td>2.285500</td>\n",
       "      <td>24.565000</td>\n",
       "      <td>0.006374</td>\n",
       "      <td>0.020460</td>\n",
       "      <td>0.025920</td>\n",
       "    </tr>\n",
       "    <tr>\n",
       "      <th>75%</th>\n",
       "      <td>427.000000</td>\n",
       "      <td>8.813129e+06</td>\n",
       "      <td>15.797500</td>\n",
       "      <td>21.785000</td>\n",
       "      <td>104.150000</td>\n",
       "      <td>784.150000</td>\n",
       "      <td>0.105325</td>\n",
       "      <td>0.130425</td>\n",
       "      <td>0.131000</td>\n",
       "      <td>0.074010</td>\n",
       "      <td>0.195700</td>\n",
       "      <td>0.066127</td>\n",
       "      <td>0.479800</td>\n",
       "      <td>1.474250</td>\n",
       "      <td>3.360000</td>\n",
       "      <td>45.237500</td>\n",
       "      <td>0.008151</td>\n",
       "      <td>0.032455</td>\n",
       "      <td>0.042117</td>\n",
       "    </tr>\n",
       "    <tr>\n",
       "      <th>max</th>\n",
       "      <td>569.000000</td>\n",
       "      <td>9.113205e+08</td>\n",
       "      <td>28.110000</td>\n",
       "      <td>39.280000</td>\n",
       "      <td>188.500000</td>\n",
       "      <td>2501.000000</td>\n",
       "      <td>0.163400</td>\n",
       "      <td>0.345400</td>\n",
       "      <td>0.426800</td>\n",
       "      <td>0.201200</td>\n",
       "      <td>0.304000</td>\n",
       "      <td>0.097440</td>\n",
       "      <td>2.873000</td>\n",
       "      <td>4.885000</td>\n",
       "      <td>21.980000</td>\n",
       "      <td>542.200000</td>\n",
       "      <td>0.031130</td>\n",
       "      <td>0.135400</td>\n",
       "      <td>0.396000</td>\n",
       "    </tr>\n",
       "  </tbody>\n",
       "</table>\n",
       "</div>"
      ],
      "text/plain": [
       "               id     diagnosis  texture_mean  perimeter_mean   area_mean  \\\n",
       "count  569.000000  5.690000e+02    568.000000      568.000000  568.000000   \n",
       "mean   285.000000  3.037183e+07     14.138502       19.280405   92.046585   \n",
       "std    164.400426  1.250206e+08      3.516986        4.299166   24.249819   \n",
       "min      1.000000  8.670000e+03      6.981000        9.710000   43.790000   \n",
       "25%    143.000000  8.692180e+05     11.707500       16.170000   75.200000   \n",
       "50%    285.000000  9.060240e+05     13.375000       18.835000   86.290000   \n",
       "75%    427.000000  8.813129e+06     15.797500       21.785000  104.150000   \n",
       "max    569.000000  9.113205e+08     28.110000       39.280000  188.500000   \n",
       "\n",
       "       smoothness_mean  compactness_mean  concavity_mean  concave points_mean  \\\n",
       "count       568.000000        568.000000      568.000000           568.000000   \n",
       "mean        655.723415          0.096437        0.104448             0.088956   \n",
       "std         351.660642          0.013956        0.052798             0.079703   \n",
       "min         143.500000          0.062510        0.019380             0.000000   \n",
       "25%         420.300000          0.086400        0.065175             0.029575   \n",
       "50%         551.400000          0.095895        0.093125             0.061545   \n",
       "75%         784.150000          0.105325        0.130425             0.131000   \n",
       "max        2501.000000          0.163400        0.345400             0.426800   \n",
       "\n",
       "       symmetry_mean  fractal_dimension_mean   radius_se  texture_se  \\\n",
       "count     568.000000              568.000000  568.000000  568.000000   \n",
       "mean        0.049005                0.181201    0.062805    0.405206   \n",
       "std         0.038783                0.027422    0.007065    0.277556   \n",
       "min         0.000000                0.106000    0.049960    0.111500   \n",
       "25%         0.020347                0.161975    0.057697    0.232375   \n",
       "50%         0.033600                0.179250    0.061545    0.323950   \n",
       "75%         0.074010                0.195700    0.066127    0.479800   \n",
       "max         0.201200                0.304000    0.097440    2.873000   \n",
       "\n",
       "       perimeter_se     area_se  smoothness_se  compactness_se  concavity_se  \\\n",
       "count    568.000000  568.000000     568.000000      568.000000    568.000000   \n",
       "mean       1.216482    2.866619      40.374380        0.007041      0.025515   \n",
       "std        0.552063    2.023593      45.522393        0.003005      0.017903   \n",
       "min        0.360200    0.757000       6.802000        0.001713      0.002252   \n",
       "25%        0.833150    1.605000      17.850000        0.005166      0.013133   \n",
       "50%        1.108000    2.285500      24.565000        0.006374      0.020460   \n",
       "75%        1.474250    3.360000      45.237500        0.008151      0.032455   \n",
       "max        4.885000   21.980000     542.200000        0.031130      0.135400   \n",
       "\n",
       "       concave points_se  \n",
       "count         568.000000  \n",
       "mean            0.031950  \n",
       "std             0.030183  \n",
       "min             0.000000  \n",
       "25%             0.015097  \n",
       "50%             0.025920  \n",
       "75%             0.042117  \n",
       "max             0.396000  "
      ]
     },
     "execution_count": 4,
     "metadata": {},
     "output_type": "execute_result"
    }
   ],
   "source": [
    "data.describe()"
   ]
  },
  {
   "cell_type": "markdown",
   "metadata": {},
   "source": [
    "# Data visualisation and pre-processing"
   ]
  },
  {
   "cell_type": "markdown",
   "metadata": {},
   "source": [
    "irst thing to do is to enumerate the diagnosis column such that M = 1, B = 0. Then, I set the ID column to be the index of the dataframe. Afterall, the ID column will not be used for machine learning"
   ]
  },
  {
   "cell_type": "code",
   "execution_count": 5,
   "metadata": {},
   "outputs": [],
   "source": [
    "data['diagnosis'] = data['diagnosis'].apply(lambda x: '1' if x == 'M' else '0')\n",
    "data = data.set_index('id')"
   ]
  },
  {
   "cell_type": "code",
   "execution_count": 6,
   "metadata": {},
   "outputs": [
    {
     "name": "stdout",
     "output_type": "stream",
     "text": [
      "diagnosis\n",
      "0    569\n",
      "dtype: int64\n"
     ]
    }
   ],
   "source": [
    "print(data.groupby('diagnosis').size())"
   ]
  },
  {
   "cell_type": "markdown",
   "metadata": {},
   "source": [
    "Next, we visualise the data using density plots to get a sense of the data distribution. From the outputs below, you can see the data shows a general gaussian distribution."
   ]
  },
  {
   "cell_type": "code",
   "execution_count": 7,
   "metadata": {},
   "outputs": [
    {
     "data": {
      "image/png": "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\n",
      "text/plain": [
       "<Figure size 432x288 with 35 Axes>"
      ]
     },
     "metadata": {},
     "output_type": "display_data"
    }
   ],
   "source": [
    "data.plot(kind='density', subplots=True, layout=(5,7), sharex=False, legend=False, fontsize=1)\n",
    "plt.show()"
   ]
  },
  {
   "cell_type": "markdown",
   "metadata": {},
   "source": [
    "It is good to check the correlations between the attributes. From the output graph below, The red around the diagonal suggests that attributes are correlated with each other. The yellow and green patches suggest some moderate correlation and the blue boxes show negative correlations."
   ]
  },
  {
   "cell_type": "code",
   "execution_count": 8,
   "metadata": {},
   "outputs": [
    {
     "data": {
      "image/png": "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\n",
      "text/plain": [
       "<Figure size 432x288 with 2 Axes>"
      ]
     },
     "metadata": {},
     "output_type": "display_data"
    }
   ],
   "source": [
    "from matplotlib import cm as cm\n",
    "\n",
    "fig = plt.figure()\n",
    "ax1 = fig.add_subplot(111)\n",
    "cmap = cm.get_cmap('jet', 30)\n",
    "cax = ax1.imshow(data.corr(), interpolation=\"none\", cmap=cmap)\n",
    "ax1.grid(True)\n",
    "plt.title('Breast Cancer Attributes Correlation')\n",
    "# Add colorbar, make sure to specify tick locations to match desired ticklabels\n",
    "fig.colorbar(cax, ticks=[.75,.8,.85,.90,.95,1])\n",
    "plt.show()"
   ]
  },
  {
   "cell_type": "code",
   "execution_count": 9,
   "metadata": {},
   "outputs": [],
   "source": [
    "Y = data['diagnosis'].values\n",
    "X = data.drop('diagnosis', axis=1).values\n",
    "\n",
    "X_train, X_test, Y_train, Y_test = train_test_split (X, Y, test_size = 0.20, random_state=21)"
   ]
  },
  {
   "cell_type": "markdown",
   "metadata": {},
   "source": [
    "# Baseline algorithm checking"
   ]
  },
  {
   "cell_type": "markdown",
   "metadata": {},
   "source": [
    "rom the dataset, we will analysis and build a model to predict if a given set of symptoms lead to breast cancer. This is a binary classification problem, and a few algorithms are appropriate for use. Since we do not know which one will perform the best at the point, we will do a quick test on the few appropriate algorithms with default setting to get an early indication of how each of them perform. We will use 10 fold cross validation for each testing.\n",
    "\n",
    "The following non-linear algorithms will be used, namely: Classification and Regression Trees (CART), Linear Support Vector Machines (SVM), Gaussian Naive Bayes (NB) and k-Nearest Neighbors (KNN)."
   ]
  },
  {
   "cell_type": "code",
   "execution_count": 10,
   "metadata": {},
   "outputs": [],
   "source": [
    "models_list = []\n",
    "models_list.append(('CART', DecisionTreeClassifier()))\n",
    "models_list.append(('SVM', SVC())) \n",
    "models_list.append(('NB', GaussianNB()))\n",
    "models_list.append(('KNN', KNeighborsClassifier()))"
   ]
  },
  {
   "cell_type": "code",
   "execution_count": 11,
   "metadata": {},
   "outputs": [
    {
     "ename": "ValueError",
     "evalue": "could not convert string to float: 'M'",
     "output_type": "error",
     "traceback": [
      "\u001b[1;31m---------------------------------------------------------------------------\u001b[0m",
      "\u001b[1;31mValueError\u001b[0m                                Traceback (most recent call last)",
      "\u001b[1;32m<ipython-input-11-347815a81e33>\u001b[0m in \u001b[0;36m<module>\u001b[1;34m()\u001b[0m\n\u001b[0;32m      6\u001b[0m     \u001b[0mkfold\u001b[0m \u001b[1;33m=\u001b[0m \u001b[0mKFold\u001b[0m\u001b[1;33m(\u001b[0m\u001b[0mn_splits\u001b[0m\u001b[1;33m=\u001b[0m\u001b[0mnum_folds\u001b[0m\u001b[1;33m,\u001b[0m \u001b[0mrandom_state\u001b[0m\u001b[1;33m=\u001b[0m\u001b[1;36m123\u001b[0m\u001b[1;33m)\u001b[0m\u001b[1;33m\u001b[0m\u001b[0m\n\u001b[0;32m      7\u001b[0m     \u001b[0mstart\u001b[0m \u001b[1;33m=\u001b[0m \u001b[0mtime\u001b[0m\u001b[1;33m.\u001b[0m\u001b[0mtime\u001b[0m\u001b[1;33m(\u001b[0m\u001b[1;33m)\u001b[0m\u001b[1;33m\u001b[0m\u001b[0m\n\u001b[1;32m----> 8\u001b[1;33m     \u001b[0mcv_results\u001b[0m \u001b[1;33m=\u001b[0m \u001b[0mcross_val_score\u001b[0m\u001b[1;33m(\u001b[0m\u001b[0mmodel\u001b[0m\u001b[1;33m,\u001b[0m \u001b[0mX_train\u001b[0m\u001b[1;33m,\u001b[0m \u001b[0mY_train\u001b[0m\u001b[1;33m,\u001b[0m \u001b[0mcv\u001b[0m\u001b[1;33m=\u001b[0m\u001b[0mkfold\u001b[0m\u001b[1;33m,\u001b[0m \u001b[0mscoring\u001b[0m\u001b[1;33m=\u001b[0m\u001b[1;34m'accuracy'\u001b[0m\u001b[1;33m)\u001b[0m\u001b[1;33m\u001b[0m\u001b[0m\n\u001b[0m\u001b[0;32m      9\u001b[0m     \u001b[0mend\u001b[0m \u001b[1;33m=\u001b[0m \u001b[0mtime\u001b[0m\u001b[1;33m.\u001b[0m\u001b[0mtime\u001b[0m\u001b[1;33m(\u001b[0m\u001b[1;33m)\u001b[0m\u001b[1;33m\u001b[0m\u001b[0m\n\u001b[0;32m     10\u001b[0m     \u001b[0mresults\u001b[0m\u001b[1;33m.\u001b[0m\u001b[0mappend\u001b[0m\u001b[1;33m(\u001b[0m\u001b[0mcv_results\u001b[0m\u001b[1;33m)\u001b[0m\u001b[1;33m\u001b[0m\u001b[0m\n",
      "\u001b[1;32m~\\Anaconda3\\lib\\site-packages\\sklearn\\model_selection\\_validation.py\u001b[0m in \u001b[0;36mcross_val_score\u001b[1;34m(estimator, X, y, groups, scoring, cv, n_jobs, verbose, fit_params, pre_dispatch)\u001b[0m\n\u001b[0;32m    340\u001b[0m                                 \u001b[0mn_jobs\u001b[0m\u001b[1;33m=\u001b[0m\u001b[0mn_jobs\u001b[0m\u001b[1;33m,\u001b[0m \u001b[0mverbose\u001b[0m\u001b[1;33m=\u001b[0m\u001b[0mverbose\u001b[0m\u001b[1;33m,\u001b[0m\u001b[1;33m\u001b[0m\u001b[0m\n\u001b[0;32m    341\u001b[0m                                 \u001b[0mfit_params\u001b[0m\u001b[1;33m=\u001b[0m\u001b[0mfit_params\u001b[0m\u001b[1;33m,\u001b[0m\u001b[1;33m\u001b[0m\u001b[0m\n\u001b[1;32m--> 342\u001b[1;33m                                 pre_dispatch=pre_dispatch)\n\u001b[0m\u001b[0;32m    343\u001b[0m     \u001b[1;32mreturn\u001b[0m \u001b[0mcv_results\u001b[0m\u001b[1;33m[\u001b[0m\u001b[1;34m'test_score'\u001b[0m\u001b[1;33m]\u001b[0m\u001b[1;33m\u001b[0m\u001b[0m\n\u001b[0;32m    344\u001b[0m \u001b[1;33m\u001b[0m\u001b[0m\n",
      "\u001b[1;32m~\\Anaconda3\\lib\\site-packages\\sklearn\\model_selection\\_validation.py\u001b[0m in \u001b[0;36mcross_validate\u001b[1;34m(estimator, X, y, groups, scoring, cv, n_jobs, verbose, fit_params, pre_dispatch, return_train_score)\u001b[0m\n\u001b[0;32m    204\u001b[0m             \u001b[0mfit_params\u001b[0m\u001b[1;33m,\u001b[0m \u001b[0mreturn_train_score\u001b[0m\u001b[1;33m=\u001b[0m\u001b[0mreturn_train_score\u001b[0m\u001b[1;33m,\u001b[0m\u001b[1;33m\u001b[0m\u001b[0m\n\u001b[0;32m    205\u001b[0m             return_times=True)\n\u001b[1;32m--> 206\u001b[1;33m         for train, test in cv.split(X, y, groups))\n\u001b[0m\u001b[0;32m    207\u001b[0m \u001b[1;33m\u001b[0m\u001b[0m\n\u001b[0;32m    208\u001b[0m     \u001b[1;32mif\u001b[0m \u001b[0mreturn_train_score\u001b[0m\u001b[1;33m:\u001b[0m\u001b[1;33m\u001b[0m\u001b[0m\n",
      "\u001b[1;32m~\\Anaconda3\\lib\\site-packages\\sklearn\\externals\\joblib\\parallel.py\u001b[0m in \u001b[0;36m__call__\u001b[1;34m(self, iterable)\u001b[0m\n\u001b[0;32m    777\u001b[0m             \u001b[1;31m# was dispatched. In particular this covers the edge\u001b[0m\u001b[1;33m\u001b[0m\u001b[1;33m\u001b[0m\u001b[0m\n\u001b[0;32m    778\u001b[0m             \u001b[1;31m# case of Parallel used with an exhausted iterator.\u001b[0m\u001b[1;33m\u001b[0m\u001b[1;33m\u001b[0m\u001b[0m\n\u001b[1;32m--> 779\u001b[1;33m             \u001b[1;32mwhile\u001b[0m \u001b[0mself\u001b[0m\u001b[1;33m.\u001b[0m\u001b[0mdispatch_one_batch\u001b[0m\u001b[1;33m(\u001b[0m\u001b[0miterator\u001b[0m\u001b[1;33m)\u001b[0m\u001b[1;33m:\u001b[0m\u001b[1;33m\u001b[0m\u001b[0m\n\u001b[0m\u001b[0;32m    780\u001b[0m                 \u001b[0mself\u001b[0m\u001b[1;33m.\u001b[0m\u001b[0m_iterating\u001b[0m \u001b[1;33m=\u001b[0m \u001b[1;32mTrue\u001b[0m\u001b[1;33m\u001b[0m\u001b[0m\n\u001b[0;32m    781\u001b[0m             \u001b[1;32melse\u001b[0m\u001b[1;33m:\u001b[0m\u001b[1;33m\u001b[0m\u001b[0m\n",
      "\u001b[1;32m~\\Anaconda3\\lib\\site-packages\\sklearn\\externals\\joblib\\parallel.py\u001b[0m in \u001b[0;36mdispatch_one_batch\u001b[1;34m(self, iterator)\u001b[0m\n\u001b[0;32m    623\u001b[0m                 \u001b[1;32mreturn\u001b[0m \u001b[1;32mFalse\u001b[0m\u001b[1;33m\u001b[0m\u001b[0m\n\u001b[0;32m    624\u001b[0m             \u001b[1;32melse\u001b[0m\u001b[1;33m:\u001b[0m\u001b[1;33m\u001b[0m\u001b[0m\n\u001b[1;32m--> 625\u001b[1;33m                 \u001b[0mself\u001b[0m\u001b[1;33m.\u001b[0m\u001b[0m_dispatch\u001b[0m\u001b[1;33m(\u001b[0m\u001b[0mtasks\u001b[0m\u001b[1;33m)\u001b[0m\u001b[1;33m\u001b[0m\u001b[0m\n\u001b[0m\u001b[0;32m    626\u001b[0m                 \u001b[1;32mreturn\u001b[0m \u001b[1;32mTrue\u001b[0m\u001b[1;33m\u001b[0m\u001b[0m\n\u001b[0;32m    627\u001b[0m \u001b[1;33m\u001b[0m\u001b[0m\n",
      "\u001b[1;32m~\\Anaconda3\\lib\\site-packages\\sklearn\\externals\\joblib\\parallel.py\u001b[0m in \u001b[0;36m_dispatch\u001b[1;34m(self, batch)\u001b[0m\n\u001b[0;32m    586\u001b[0m         \u001b[0mdispatch_timestamp\u001b[0m \u001b[1;33m=\u001b[0m \u001b[0mtime\u001b[0m\u001b[1;33m.\u001b[0m\u001b[0mtime\u001b[0m\u001b[1;33m(\u001b[0m\u001b[1;33m)\u001b[0m\u001b[1;33m\u001b[0m\u001b[0m\n\u001b[0;32m    587\u001b[0m         \u001b[0mcb\u001b[0m \u001b[1;33m=\u001b[0m \u001b[0mBatchCompletionCallBack\u001b[0m\u001b[1;33m(\u001b[0m\u001b[0mdispatch_timestamp\u001b[0m\u001b[1;33m,\u001b[0m \u001b[0mlen\u001b[0m\u001b[1;33m(\u001b[0m\u001b[0mbatch\u001b[0m\u001b[1;33m)\u001b[0m\u001b[1;33m,\u001b[0m \u001b[0mself\u001b[0m\u001b[1;33m)\u001b[0m\u001b[1;33m\u001b[0m\u001b[0m\n\u001b[1;32m--> 588\u001b[1;33m         \u001b[0mjob\u001b[0m \u001b[1;33m=\u001b[0m \u001b[0mself\u001b[0m\u001b[1;33m.\u001b[0m\u001b[0m_backend\u001b[0m\u001b[1;33m.\u001b[0m\u001b[0mapply_async\u001b[0m\u001b[1;33m(\u001b[0m\u001b[0mbatch\u001b[0m\u001b[1;33m,\u001b[0m \u001b[0mcallback\u001b[0m\u001b[1;33m=\u001b[0m\u001b[0mcb\u001b[0m\u001b[1;33m)\u001b[0m\u001b[1;33m\u001b[0m\u001b[0m\n\u001b[0m\u001b[0;32m    589\u001b[0m         \u001b[0mself\u001b[0m\u001b[1;33m.\u001b[0m\u001b[0m_jobs\u001b[0m\u001b[1;33m.\u001b[0m\u001b[0mappend\u001b[0m\u001b[1;33m(\u001b[0m\u001b[0mjob\u001b[0m\u001b[1;33m)\u001b[0m\u001b[1;33m\u001b[0m\u001b[0m\n\u001b[0;32m    590\u001b[0m \u001b[1;33m\u001b[0m\u001b[0m\n",
      "\u001b[1;32m~\\Anaconda3\\lib\\site-packages\\sklearn\\externals\\joblib\\_parallel_backends.py\u001b[0m in \u001b[0;36mapply_async\u001b[1;34m(self, func, callback)\u001b[0m\n\u001b[0;32m    109\u001b[0m     \u001b[1;32mdef\u001b[0m \u001b[0mapply_async\u001b[0m\u001b[1;33m(\u001b[0m\u001b[0mself\u001b[0m\u001b[1;33m,\u001b[0m \u001b[0mfunc\u001b[0m\u001b[1;33m,\u001b[0m \u001b[0mcallback\u001b[0m\u001b[1;33m=\u001b[0m\u001b[1;32mNone\u001b[0m\u001b[1;33m)\u001b[0m\u001b[1;33m:\u001b[0m\u001b[1;33m\u001b[0m\u001b[0m\n\u001b[0;32m    110\u001b[0m         \u001b[1;34m\"\"\"Schedule a func to be run\"\"\"\u001b[0m\u001b[1;33m\u001b[0m\u001b[0m\n\u001b[1;32m--> 111\u001b[1;33m         \u001b[0mresult\u001b[0m \u001b[1;33m=\u001b[0m \u001b[0mImmediateResult\u001b[0m\u001b[1;33m(\u001b[0m\u001b[0mfunc\u001b[0m\u001b[1;33m)\u001b[0m\u001b[1;33m\u001b[0m\u001b[0m\n\u001b[0m\u001b[0;32m    112\u001b[0m         \u001b[1;32mif\u001b[0m \u001b[0mcallback\u001b[0m\u001b[1;33m:\u001b[0m\u001b[1;33m\u001b[0m\u001b[0m\n\u001b[0;32m    113\u001b[0m             \u001b[0mcallback\u001b[0m\u001b[1;33m(\u001b[0m\u001b[0mresult\u001b[0m\u001b[1;33m)\u001b[0m\u001b[1;33m\u001b[0m\u001b[0m\n",
      "\u001b[1;32m~\\Anaconda3\\lib\\site-packages\\sklearn\\externals\\joblib\\_parallel_backends.py\u001b[0m in \u001b[0;36m__init__\u001b[1;34m(self, batch)\u001b[0m\n\u001b[0;32m    330\u001b[0m         \u001b[1;31m# Don't delay the application, to avoid keeping the input\u001b[0m\u001b[1;33m\u001b[0m\u001b[1;33m\u001b[0m\u001b[0m\n\u001b[0;32m    331\u001b[0m         \u001b[1;31m# arguments in memory\u001b[0m\u001b[1;33m\u001b[0m\u001b[1;33m\u001b[0m\u001b[0m\n\u001b[1;32m--> 332\u001b[1;33m         \u001b[0mself\u001b[0m\u001b[1;33m.\u001b[0m\u001b[0mresults\u001b[0m \u001b[1;33m=\u001b[0m \u001b[0mbatch\u001b[0m\u001b[1;33m(\u001b[0m\u001b[1;33m)\u001b[0m\u001b[1;33m\u001b[0m\u001b[0m\n\u001b[0m\u001b[0;32m    333\u001b[0m \u001b[1;33m\u001b[0m\u001b[0m\n\u001b[0;32m    334\u001b[0m     \u001b[1;32mdef\u001b[0m \u001b[0mget\u001b[0m\u001b[1;33m(\u001b[0m\u001b[0mself\u001b[0m\u001b[1;33m)\u001b[0m\u001b[1;33m:\u001b[0m\u001b[1;33m\u001b[0m\u001b[0m\n",
      "\u001b[1;32m~\\Anaconda3\\lib\\site-packages\\sklearn\\externals\\joblib\\parallel.py\u001b[0m in \u001b[0;36m__call__\u001b[1;34m(self)\u001b[0m\n\u001b[0;32m    129\u001b[0m \u001b[1;33m\u001b[0m\u001b[0m\n\u001b[0;32m    130\u001b[0m     \u001b[1;32mdef\u001b[0m \u001b[0m__call__\u001b[0m\u001b[1;33m(\u001b[0m\u001b[0mself\u001b[0m\u001b[1;33m)\u001b[0m\u001b[1;33m:\u001b[0m\u001b[1;33m\u001b[0m\u001b[0m\n\u001b[1;32m--> 131\u001b[1;33m         \u001b[1;32mreturn\u001b[0m \u001b[1;33m[\u001b[0m\u001b[0mfunc\u001b[0m\u001b[1;33m(\u001b[0m\u001b[1;33m*\u001b[0m\u001b[0margs\u001b[0m\u001b[1;33m,\u001b[0m \u001b[1;33m**\u001b[0m\u001b[0mkwargs\u001b[0m\u001b[1;33m)\u001b[0m \u001b[1;32mfor\u001b[0m \u001b[0mfunc\u001b[0m\u001b[1;33m,\u001b[0m \u001b[0margs\u001b[0m\u001b[1;33m,\u001b[0m \u001b[0mkwargs\u001b[0m \u001b[1;32min\u001b[0m \u001b[0mself\u001b[0m\u001b[1;33m.\u001b[0m\u001b[0mitems\u001b[0m\u001b[1;33m]\u001b[0m\u001b[1;33m\u001b[0m\u001b[0m\n\u001b[0m\u001b[0;32m    132\u001b[0m \u001b[1;33m\u001b[0m\u001b[0m\n\u001b[0;32m    133\u001b[0m     \u001b[1;32mdef\u001b[0m \u001b[0m__len__\u001b[0m\u001b[1;33m(\u001b[0m\u001b[0mself\u001b[0m\u001b[1;33m)\u001b[0m\u001b[1;33m:\u001b[0m\u001b[1;33m\u001b[0m\u001b[0m\n",
      "\u001b[1;32m~\\Anaconda3\\lib\\site-packages\\sklearn\\externals\\joblib\\parallel.py\u001b[0m in \u001b[0;36m<listcomp>\u001b[1;34m(.0)\u001b[0m\n\u001b[0;32m    129\u001b[0m \u001b[1;33m\u001b[0m\u001b[0m\n\u001b[0;32m    130\u001b[0m     \u001b[1;32mdef\u001b[0m \u001b[0m__call__\u001b[0m\u001b[1;33m(\u001b[0m\u001b[0mself\u001b[0m\u001b[1;33m)\u001b[0m\u001b[1;33m:\u001b[0m\u001b[1;33m\u001b[0m\u001b[0m\n\u001b[1;32m--> 131\u001b[1;33m         \u001b[1;32mreturn\u001b[0m \u001b[1;33m[\u001b[0m\u001b[0mfunc\u001b[0m\u001b[1;33m(\u001b[0m\u001b[1;33m*\u001b[0m\u001b[0margs\u001b[0m\u001b[1;33m,\u001b[0m \u001b[1;33m**\u001b[0m\u001b[0mkwargs\u001b[0m\u001b[1;33m)\u001b[0m \u001b[1;32mfor\u001b[0m \u001b[0mfunc\u001b[0m\u001b[1;33m,\u001b[0m \u001b[0margs\u001b[0m\u001b[1;33m,\u001b[0m \u001b[0mkwargs\u001b[0m \u001b[1;32min\u001b[0m \u001b[0mself\u001b[0m\u001b[1;33m.\u001b[0m\u001b[0mitems\u001b[0m\u001b[1;33m]\u001b[0m\u001b[1;33m\u001b[0m\u001b[0m\n\u001b[0m\u001b[0;32m    132\u001b[0m \u001b[1;33m\u001b[0m\u001b[0m\n\u001b[0;32m    133\u001b[0m     \u001b[1;32mdef\u001b[0m \u001b[0m__len__\u001b[0m\u001b[1;33m(\u001b[0m\u001b[0mself\u001b[0m\u001b[1;33m)\u001b[0m\u001b[1;33m:\u001b[0m\u001b[1;33m\u001b[0m\u001b[0m\n",
      "\u001b[1;32m~\\Anaconda3\\lib\\site-packages\\sklearn\\model_selection\\_validation.py\u001b[0m in \u001b[0;36m_fit_and_score\u001b[1;34m(estimator, X, y, scorer, train, test, verbose, parameters, fit_params, return_train_score, return_parameters, return_n_test_samples, return_times, error_score)\u001b[0m\n\u001b[0;32m    456\u001b[0m             \u001b[0mestimator\u001b[0m\u001b[1;33m.\u001b[0m\u001b[0mfit\u001b[0m\u001b[1;33m(\u001b[0m\u001b[0mX_train\u001b[0m\u001b[1;33m,\u001b[0m \u001b[1;33m**\u001b[0m\u001b[0mfit_params\u001b[0m\u001b[1;33m)\u001b[0m\u001b[1;33m\u001b[0m\u001b[0m\n\u001b[0;32m    457\u001b[0m         \u001b[1;32melse\u001b[0m\u001b[1;33m:\u001b[0m\u001b[1;33m\u001b[0m\u001b[0m\n\u001b[1;32m--> 458\u001b[1;33m             \u001b[0mestimator\u001b[0m\u001b[1;33m.\u001b[0m\u001b[0mfit\u001b[0m\u001b[1;33m(\u001b[0m\u001b[0mX_train\u001b[0m\u001b[1;33m,\u001b[0m \u001b[0my_train\u001b[0m\u001b[1;33m,\u001b[0m \u001b[1;33m**\u001b[0m\u001b[0mfit_params\u001b[0m\u001b[1;33m)\u001b[0m\u001b[1;33m\u001b[0m\u001b[0m\n\u001b[0m\u001b[0;32m    459\u001b[0m \u001b[1;33m\u001b[0m\u001b[0m\n\u001b[0;32m    460\u001b[0m     \u001b[1;32mexcept\u001b[0m \u001b[0mException\u001b[0m \u001b[1;32mas\u001b[0m \u001b[0me\u001b[0m\u001b[1;33m:\u001b[0m\u001b[1;33m\u001b[0m\u001b[0m\n",
      "\u001b[1;32m~\\Anaconda3\\lib\\site-packages\\sklearn\\tree\\tree.py\u001b[0m in \u001b[0;36mfit\u001b[1;34m(self, X, y, sample_weight, check_input, X_idx_sorted)\u001b[0m\n\u001b[0;32m    788\u001b[0m             \u001b[0msample_weight\u001b[0m\u001b[1;33m=\u001b[0m\u001b[0msample_weight\u001b[0m\u001b[1;33m,\u001b[0m\u001b[1;33m\u001b[0m\u001b[0m\n\u001b[0;32m    789\u001b[0m             \u001b[0mcheck_input\u001b[0m\u001b[1;33m=\u001b[0m\u001b[0mcheck_input\u001b[0m\u001b[1;33m,\u001b[0m\u001b[1;33m\u001b[0m\u001b[0m\n\u001b[1;32m--> 790\u001b[1;33m             X_idx_sorted=X_idx_sorted)\n\u001b[0m\u001b[0;32m    791\u001b[0m         \u001b[1;32mreturn\u001b[0m \u001b[0mself\u001b[0m\u001b[1;33m\u001b[0m\u001b[0m\n\u001b[0;32m    792\u001b[0m \u001b[1;33m\u001b[0m\u001b[0m\n",
      "\u001b[1;32m~\\Anaconda3\\lib\\site-packages\\sklearn\\tree\\tree.py\u001b[0m in \u001b[0;36mfit\u001b[1;34m(self, X, y, sample_weight, check_input, X_idx_sorted)\u001b[0m\n\u001b[0;32m    114\u001b[0m         \u001b[0mrandom_state\u001b[0m \u001b[1;33m=\u001b[0m \u001b[0mcheck_random_state\u001b[0m\u001b[1;33m(\u001b[0m\u001b[0mself\u001b[0m\u001b[1;33m.\u001b[0m\u001b[0mrandom_state\u001b[0m\u001b[1;33m)\u001b[0m\u001b[1;33m\u001b[0m\u001b[0m\n\u001b[0;32m    115\u001b[0m         \u001b[1;32mif\u001b[0m \u001b[0mcheck_input\u001b[0m\u001b[1;33m:\u001b[0m\u001b[1;33m\u001b[0m\u001b[0m\n\u001b[1;32m--> 116\u001b[1;33m             \u001b[0mX\u001b[0m \u001b[1;33m=\u001b[0m \u001b[0mcheck_array\u001b[0m\u001b[1;33m(\u001b[0m\u001b[0mX\u001b[0m\u001b[1;33m,\u001b[0m \u001b[0mdtype\u001b[0m\u001b[1;33m=\u001b[0m\u001b[0mDTYPE\u001b[0m\u001b[1;33m,\u001b[0m \u001b[0maccept_sparse\u001b[0m\u001b[1;33m=\u001b[0m\u001b[1;34m\"csc\"\u001b[0m\u001b[1;33m)\u001b[0m\u001b[1;33m\u001b[0m\u001b[0m\n\u001b[0m\u001b[0;32m    117\u001b[0m             \u001b[0my\u001b[0m \u001b[1;33m=\u001b[0m \u001b[0mcheck_array\u001b[0m\u001b[1;33m(\u001b[0m\u001b[0my\u001b[0m\u001b[1;33m,\u001b[0m \u001b[0mensure_2d\u001b[0m\u001b[1;33m=\u001b[0m\u001b[1;32mFalse\u001b[0m\u001b[1;33m,\u001b[0m \u001b[0mdtype\u001b[0m\u001b[1;33m=\u001b[0m\u001b[1;32mNone\u001b[0m\u001b[1;33m)\u001b[0m\u001b[1;33m\u001b[0m\u001b[0m\n\u001b[0;32m    118\u001b[0m             \u001b[1;32mif\u001b[0m \u001b[0missparse\u001b[0m\u001b[1;33m(\u001b[0m\u001b[0mX\u001b[0m\u001b[1;33m)\u001b[0m\u001b[1;33m:\u001b[0m\u001b[1;33m\u001b[0m\u001b[0m\n",
      "\u001b[1;32m~\\Anaconda3\\lib\\site-packages\\sklearn\\utils\\validation.py\u001b[0m in \u001b[0;36mcheck_array\u001b[1;34m(array, accept_sparse, dtype, order, copy, force_all_finite, ensure_2d, allow_nd, ensure_min_samples, ensure_min_features, warn_on_dtype, estimator)\u001b[0m\n\u001b[0;32m    431\u001b[0m                                       force_all_finite)\n\u001b[0;32m    432\u001b[0m     \u001b[1;32melse\u001b[0m\u001b[1;33m:\u001b[0m\u001b[1;33m\u001b[0m\u001b[0m\n\u001b[1;32m--> 433\u001b[1;33m         \u001b[0marray\u001b[0m \u001b[1;33m=\u001b[0m \u001b[0mnp\u001b[0m\u001b[1;33m.\u001b[0m\u001b[0marray\u001b[0m\u001b[1;33m(\u001b[0m\u001b[0marray\u001b[0m\u001b[1;33m,\u001b[0m \u001b[0mdtype\u001b[0m\u001b[1;33m=\u001b[0m\u001b[0mdtype\u001b[0m\u001b[1;33m,\u001b[0m \u001b[0morder\u001b[0m\u001b[1;33m=\u001b[0m\u001b[0morder\u001b[0m\u001b[1;33m,\u001b[0m \u001b[0mcopy\u001b[0m\u001b[1;33m=\u001b[0m\u001b[0mcopy\u001b[0m\u001b[1;33m)\u001b[0m\u001b[1;33m\u001b[0m\u001b[0m\n\u001b[0m\u001b[0;32m    434\u001b[0m \u001b[1;33m\u001b[0m\u001b[0m\n\u001b[0;32m    435\u001b[0m         \u001b[1;32mif\u001b[0m \u001b[0mensure_2d\u001b[0m\u001b[1;33m:\u001b[0m\u001b[1;33m\u001b[0m\u001b[0m\n",
      "\u001b[1;31mValueError\u001b[0m: could not convert string to float: 'M'"
     ]
    }
   ],
   "source": [
    "num_folds = 10\n",
    "results = []\n",
    "names = []\n",
    "\n",
    "for name, model in models_list:\n",
    "    kfold = KFold(n_splits=num_folds, random_state=123)\n",
    "    start = time.time()\n",
    "    cv_results = cross_val_score(model, X_train, Y_train, cv=kfold, scoring='accuracy')\n",
    "    end = time.time()\n",
    "    results.append(cv_results)\n",
    "    names.append(name)\n",
    "    print( \"%s: %f (%f) (run time: %f)\" % (name, cv_results.mean(), cv_results.std(), end-start))"
   ]
  },
  {
   "cell_type": "code",
   "execution_count": 12,
   "metadata": {},
   "outputs": [
    {
     "data": {
      "image/png": "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\n",
      "text/plain": [
       "<Figure size 432x288 with 1 Axes>"
      ]
     },
     "metadata": {},
     "output_type": "display_data"
    }
   ],
   "source": [
    "fig = plt.figure()\n",
    "fig.suptitle('Performance Comparison')\n",
    "ax = fig.add_subplot(111)\n",
    "plt.boxplot(results)\n",
    "ax.set_xticklabels(names)\n",
    "plt.show()"
   ]
  },
  {
   "cell_type": "markdown",
   "metadata": {},
   "source": [
    "From the initial run, it looks like GaussianNB, KNN and CART performed the best given the dataset (all above 92% mean accuracy). Support Vector Machine has a surprisingly bad performance here. However, if we standardise the input dataset, it's performance should improve."
   ]
  },
  {
   "cell_type": "markdown",
   "metadata": {},
   "source": [
    "# Evaluation of algorithm on Standardised Data"
   ]
  },
  {
   "cell_type": "markdown",
   "metadata": {},
   "source": [
    "The performance of the few machine learning algorithm could be improved if a standardised dataset is being used. The improvement is likely for all the models. I will use pipelines that standardize the data and build the model for each fold in the cross-validation test harness. That way we can get a fair estimation of how each model with standardized data might perform on unseen data."
   ]
  },
  {
   "cell_type": "code",
   "execution_count": 13,
   "metadata": {},
   "outputs": [
    {
     "ename": "ValueError",
     "evalue": "could not convert string to float: 'M'",
     "output_type": "error",
     "traceback": [
      "\u001b[1;31m---------------------------------------------------------------------------\u001b[0m",
      "\u001b[1;31mValueError\u001b[0m                                Traceback (most recent call last)",
      "\u001b[1;32m<ipython-input-13-ac3b94b2a526>\u001b[0m in \u001b[0;36m<module>\u001b[1;34m()\u001b[0m\n\u001b[0;32m     15\u001b[0m     \u001b[1;32mfor\u001b[0m \u001b[0mname\u001b[0m\u001b[1;33m,\u001b[0m \u001b[0mmodel\u001b[0m \u001b[1;32min\u001b[0m \u001b[0mpipelines\u001b[0m\u001b[1;33m:\u001b[0m\u001b[1;33m\u001b[0m\u001b[0m\n\u001b[0;32m     16\u001b[0m         \u001b[0mstart\u001b[0m \u001b[1;33m=\u001b[0m \u001b[0mtime\u001b[0m\u001b[1;33m.\u001b[0m\u001b[0mtime\u001b[0m\u001b[1;33m(\u001b[0m\u001b[1;33m)\u001b[0m\u001b[1;33m\u001b[0m\u001b[0m\n\u001b[1;32m---> 17\u001b[1;33m         \u001b[0mcv_results\u001b[0m \u001b[1;33m=\u001b[0m \u001b[0mcross_val_score\u001b[0m\u001b[1;33m(\u001b[0m\u001b[0mmodel\u001b[0m\u001b[1;33m,\u001b[0m \u001b[0mX_train\u001b[0m\u001b[1;33m,\u001b[0m \u001b[0mY_train\u001b[0m\u001b[1;33m,\u001b[0m \u001b[0mcv\u001b[0m\u001b[1;33m=\u001b[0m\u001b[0mkfold\u001b[0m\u001b[1;33m,\u001b[0m \u001b[0mscoring\u001b[0m\u001b[1;33m=\u001b[0m\u001b[1;34m'accuracy'\u001b[0m\u001b[1;33m)\u001b[0m\u001b[1;33m\u001b[0m\u001b[0m\n\u001b[0m\u001b[0;32m     18\u001b[0m         \u001b[0mend\u001b[0m \u001b[1;33m=\u001b[0m \u001b[0mtime\u001b[0m\u001b[1;33m.\u001b[0m\u001b[0mtime\u001b[0m\u001b[1;33m(\u001b[0m\u001b[1;33m)\u001b[0m\u001b[1;33m\u001b[0m\u001b[0m\n\u001b[0;32m     19\u001b[0m         \u001b[0mresults\u001b[0m\u001b[1;33m.\u001b[0m\u001b[0mappend\u001b[0m\u001b[1;33m(\u001b[0m\u001b[0mcv_results\u001b[0m\u001b[1;33m)\u001b[0m\u001b[1;33m\u001b[0m\u001b[0m\n",
      "\u001b[1;32m~\\Anaconda3\\lib\\site-packages\\sklearn\\model_selection\\_validation.py\u001b[0m in \u001b[0;36mcross_val_score\u001b[1;34m(estimator, X, y, groups, scoring, cv, n_jobs, verbose, fit_params, pre_dispatch)\u001b[0m\n\u001b[0;32m    340\u001b[0m                                 \u001b[0mn_jobs\u001b[0m\u001b[1;33m=\u001b[0m\u001b[0mn_jobs\u001b[0m\u001b[1;33m,\u001b[0m \u001b[0mverbose\u001b[0m\u001b[1;33m=\u001b[0m\u001b[0mverbose\u001b[0m\u001b[1;33m,\u001b[0m\u001b[1;33m\u001b[0m\u001b[0m\n\u001b[0;32m    341\u001b[0m                                 \u001b[0mfit_params\u001b[0m\u001b[1;33m=\u001b[0m\u001b[0mfit_params\u001b[0m\u001b[1;33m,\u001b[0m\u001b[1;33m\u001b[0m\u001b[0m\n\u001b[1;32m--> 342\u001b[1;33m                                 pre_dispatch=pre_dispatch)\n\u001b[0m\u001b[0;32m    343\u001b[0m     \u001b[1;32mreturn\u001b[0m \u001b[0mcv_results\u001b[0m\u001b[1;33m[\u001b[0m\u001b[1;34m'test_score'\u001b[0m\u001b[1;33m]\u001b[0m\u001b[1;33m\u001b[0m\u001b[0m\n\u001b[0;32m    344\u001b[0m \u001b[1;33m\u001b[0m\u001b[0m\n",
      "\u001b[1;32m~\\Anaconda3\\lib\\site-packages\\sklearn\\model_selection\\_validation.py\u001b[0m in \u001b[0;36mcross_validate\u001b[1;34m(estimator, X, y, groups, scoring, cv, n_jobs, verbose, fit_params, pre_dispatch, return_train_score)\u001b[0m\n\u001b[0;32m    204\u001b[0m             \u001b[0mfit_params\u001b[0m\u001b[1;33m,\u001b[0m \u001b[0mreturn_train_score\u001b[0m\u001b[1;33m=\u001b[0m\u001b[0mreturn_train_score\u001b[0m\u001b[1;33m,\u001b[0m\u001b[1;33m\u001b[0m\u001b[0m\n\u001b[0;32m    205\u001b[0m             return_times=True)\n\u001b[1;32m--> 206\u001b[1;33m         for train, test in cv.split(X, y, groups))\n\u001b[0m\u001b[0;32m    207\u001b[0m \u001b[1;33m\u001b[0m\u001b[0m\n\u001b[0;32m    208\u001b[0m     \u001b[1;32mif\u001b[0m \u001b[0mreturn_train_score\u001b[0m\u001b[1;33m:\u001b[0m\u001b[1;33m\u001b[0m\u001b[0m\n",
      "\u001b[1;32m~\\Anaconda3\\lib\\site-packages\\sklearn\\externals\\joblib\\parallel.py\u001b[0m in \u001b[0;36m__call__\u001b[1;34m(self, iterable)\u001b[0m\n\u001b[0;32m    777\u001b[0m             \u001b[1;31m# was dispatched. In particular this covers the edge\u001b[0m\u001b[1;33m\u001b[0m\u001b[1;33m\u001b[0m\u001b[0m\n\u001b[0;32m    778\u001b[0m             \u001b[1;31m# case of Parallel used with an exhausted iterator.\u001b[0m\u001b[1;33m\u001b[0m\u001b[1;33m\u001b[0m\u001b[0m\n\u001b[1;32m--> 779\u001b[1;33m             \u001b[1;32mwhile\u001b[0m \u001b[0mself\u001b[0m\u001b[1;33m.\u001b[0m\u001b[0mdispatch_one_batch\u001b[0m\u001b[1;33m(\u001b[0m\u001b[0miterator\u001b[0m\u001b[1;33m)\u001b[0m\u001b[1;33m:\u001b[0m\u001b[1;33m\u001b[0m\u001b[0m\n\u001b[0m\u001b[0;32m    780\u001b[0m                 \u001b[0mself\u001b[0m\u001b[1;33m.\u001b[0m\u001b[0m_iterating\u001b[0m \u001b[1;33m=\u001b[0m \u001b[1;32mTrue\u001b[0m\u001b[1;33m\u001b[0m\u001b[0m\n\u001b[0;32m    781\u001b[0m             \u001b[1;32melse\u001b[0m\u001b[1;33m:\u001b[0m\u001b[1;33m\u001b[0m\u001b[0m\n",
      "\u001b[1;32m~\\Anaconda3\\lib\\site-packages\\sklearn\\externals\\joblib\\parallel.py\u001b[0m in \u001b[0;36mdispatch_one_batch\u001b[1;34m(self, iterator)\u001b[0m\n\u001b[0;32m    623\u001b[0m                 \u001b[1;32mreturn\u001b[0m \u001b[1;32mFalse\u001b[0m\u001b[1;33m\u001b[0m\u001b[0m\n\u001b[0;32m    624\u001b[0m             \u001b[1;32melse\u001b[0m\u001b[1;33m:\u001b[0m\u001b[1;33m\u001b[0m\u001b[0m\n\u001b[1;32m--> 625\u001b[1;33m                 \u001b[0mself\u001b[0m\u001b[1;33m.\u001b[0m\u001b[0m_dispatch\u001b[0m\u001b[1;33m(\u001b[0m\u001b[0mtasks\u001b[0m\u001b[1;33m)\u001b[0m\u001b[1;33m\u001b[0m\u001b[0m\n\u001b[0m\u001b[0;32m    626\u001b[0m                 \u001b[1;32mreturn\u001b[0m \u001b[1;32mTrue\u001b[0m\u001b[1;33m\u001b[0m\u001b[0m\n\u001b[0;32m    627\u001b[0m \u001b[1;33m\u001b[0m\u001b[0m\n",
      "\u001b[1;32m~\\Anaconda3\\lib\\site-packages\\sklearn\\externals\\joblib\\parallel.py\u001b[0m in \u001b[0;36m_dispatch\u001b[1;34m(self, batch)\u001b[0m\n\u001b[0;32m    586\u001b[0m         \u001b[0mdispatch_timestamp\u001b[0m \u001b[1;33m=\u001b[0m \u001b[0mtime\u001b[0m\u001b[1;33m.\u001b[0m\u001b[0mtime\u001b[0m\u001b[1;33m(\u001b[0m\u001b[1;33m)\u001b[0m\u001b[1;33m\u001b[0m\u001b[0m\n\u001b[0;32m    587\u001b[0m         \u001b[0mcb\u001b[0m \u001b[1;33m=\u001b[0m \u001b[0mBatchCompletionCallBack\u001b[0m\u001b[1;33m(\u001b[0m\u001b[0mdispatch_timestamp\u001b[0m\u001b[1;33m,\u001b[0m \u001b[0mlen\u001b[0m\u001b[1;33m(\u001b[0m\u001b[0mbatch\u001b[0m\u001b[1;33m)\u001b[0m\u001b[1;33m,\u001b[0m \u001b[0mself\u001b[0m\u001b[1;33m)\u001b[0m\u001b[1;33m\u001b[0m\u001b[0m\n\u001b[1;32m--> 588\u001b[1;33m         \u001b[0mjob\u001b[0m \u001b[1;33m=\u001b[0m \u001b[0mself\u001b[0m\u001b[1;33m.\u001b[0m\u001b[0m_backend\u001b[0m\u001b[1;33m.\u001b[0m\u001b[0mapply_async\u001b[0m\u001b[1;33m(\u001b[0m\u001b[0mbatch\u001b[0m\u001b[1;33m,\u001b[0m \u001b[0mcallback\u001b[0m\u001b[1;33m=\u001b[0m\u001b[0mcb\u001b[0m\u001b[1;33m)\u001b[0m\u001b[1;33m\u001b[0m\u001b[0m\n\u001b[0m\u001b[0;32m    589\u001b[0m         \u001b[0mself\u001b[0m\u001b[1;33m.\u001b[0m\u001b[0m_jobs\u001b[0m\u001b[1;33m.\u001b[0m\u001b[0mappend\u001b[0m\u001b[1;33m(\u001b[0m\u001b[0mjob\u001b[0m\u001b[1;33m)\u001b[0m\u001b[1;33m\u001b[0m\u001b[0m\n\u001b[0;32m    590\u001b[0m \u001b[1;33m\u001b[0m\u001b[0m\n",
      "\u001b[1;32m~\\Anaconda3\\lib\\site-packages\\sklearn\\externals\\joblib\\_parallel_backends.py\u001b[0m in \u001b[0;36mapply_async\u001b[1;34m(self, func, callback)\u001b[0m\n\u001b[0;32m    109\u001b[0m     \u001b[1;32mdef\u001b[0m \u001b[0mapply_async\u001b[0m\u001b[1;33m(\u001b[0m\u001b[0mself\u001b[0m\u001b[1;33m,\u001b[0m \u001b[0mfunc\u001b[0m\u001b[1;33m,\u001b[0m \u001b[0mcallback\u001b[0m\u001b[1;33m=\u001b[0m\u001b[1;32mNone\u001b[0m\u001b[1;33m)\u001b[0m\u001b[1;33m:\u001b[0m\u001b[1;33m\u001b[0m\u001b[0m\n\u001b[0;32m    110\u001b[0m         \u001b[1;34m\"\"\"Schedule a func to be run\"\"\"\u001b[0m\u001b[1;33m\u001b[0m\u001b[0m\n\u001b[1;32m--> 111\u001b[1;33m         \u001b[0mresult\u001b[0m \u001b[1;33m=\u001b[0m \u001b[0mImmediateResult\u001b[0m\u001b[1;33m(\u001b[0m\u001b[0mfunc\u001b[0m\u001b[1;33m)\u001b[0m\u001b[1;33m\u001b[0m\u001b[0m\n\u001b[0m\u001b[0;32m    112\u001b[0m         \u001b[1;32mif\u001b[0m \u001b[0mcallback\u001b[0m\u001b[1;33m:\u001b[0m\u001b[1;33m\u001b[0m\u001b[0m\n\u001b[0;32m    113\u001b[0m             \u001b[0mcallback\u001b[0m\u001b[1;33m(\u001b[0m\u001b[0mresult\u001b[0m\u001b[1;33m)\u001b[0m\u001b[1;33m\u001b[0m\u001b[0m\n",
      "\u001b[1;32m~\\Anaconda3\\lib\\site-packages\\sklearn\\externals\\joblib\\_parallel_backends.py\u001b[0m in \u001b[0;36m__init__\u001b[1;34m(self, batch)\u001b[0m\n\u001b[0;32m    330\u001b[0m         \u001b[1;31m# Don't delay the application, to avoid keeping the input\u001b[0m\u001b[1;33m\u001b[0m\u001b[1;33m\u001b[0m\u001b[0m\n\u001b[0;32m    331\u001b[0m         \u001b[1;31m# arguments in memory\u001b[0m\u001b[1;33m\u001b[0m\u001b[1;33m\u001b[0m\u001b[0m\n\u001b[1;32m--> 332\u001b[1;33m         \u001b[0mself\u001b[0m\u001b[1;33m.\u001b[0m\u001b[0mresults\u001b[0m \u001b[1;33m=\u001b[0m \u001b[0mbatch\u001b[0m\u001b[1;33m(\u001b[0m\u001b[1;33m)\u001b[0m\u001b[1;33m\u001b[0m\u001b[0m\n\u001b[0m\u001b[0;32m    333\u001b[0m \u001b[1;33m\u001b[0m\u001b[0m\n\u001b[0;32m    334\u001b[0m     \u001b[1;32mdef\u001b[0m \u001b[0mget\u001b[0m\u001b[1;33m(\u001b[0m\u001b[0mself\u001b[0m\u001b[1;33m)\u001b[0m\u001b[1;33m:\u001b[0m\u001b[1;33m\u001b[0m\u001b[0m\n",
      "\u001b[1;32m~\\Anaconda3\\lib\\site-packages\\sklearn\\externals\\joblib\\parallel.py\u001b[0m in \u001b[0;36m__call__\u001b[1;34m(self)\u001b[0m\n\u001b[0;32m    129\u001b[0m \u001b[1;33m\u001b[0m\u001b[0m\n\u001b[0;32m    130\u001b[0m     \u001b[1;32mdef\u001b[0m \u001b[0m__call__\u001b[0m\u001b[1;33m(\u001b[0m\u001b[0mself\u001b[0m\u001b[1;33m)\u001b[0m\u001b[1;33m:\u001b[0m\u001b[1;33m\u001b[0m\u001b[0m\n\u001b[1;32m--> 131\u001b[1;33m         \u001b[1;32mreturn\u001b[0m \u001b[1;33m[\u001b[0m\u001b[0mfunc\u001b[0m\u001b[1;33m(\u001b[0m\u001b[1;33m*\u001b[0m\u001b[0margs\u001b[0m\u001b[1;33m,\u001b[0m \u001b[1;33m**\u001b[0m\u001b[0mkwargs\u001b[0m\u001b[1;33m)\u001b[0m \u001b[1;32mfor\u001b[0m \u001b[0mfunc\u001b[0m\u001b[1;33m,\u001b[0m \u001b[0margs\u001b[0m\u001b[1;33m,\u001b[0m \u001b[0mkwargs\u001b[0m \u001b[1;32min\u001b[0m \u001b[0mself\u001b[0m\u001b[1;33m.\u001b[0m\u001b[0mitems\u001b[0m\u001b[1;33m]\u001b[0m\u001b[1;33m\u001b[0m\u001b[0m\n\u001b[0m\u001b[0;32m    132\u001b[0m \u001b[1;33m\u001b[0m\u001b[0m\n\u001b[0;32m    133\u001b[0m     \u001b[1;32mdef\u001b[0m \u001b[0m__len__\u001b[0m\u001b[1;33m(\u001b[0m\u001b[0mself\u001b[0m\u001b[1;33m)\u001b[0m\u001b[1;33m:\u001b[0m\u001b[1;33m\u001b[0m\u001b[0m\n",
      "\u001b[1;32m~\\Anaconda3\\lib\\site-packages\\sklearn\\externals\\joblib\\parallel.py\u001b[0m in \u001b[0;36m<listcomp>\u001b[1;34m(.0)\u001b[0m\n\u001b[0;32m    129\u001b[0m \u001b[1;33m\u001b[0m\u001b[0m\n\u001b[0;32m    130\u001b[0m     \u001b[1;32mdef\u001b[0m \u001b[0m__call__\u001b[0m\u001b[1;33m(\u001b[0m\u001b[0mself\u001b[0m\u001b[1;33m)\u001b[0m\u001b[1;33m:\u001b[0m\u001b[1;33m\u001b[0m\u001b[0m\n\u001b[1;32m--> 131\u001b[1;33m         \u001b[1;32mreturn\u001b[0m \u001b[1;33m[\u001b[0m\u001b[0mfunc\u001b[0m\u001b[1;33m(\u001b[0m\u001b[1;33m*\u001b[0m\u001b[0margs\u001b[0m\u001b[1;33m,\u001b[0m \u001b[1;33m**\u001b[0m\u001b[0mkwargs\u001b[0m\u001b[1;33m)\u001b[0m \u001b[1;32mfor\u001b[0m \u001b[0mfunc\u001b[0m\u001b[1;33m,\u001b[0m \u001b[0margs\u001b[0m\u001b[1;33m,\u001b[0m \u001b[0mkwargs\u001b[0m \u001b[1;32min\u001b[0m \u001b[0mself\u001b[0m\u001b[1;33m.\u001b[0m\u001b[0mitems\u001b[0m\u001b[1;33m]\u001b[0m\u001b[1;33m\u001b[0m\u001b[0m\n\u001b[0m\u001b[0;32m    132\u001b[0m \u001b[1;33m\u001b[0m\u001b[0m\n\u001b[0;32m    133\u001b[0m     \u001b[1;32mdef\u001b[0m \u001b[0m__len__\u001b[0m\u001b[1;33m(\u001b[0m\u001b[0mself\u001b[0m\u001b[1;33m)\u001b[0m\u001b[1;33m:\u001b[0m\u001b[1;33m\u001b[0m\u001b[0m\n",
      "\u001b[1;32m~\\Anaconda3\\lib\\site-packages\\sklearn\\model_selection\\_validation.py\u001b[0m in \u001b[0;36m_fit_and_score\u001b[1;34m(estimator, X, y, scorer, train, test, verbose, parameters, fit_params, return_train_score, return_parameters, return_n_test_samples, return_times, error_score)\u001b[0m\n\u001b[0;32m    456\u001b[0m             \u001b[0mestimator\u001b[0m\u001b[1;33m.\u001b[0m\u001b[0mfit\u001b[0m\u001b[1;33m(\u001b[0m\u001b[0mX_train\u001b[0m\u001b[1;33m,\u001b[0m \u001b[1;33m**\u001b[0m\u001b[0mfit_params\u001b[0m\u001b[1;33m)\u001b[0m\u001b[1;33m\u001b[0m\u001b[0m\n\u001b[0;32m    457\u001b[0m         \u001b[1;32melse\u001b[0m\u001b[1;33m:\u001b[0m\u001b[1;33m\u001b[0m\u001b[0m\n\u001b[1;32m--> 458\u001b[1;33m             \u001b[0mestimator\u001b[0m\u001b[1;33m.\u001b[0m\u001b[0mfit\u001b[0m\u001b[1;33m(\u001b[0m\u001b[0mX_train\u001b[0m\u001b[1;33m,\u001b[0m \u001b[0my_train\u001b[0m\u001b[1;33m,\u001b[0m \u001b[1;33m**\u001b[0m\u001b[0mfit_params\u001b[0m\u001b[1;33m)\u001b[0m\u001b[1;33m\u001b[0m\u001b[0m\n\u001b[0m\u001b[0;32m    459\u001b[0m \u001b[1;33m\u001b[0m\u001b[0m\n\u001b[0;32m    460\u001b[0m     \u001b[1;32mexcept\u001b[0m \u001b[0mException\u001b[0m \u001b[1;32mas\u001b[0m \u001b[0me\u001b[0m\u001b[1;33m:\u001b[0m\u001b[1;33m\u001b[0m\u001b[0m\n",
      "\u001b[1;32m~\\Anaconda3\\lib\\site-packages\\sklearn\\pipeline.py\u001b[0m in \u001b[0;36mfit\u001b[1;34m(self, X, y, **fit_params)\u001b[0m\n\u001b[0;32m    246\u001b[0m             \u001b[0mThis\u001b[0m \u001b[0mestimator\u001b[0m\u001b[1;33m\u001b[0m\u001b[0m\n\u001b[0;32m    247\u001b[0m         \"\"\"\n\u001b[1;32m--> 248\u001b[1;33m         \u001b[0mXt\u001b[0m\u001b[1;33m,\u001b[0m \u001b[0mfit_params\u001b[0m \u001b[1;33m=\u001b[0m \u001b[0mself\u001b[0m\u001b[1;33m.\u001b[0m\u001b[0m_fit\u001b[0m\u001b[1;33m(\u001b[0m\u001b[0mX\u001b[0m\u001b[1;33m,\u001b[0m \u001b[0my\u001b[0m\u001b[1;33m,\u001b[0m \u001b[1;33m**\u001b[0m\u001b[0mfit_params\u001b[0m\u001b[1;33m)\u001b[0m\u001b[1;33m\u001b[0m\u001b[0m\n\u001b[0m\u001b[0;32m    249\u001b[0m         \u001b[1;32mif\u001b[0m \u001b[0mself\u001b[0m\u001b[1;33m.\u001b[0m\u001b[0m_final_estimator\u001b[0m \u001b[1;32mis\u001b[0m \u001b[1;32mnot\u001b[0m \u001b[1;32mNone\u001b[0m\u001b[1;33m:\u001b[0m\u001b[1;33m\u001b[0m\u001b[0m\n\u001b[0;32m    250\u001b[0m             \u001b[0mself\u001b[0m\u001b[1;33m.\u001b[0m\u001b[0m_final_estimator\u001b[0m\u001b[1;33m.\u001b[0m\u001b[0mfit\u001b[0m\u001b[1;33m(\u001b[0m\u001b[0mXt\u001b[0m\u001b[1;33m,\u001b[0m \u001b[0my\u001b[0m\u001b[1;33m,\u001b[0m \u001b[1;33m**\u001b[0m\u001b[0mfit_params\u001b[0m\u001b[1;33m)\u001b[0m\u001b[1;33m\u001b[0m\u001b[0m\n",
      "\u001b[1;32m~\\Anaconda3\\lib\\site-packages\\sklearn\\pipeline.py\u001b[0m in \u001b[0;36m_fit\u001b[1;34m(self, X, y, **fit_params)\u001b[0m\n\u001b[0;32m    211\u001b[0m                 Xt, fitted_transformer = fit_transform_one_cached(\n\u001b[0;32m    212\u001b[0m                     \u001b[0mcloned_transformer\u001b[0m\u001b[1;33m,\u001b[0m \u001b[1;32mNone\u001b[0m\u001b[1;33m,\u001b[0m \u001b[0mXt\u001b[0m\u001b[1;33m,\u001b[0m \u001b[0my\u001b[0m\u001b[1;33m,\u001b[0m\u001b[1;33m\u001b[0m\u001b[0m\n\u001b[1;32m--> 213\u001b[1;33m                     **fit_params_steps[name])\n\u001b[0m\u001b[0;32m    214\u001b[0m                 \u001b[1;31m# Replace the transformer of the step with the fitted\u001b[0m\u001b[1;33m\u001b[0m\u001b[1;33m\u001b[0m\u001b[0m\n\u001b[0;32m    215\u001b[0m                 \u001b[1;31m# transformer. This is necessary when loading the transformer\u001b[0m\u001b[1;33m\u001b[0m\u001b[1;33m\u001b[0m\u001b[0m\n",
      "\u001b[1;32m~\\Anaconda3\\lib\\site-packages\\sklearn\\externals\\joblib\\memory.py\u001b[0m in \u001b[0;36m__call__\u001b[1;34m(self, *args, **kwargs)\u001b[0m\n\u001b[0;32m    360\u001b[0m \u001b[1;33m\u001b[0m\u001b[0m\n\u001b[0;32m    361\u001b[0m     \u001b[1;32mdef\u001b[0m \u001b[0m__call__\u001b[0m\u001b[1;33m(\u001b[0m\u001b[0mself\u001b[0m\u001b[1;33m,\u001b[0m \u001b[1;33m*\u001b[0m\u001b[0margs\u001b[0m\u001b[1;33m,\u001b[0m \u001b[1;33m**\u001b[0m\u001b[0mkwargs\u001b[0m\u001b[1;33m)\u001b[0m\u001b[1;33m:\u001b[0m\u001b[1;33m\u001b[0m\u001b[0m\n\u001b[1;32m--> 362\u001b[1;33m         \u001b[1;32mreturn\u001b[0m \u001b[0mself\u001b[0m\u001b[1;33m.\u001b[0m\u001b[0mfunc\u001b[0m\u001b[1;33m(\u001b[0m\u001b[1;33m*\u001b[0m\u001b[0margs\u001b[0m\u001b[1;33m,\u001b[0m \u001b[1;33m**\u001b[0m\u001b[0mkwargs\u001b[0m\u001b[1;33m)\u001b[0m\u001b[1;33m\u001b[0m\u001b[0m\n\u001b[0m\u001b[0;32m    363\u001b[0m \u001b[1;33m\u001b[0m\u001b[0m\n\u001b[0;32m    364\u001b[0m     \u001b[1;32mdef\u001b[0m \u001b[0mcall_and_shelve\u001b[0m\u001b[1;33m(\u001b[0m\u001b[0mself\u001b[0m\u001b[1;33m,\u001b[0m \u001b[1;33m*\u001b[0m\u001b[0margs\u001b[0m\u001b[1;33m,\u001b[0m \u001b[1;33m**\u001b[0m\u001b[0mkwargs\u001b[0m\u001b[1;33m)\u001b[0m\u001b[1;33m:\u001b[0m\u001b[1;33m\u001b[0m\u001b[0m\n",
      "\u001b[1;32m~\\Anaconda3\\lib\\site-packages\\sklearn\\pipeline.py\u001b[0m in \u001b[0;36m_fit_transform_one\u001b[1;34m(transformer, weight, X, y, **fit_params)\u001b[0m\n\u001b[0;32m    579\u001b[0m                        **fit_params):\n\u001b[0;32m    580\u001b[0m     \u001b[1;32mif\u001b[0m \u001b[0mhasattr\u001b[0m\u001b[1;33m(\u001b[0m\u001b[0mtransformer\u001b[0m\u001b[1;33m,\u001b[0m \u001b[1;34m'fit_transform'\u001b[0m\u001b[1;33m)\u001b[0m\u001b[1;33m:\u001b[0m\u001b[1;33m\u001b[0m\u001b[0m\n\u001b[1;32m--> 581\u001b[1;33m         \u001b[0mres\u001b[0m \u001b[1;33m=\u001b[0m \u001b[0mtransformer\u001b[0m\u001b[1;33m.\u001b[0m\u001b[0mfit_transform\u001b[0m\u001b[1;33m(\u001b[0m\u001b[0mX\u001b[0m\u001b[1;33m,\u001b[0m \u001b[0my\u001b[0m\u001b[1;33m,\u001b[0m \u001b[1;33m**\u001b[0m\u001b[0mfit_params\u001b[0m\u001b[1;33m)\u001b[0m\u001b[1;33m\u001b[0m\u001b[0m\n\u001b[0m\u001b[0;32m    582\u001b[0m     \u001b[1;32melse\u001b[0m\u001b[1;33m:\u001b[0m\u001b[1;33m\u001b[0m\u001b[0m\n\u001b[0;32m    583\u001b[0m         \u001b[0mres\u001b[0m \u001b[1;33m=\u001b[0m \u001b[0mtransformer\u001b[0m\u001b[1;33m.\u001b[0m\u001b[0mfit\u001b[0m\u001b[1;33m(\u001b[0m\u001b[0mX\u001b[0m\u001b[1;33m,\u001b[0m \u001b[0my\u001b[0m\u001b[1;33m,\u001b[0m \u001b[1;33m**\u001b[0m\u001b[0mfit_params\u001b[0m\u001b[1;33m)\u001b[0m\u001b[1;33m.\u001b[0m\u001b[0mtransform\u001b[0m\u001b[1;33m(\u001b[0m\u001b[0mX\u001b[0m\u001b[1;33m)\u001b[0m\u001b[1;33m\u001b[0m\u001b[0m\n",
      "\u001b[1;32m~\\Anaconda3\\lib\\site-packages\\sklearn\\base.py\u001b[0m in \u001b[0;36mfit_transform\u001b[1;34m(self, X, y, **fit_params)\u001b[0m\n\u001b[0;32m    518\u001b[0m         \u001b[1;32melse\u001b[0m\u001b[1;33m:\u001b[0m\u001b[1;33m\u001b[0m\u001b[0m\n\u001b[0;32m    519\u001b[0m             \u001b[1;31m# fit method of arity 2 (supervised transformation)\u001b[0m\u001b[1;33m\u001b[0m\u001b[1;33m\u001b[0m\u001b[0m\n\u001b[1;32m--> 520\u001b[1;33m             \u001b[1;32mreturn\u001b[0m \u001b[0mself\u001b[0m\u001b[1;33m.\u001b[0m\u001b[0mfit\u001b[0m\u001b[1;33m(\u001b[0m\u001b[0mX\u001b[0m\u001b[1;33m,\u001b[0m \u001b[0my\u001b[0m\u001b[1;33m,\u001b[0m \u001b[1;33m**\u001b[0m\u001b[0mfit_params\u001b[0m\u001b[1;33m)\u001b[0m\u001b[1;33m.\u001b[0m\u001b[0mtransform\u001b[0m\u001b[1;33m(\u001b[0m\u001b[0mX\u001b[0m\u001b[1;33m)\u001b[0m\u001b[1;33m\u001b[0m\u001b[0m\n\u001b[0m\u001b[0;32m    521\u001b[0m \u001b[1;33m\u001b[0m\u001b[0m\n\u001b[0;32m    522\u001b[0m \u001b[1;33m\u001b[0m\u001b[0m\n",
      "\u001b[1;32m~\\Anaconda3\\lib\\site-packages\\sklearn\\preprocessing\\data.py\u001b[0m in \u001b[0;36mfit\u001b[1;34m(self, X, y)\u001b[0m\n\u001b[0;32m    588\u001b[0m         \u001b[1;31m# Reset internal state before fitting\u001b[0m\u001b[1;33m\u001b[0m\u001b[1;33m\u001b[0m\u001b[0m\n\u001b[0;32m    589\u001b[0m         \u001b[0mself\u001b[0m\u001b[1;33m.\u001b[0m\u001b[0m_reset\u001b[0m\u001b[1;33m(\u001b[0m\u001b[1;33m)\u001b[0m\u001b[1;33m\u001b[0m\u001b[0m\n\u001b[1;32m--> 590\u001b[1;33m         \u001b[1;32mreturn\u001b[0m \u001b[0mself\u001b[0m\u001b[1;33m.\u001b[0m\u001b[0mpartial_fit\u001b[0m\u001b[1;33m(\u001b[0m\u001b[0mX\u001b[0m\u001b[1;33m,\u001b[0m \u001b[0my\u001b[0m\u001b[1;33m)\u001b[0m\u001b[1;33m\u001b[0m\u001b[0m\n\u001b[0m\u001b[0;32m    591\u001b[0m \u001b[1;33m\u001b[0m\u001b[0m\n\u001b[0;32m    592\u001b[0m     \u001b[1;32mdef\u001b[0m \u001b[0mpartial_fit\u001b[0m\u001b[1;33m(\u001b[0m\u001b[0mself\u001b[0m\u001b[1;33m,\u001b[0m \u001b[0mX\u001b[0m\u001b[1;33m,\u001b[0m \u001b[0my\u001b[0m\u001b[1;33m=\u001b[0m\u001b[1;32mNone\u001b[0m\u001b[1;33m)\u001b[0m\u001b[1;33m:\u001b[0m\u001b[1;33m\u001b[0m\u001b[0m\n",
      "\u001b[1;32m~\\Anaconda3\\lib\\site-packages\\sklearn\\preprocessing\\data.py\u001b[0m in \u001b[0;36mpartial_fit\u001b[1;34m(self, X, y)\u001b[0m\n\u001b[0;32m    610\u001b[0m         \"\"\"\n\u001b[0;32m    611\u001b[0m         X = check_array(X, accept_sparse=('csr', 'csc'), copy=self.copy,\n\u001b[1;32m--> 612\u001b[1;33m                         warn_on_dtype=True, estimator=self, dtype=FLOAT_DTYPES)\n\u001b[0m\u001b[0;32m    613\u001b[0m \u001b[1;33m\u001b[0m\u001b[0m\n\u001b[0;32m    614\u001b[0m         \u001b[1;31m# Even in the case of `with_mean=False`, we update the mean anyway\u001b[0m\u001b[1;33m\u001b[0m\u001b[1;33m\u001b[0m\u001b[0m\n",
      "\u001b[1;32m~\\Anaconda3\\lib\\site-packages\\sklearn\\utils\\validation.py\u001b[0m in \u001b[0;36mcheck_array\u001b[1;34m(array, accept_sparse, dtype, order, copy, force_all_finite, ensure_2d, allow_nd, ensure_min_samples, ensure_min_features, warn_on_dtype, estimator)\u001b[0m\n\u001b[0;32m    431\u001b[0m                                       force_all_finite)\n\u001b[0;32m    432\u001b[0m     \u001b[1;32melse\u001b[0m\u001b[1;33m:\u001b[0m\u001b[1;33m\u001b[0m\u001b[0m\n\u001b[1;32m--> 433\u001b[1;33m         \u001b[0marray\u001b[0m \u001b[1;33m=\u001b[0m \u001b[0mnp\u001b[0m\u001b[1;33m.\u001b[0m\u001b[0marray\u001b[0m\u001b[1;33m(\u001b[0m\u001b[0marray\u001b[0m\u001b[1;33m,\u001b[0m \u001b[0mdtype\u001b[0m\u001b[1;33m=\u001b[0m\u001b[0mdtype\u001b[0m\u001b[1;33m,\u001b[0m \u001b[0morder\u001b[0m\u001b[1;33m=\u001b[0m\u001b[0morder\u001b[0m\u001b[1;33m,\u001b[0m \u001b[0mcopy\u001b[0m\u001b[1;33m=\u001b[0m\u001b[0mcopy\u001b[0m\u001b[1;33m)\u001b[0m\u001b[1;33m\u001b[0m\u001b[0m\n\u001b[0m\u001b[0;32m    434\u001b[0m \u001b[1;33m\u001b[0m\u001b[0m\n\u001b[0;32m    435\u001b[0m         \u001b[1;32mif\u001b[0m \u001b[0mensure_2d\u001b[0m\u001b[1;33m:\u001b[0m\u001b[1;33m\u001b[0m\u001b[0m\n",
      "\u001b[1;31mValueError\u001b[0m: could not convert string to float: 'M'"
     ]
    }
   ],
   "source": [
    "import warnings\n",
    "\n",
    "# Standardize the dataset\n",
    "pipelines = []\n",
    "\n",
    "pipelines.append(('ScaledCART', Pipeline([('Scaler', StandardScaler()),('CART',DecisionTreeClassifier())])))\n",
    "pipelines.append(('ScaledSVM', Pipeline([('Scaler', StandardScaler()),('SVM', SVC( ))])))\n",
    "pipelines.append(('ScaledNB', Pipeline([('Scaler', StandardScaler()),('NB',GaussianNB())])))\n",
    "pipelines.append(('ScaledKNN', Pipeline([('Scaler', StandardScaler()),('KNN',KNeighborsClassifier())])))\n",
    "results = []\n",
    "names = []\n",
    "with warnings.catch_warnings():\n",
    "    warnings.simplefilter(\"ignore\")\n",
    "    kfold = KFold(n_splits=num_folds, random_state=123)\n",
    "    for name, model in pipelines:\n",
    "        start = time.time()\n",
    "        cv_results = cross_val_score(model, X_train, Y_train, cv=kfold, scoring='accuracy')\n",
    "        end = time.time()\n",
    "        results.append(cv_results)\n",
    "        names.append(name)\n",
    "        print( \"%s: %f (%f) (run time: %f)\" % (name, cv_results.mean(), cv_results.std(), end-start))"
   ]
  },
  {
   "cell_type": "code",
   "execution_count": 14,
   "metadata": {},
   "outputs": [
    {
     "data": {
      "image/png": "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\n",
      "text/plain": [
       "<Figure size 432x288 with 1 Axes>"
      ]
     },
     "metadata": {},
     "output_type": "display_data"
    }
   ],
   "source": [
    "fig = plt.figure()\n",
    "fig.suptitle('Performance Comparison')\n",
    "ax = fig.add_subplot(111)\n",
    "plt.boxplot(results)\n",
    "ax.set_xticklabels(names)\n",
    "plt.show()"
   ]
  },
  {
   "cell_type": "markdown",
   "metadata": {},
   "source": [
    "Notice the drastic improvement of SVM after using scaled data.\n",
    "\n",
    "Next, we'll fine tune the performance of SVM by tuning the algorithm"
   ]
  },
  {
   "cell_type": "markdown",
   "metadata": {},
   "source": [
    "# Algorithm Tuning - Tuning SVM"
   ]
  },
  {
   "cell_type": "markdown",
   "metadata": {},
   "source": [
    "We will focus on SVM for the algorithm tuning. We can tune two key parameter of the SVM algorithm - the value of C and the type of kernel. The default C for SVM is 1.0 and the kernel is Radial Basis Function (RBF). We will use the grid search method using 10-fold cross-validation with a standardized copy of the sample training dataset. We will try over a combination of C values and the following kernel types 'linear', 'poly', 'rbf' and 'sigmoid"
   ]
  },
  {
   "cell_type": "code",
   "execution_count": 19,
   "metadata": {},
   "outputs": [
    {
     "ename": "ValueError",
     "evalue": "could not convert string to float: 'M'",
     "output_type": "error",
     "traceback": [
      "\u001b[1;31m---------------------------------------------------------------------------\u001b[0m",
      "\u001b[1;31mValueError\u001b[0m                                Traceback (most recent call last)",
      "\u001b[1;32m<ipython-input-19-b9841b575de9>\u001b[0m in \u001b[0;36m<module>\u001b[1;34m()\u001b[0m\n\u001b[1;32m----> 1\u001b[1;33m \u001b[0mscaler\u001b[0m \u001b[1;33m=\u001b[0m \u001b[0mStandardScaler\u001b[0m\u001b[1;33m(\u001b[0m\u001b[1;33m)\u001b[0m\u001b[1;33m.\u001b[0m\u001b[0mfit\u001b[0m\u001b[1;33m(\u001b[0m\u001b[0mX_train\u001b[0m\u001b[1;33m)\u001b[0m\u001b[1;33m\u001b[0m\u001b[0m\n\u001b[0m\u001b[0;32m      2\u001b[0m \u001b[0mrescaledX\u001b[0m \u001b[1;33m=\u001b[0m \u001b[0mscaler\u001b[0m\u001b[1;33m.\u001b[0m\u001b[0mtransform\u001b[0m\u001b[1;33m(\u001b[0m\u001b[0mX_train\u001b[0m\u001b[1;33m)\u001b[0m\u001b[1;33m\u001b[0m\u001b[0m\n\u001b[0;32m      3\u001b[0m \u001b[0mc_values\u001b[0m \u001b[1;33m=\u001b[0m \u001b[1;33m[\u001b[0m\u001b[1;36m0.1\u001b[0m\u001b[1;33m,\u001b[0m \u001b[1;36m0.3\u001b[0m\u001b[1;33m,\u001b[0m \u001b[1;36m0.5\u001b[0m\u001b[1;33m,\u001b[0m \u001b[1;36m0.7\u001b[0m\u001b[1;33m,\u001b[0m \u001b[1;36m0.9\u001b[0m\u001b[1;33m,\u001b[0m \u001b[1;36m1.0\u001b[0m\u001b[1;33m,\u001b[0m \u001b[1;36m1.3\u001b[0m\u001b[1;33m,\u001b[0m \u001b[1;36m1.5\u001b[0m\u001b[1;33m,\u001b[0m \u001b[1;36m1.7\u001b[0m\u001b[1;33m,\u001b[0m \u001b[1;36m2.0\u001b[0m\u001b[1;33m]\u001b[0m\u001b[1;33m\u001b[0m\u001b[0m\n\u001b[0;32m      4\u001b[0m \u001b[0mkernel_values\u001b[0m \u001b[1;33m=\u001b[0m \u001b[1;33m[\u001b[0m\u001b[1;34m'linear'\u001b[0m\u001b[1;33m,\u001b[0m \u001b[1;34m'poly'\u001b[0m\u001b[1;33m,\u001b[0m \u001b[1;34m'rbf'\u001b[0m\u001b[1;33m,\u001b[0m \u001b[1;34m'sigmoid'\u001b[0m\u001b[1;33m]\u001b[0m\u001b[1;33m\u001b[0m\u001b[0m\n\u001b[0;32m      5\u001b[0m \u001b[0mparam_grid\u001b[0m \u001b[1;33m=\u001b[0m \u001b[0mdict\u001b[0m\u001b[1;33m(\u001b[0m\u001b[0mC\u001b[0m\u001b[1;33m=\u001b[0m\u001b[0mc_values\u001b[0m\u001b[1;33m,\u001b[0m \u001b[0mkernel\u001b[0m\u001b[1;33m=\u001b[0m\u001b[0mkernel_values\u001b[0m\u001b[1;33m)\u001b[0m\u001b[1;33m\u001b[0m\u001b[0m\n",
      "\u001b[1;32m~\\Anaconda3\\lib\\site-packages\\sklearn\\preprocessing\\data.py\u001b[0m in \u001b[0;36mfit\u001b[1;34m(self, X, y)\u001b[0m\n\u001b[0;32m    588\u001b[0m         \u001b[1;31m# Reset internal state before fitting\u001b[0m\u001b[1;33m\u001b[0m\u001b[1;33m\u001b[0m\u001b[0m\n\u001b[0;32m    589\u001b[0m         \u001b[0mself\u001b[0m\u001b[1;33m.\u001b[0m\u001b[0m_reset\u001b[0m\u001b[1;33m(\u001b[0m\u001b[1;33m)\u001b[0m\u001b[1;33m\u001b[0m\u001b[0m\n\u001b[1;32m--> 590\u001b[1;33m         \u001b[1;32mreturn\u001b[0m \u001b[0mself\u001b[0m\u001b[1;33m.\u001b[0m\u001b[0mpartial_fit\u001b[0m\u001b[1;33m(\u001b[0m\u001b[0mX\u001b[0m\u001b[1;33m,\u001b[0m \u001b[0my\u001b[0m\u001b[1;33m)\u001b[0m\u001b[1;33m\u001b[0m\u001b[0m\n\u001b[0m\u001b[0;32m    591\u001b[0m \u001b[1;33m\u001b[0m\u001b[0m\n\u001b[0;32m    592\u001b[0m     \u001b[1;32mdef\u001b[0m \u001b[0mpartial_fit\u001b[0m\u001b[1;33m(\u001b[0m\u001b[0mself\u001b[0m\u001b[1;33m,\u001b[0m \u001b[0mX\u001b[0m\u001b[1;33m,\u001b[0m \u001b[0my\u001b[0m\u001b[1;33m=\u001b[0m\u001b[1;32mNone\u001b[0m\u001b[1;33m)\u001b[0m\u001b[1;33m:\u001b[0m\u001b[1;33m\u001b[0m\u001b[0m\n",
      "\u001b[1;32m~\\Anaconda3\\lib\\site-packages\\sklearn\\preprocessing\\data.py\u001b[0m in \u001b[0;36mpartial_fit\u001b[1;34m(self, X, y)\u001b[0m\n\u001b[0;32m    610\u001b[0m         \"\"\"\n\u001b[0;32m    611\u001b[0m         X = check_array(X, accept_sparse=('csr', 'csc'), copy=self.copy,\n\u001b[1;32m--> 612\u001b[1;33m                         warn_on_dtype=True, estimator=self, dtype=FLOAT_DTYPES)\n\u001b[0m\u001b[0;32m    613\u001b[0m \u001b[1;33m\u001b[0m\u001b[0m\n\u001b[0;32m    614\u001b[0m         \u001b[1;31m# Even in the case of `with_mean=False`, we update the mean anyway\u001b[0m\u001b[1;33m\u001b[0m\u001b[1;33m\u001b[0m\u001b[0m\n",
      "\u001b[1;32m~\\Anaconda3\\lib\\site-packages\\sklearn\\utils\\validation.py\u001b[0m in \u001b[0;36mcheck_array\u001b[1;34m(array, accept_sparse, dtype, order, copy, force_all_finite, ensure_2d, allow_nd, ensure_min_samples, ensure_min_features, warn_on_dtype, estimator)\u001b[0m\n\u001b[0;32m    431\u001b[0m                                       force_all_finite)\n\u001b[0;32m    432\u001b[0m     \u001b[1;32melse\u001b[0m\u001b[1;33m:\u001b[0m\u001b[1;33m\u001b[0m\u001b[0m\n\u001b[1;32m--> 433\u001b[1;33m         \u001b[0marray\u001b[0m \u001b[1;33m=\u001b[0m \u001b[0mnp\u001b[0m\u001b[1;33m.\u001b[0m\u001b[0marray\u001b[0m\u001b[1;33m(\u001b[0m\u001b[0marray\u001b[0m\u001b[1;33m,\u001b[0m \u001b[0mdtype\u001b[0m\u001b[1;33m=\u001b[0m\u001b[0mdtype\u001b[0m\u001b[1;33m,\u001b[0m \u001b[0morder\u001b[0m\u001b[1;33m=\u001b[0m\u001b[0morder\u001b[0m\u001b[1;33m,\u001b[0m \u001b[0mcopy\u001b[0m\u001b[1;33m=\u001b[0m\u001b[0mcopy\u001b[0m\u001b[1;33m)\u001b[0m\u001b[1;33m\u001b[0m\u001b[0m\n\u001b[0m\u001b[0;32m    434\u001b[0m \u001b[1;33m\u001b[0m\u001b[0m\n\u001b[0;32m    435\u001b[0m         \u001b[1;32mif\u001b[0m \u001b[0mensure_2d\u001b[0m\u001b[1;33m:\u001b[0m\u001b[1;33m\u001b[0m\u001b[0m\n",
      "\u001b[1;31mValueError\u001b[0m: could not convert string to float: 'M'"
     ]
    }
   ],
   "source": [
    "scaler = StandardScaler().fit(X_train)\n",
    "rescaledX = scaler.transform(X_train)\n",
    "c_values = [0.1, 0.3, 0.5, 0.7, 0.9, 1.0, 1.3, 1.5, 1.7, 2.0]\n",
    "kernel_values = ['linear', 'poly', 'rbf', 'sigmoid']\n",
    "param_grid = dict(C=c_values, kernel=kernel_values)\n",
    "model = SVC()\n",
    "kfold = KFold(n_splits=num_folds, random_state=21)\n",
    "grid = GridSearchCV(estimator=model, param_grid=param_grid, scoring='accuracy', cv=kfold)\n",
    "grid_result = grid.fit(rescaledX, Y_train)\n",
    "print(\"Best: %f using %s\" % (grid_result.best_score_, grid_result.best_params_))\n",
    "means = grid_result.cv_results_['mean_test_score']\n",
    "stds = grid_result.cv_results_['std_test_score']\n",
    "params = grid_result.cv_results_['params']\n",
    "for mean, stdev, param in zip(means, stds, params):\n",
    "    print(\"%f (%f) with: %r\" % (mean, stdev, param))"
   ]
  },
  {
   "cell_type": "markdown",
   "metadata": {},
   "source": [
    "e can see the most accurate configuration was SVM with an RBF kernel and C=1.5, with the accuracy of 96.92%"
   ]
  },
  {
   "cell_type": "markdown",
   "metadata": {},
   "source": [
    "# Application of SVC on dataset"
   ]
  },
  {
   "cell_type": "markdown",
   "metadata": {},
   "source": [
    "Let's fit the SVM to the dataset and see how it performs given the test data."
   ]
  },
  {
   "cell_type": "code",
   "execution_count": 16,
   "metadata": {},
   "outputs": [
    {
     "ename": "ValueError",
     "evalue": "could not convert string to float: 'M'",
     "output_type": "error",
     "traceback": [
      "\u001b[1;31m---------------------------------------------------------------------------\u001b[0m",
      "\u001b[1;31mValueError\u001b[0m                                Traceback (most recent call last)",
      "\u001b[1;32m<ipython-input-16-d0a71b841502>\u001b[0m in \u001b[0;36m<module>\u001b[1;34m()\u001b[0m\n\u001b[0;32m      2\u001b[0m \u001b[1;32mwith\u001b[0m \u001b[0mwarnings\u001b[0m\u001b[1;33m.\u001b[0m\u001b[0mcatch_warnings\u001b[0m\u001b[1;33m(\u001b[0m\u001b[1;33m)\u001b[0m\u001b[1;33m:\u001b[0m\u001b[1;33m\u001b[0m\u001b[0m\n\u001b[0;32m      3\u001b[0m     \u001b[0mwarnings\u001b[0m\u001b[1;33m.\u001b[0m\u001b[0msimplefilter\u001b[0m\u001b[1;33m(\u001b[0m\u001b[1;34m\"ignore\"\u001b[0m\u001b[1;33m)\u001b[0m\u001b[1;33m\u001b[0m\u001b[0m\n\u001b[1;32m----> 4\u001b[1;33m     \u001b[0mscaler\u001b[0m \u001b[1;33m=\u001b[0m \u001b[0mStandardScaler\u001b[0m\u001b[1;33m(\u001b[0m\u001b[1;33m)\u001b[0m\u001b[1;33m.\u001b[0m\u001b[0mfit\u001b[0m\u001b[1;33m(\u001b[0m\u001b[0mX_train\u001b[0m\u001b[1;33m)\u001b[0m\u001b[1;33m\u001b[0m\u001b[0m\n\u001b[0m\u001b[0;32m      5\u001b[0m \u001b[0mX_train_scaled\u001b[0m \u001b[1;33m=\u001b[0m \u001b[0mscaler\u001b[0m\u001b[1;33m.\u001b[0m\u001b[0mtransform\u001b[0m\u001b[1;33m(\u001b[0m\u001b[0mX_train\u001b[0m\u001b[1;33m)\u001b[0m\u001b[1;33m\u001b[0m\u001b[0m\n\u001b[0;32m      6\u001b[0m \u001b[0mmodel\u001b[0m \u001b[1;33m=\u001b[0m \u001b[0mSVC\u001b[0m\u001b[1;33m(\u001b[0m\u001b[0mC\u001b[0m\u001b[1;33m=\u001b[0m\u001b[1;36m2.0\u001b[0m\u001b[1;33m,\u001b[0m \u001b[0mkernel\u001b[0m\u001b[1;33m=\u001b[0m\u001b[1;34m'rbf'\u001b[0m\u001b[1;33m)\u001b[0m\u001b[1;33m\u001b[0m\u001b[0m\n",
      "\u001b[1;32m~\\Anaconda3\\lib\\site-packages\\sklearn\\preprocessing\\data.py\u001b[0m in \u001b[0;36mfit\u001b[1;34m(self, X, y)\u001b[0m\n\u001b[0;32m    588\u001b[0m         \u001b[1;31m# Reset internal state before fitting\u001b[0m\u001b[1;33m\u001b[0m\u001b[1;33m\u001b[0m\u001b[0m\n\u001b[0;32m    589\u001b[0m         \u001b[0mself\u001b[0m\u001b[1;33m.\u001b[0m\u001b[0m_reset\u001b[0m\u001b[1;33m(\u001b[0m\u001b[1;33m)\u001b[0m\u001b[1;33m\u001b[0m\u001b[0m\n\u001b[1;32m--> 590\u001b[1;33m         \u001b[1;32mreturn\u001b[0m \u001b[0mself\u001b[0m\u001b[1;33m.\u001b[0m\u001b[0mpartial_fit\u001b[0m\u001b[1;33m(\u001b[0m\u001b[0mX\u001b[0m\u001b[1;33m,\u001b[0m \u001b[0my\u001b[0m\u001b[1;33m)\u001b[0m\u001b[1;33m\u001b[0m\u001b[0m\n\u001b[0m\u001b[0;32m    591\u001b[0m \u001b[1;33m\u001b[0m\u001b[0m\n\u001b[0;32m    592\u001b[0m     \u001b[1;32mdef\u001b[0m \u001b[0mpartial_fit\u001b[0m\u001b[1;33m(\u001b[0m\u001b[0mself\u001b[0m\u001b[1;33m,\u001b[0m \u001b[0mX\u001b[0m\u001b[1;33m,\u001b[0m \u001b[0my\u001b[0m\u001b[1;33m=\u001b[0m\u001b[1;32mNone\u001b[0m\u001b[1;33m)\u001b[0m\u001b[1;33m:\u001b[0m\u001b[1;33m\u001b[0m\u001b[0m\n",
      "\u001b[1;32m~\\Anaconda3\\lib\\site-packages\\sklearn\\preprocessing\\data.py\u001b[0m in \u001b[0;36mpartial_fit\u001b[1;34m(self, X, y)\u001b[0m\n\u001b[0;32m    610\u001b[0m         \"\"\"\n\u001b[0;32m    611\u001b[0m         X = check_array(X, accept_sparse=('csr', 'csc'), copy=self.copy,\n\u001b[1;32m--> 612\u001b[1;33m                         warn_on_dtype=True, estimator=self, dtype=FLOAT_DTYPES)\n\u001b[0m\u001b[0;32m    613\u001b[0m \u001b[1;33m\u001b[0m\u001b[0m\n\u001b[0;32m    614\u001b[0m         \u001b[1;31m# Even in the case of `with_mean=False`, we update the mean anyway\u001b[0m\u001b[1;33m\u001b[0m\u001b[1;33m\u001b[0m\u001b[0m\n",
      "\u001b[1;32m~\\Anaconda3\\lib\\site-packages\\sklearn\\utils\\validation.py\u001b[0m in \u001b[0;36mcheck_array\u001b[1;34m(array, accept_sparse, dtype, order, copy, force_all_finite, ensure_2d, allow_nd, ensure_min_samples, ensure_min_features, warn_on_dtype, estimator)\u001b[0m\n\u001b[0;32m    431\u001b[0m                                       force_all_finite)\n\u001b[0;32m    432\u001b[0m     \u001b[1;32melse\u001b[0m\u001b[1;33m:\u001b[0m\u001b[1;33m\u001b[0m\u001b[0m\n\u001b[1;32m--> 433\u001b[1;33m         \u001b[0marray\u001b[0m \u001b[1;33m=\u001b[0m \u001b[0mnp\u001b[0m\u001b[1;33m.\u001b[0m\u001b[0marray\u001b[0m\u001b[1;33m(\u001b[0m\u001b[0marray\u001b[0m\u001b[1;33m,\u001b[0m \u001b[0mdtype\u001b[0m\u001b[1;33m=\u001b[0m\u001b[0mdtype\u001b[0m\u001b[1;33m,\u001b[0m \u001b[0morder\u001b[0m\u001b[1;33m=\u001b[0m\u001b[0morder\u001b[0m\u001b[1;33m,\u001b[0m \u001b[0mcopy\u001b[0m\u001b[1;33m=\u001b[0m\u001b[0mcopy\u001b[0m\u001b[1;33m)\u001b[0m\u001b[1;33m\u001b[0m\u001b[0m\n\u001b[0m\u001b[0;32m    434\u001b[0m \u001b[1;33m\u001b[0m\u001b[0m\n\u001b[0;32m    435\u001b[0m         \u001b[1;32mif\u001b[0m \u001b[0mensure_2d\u001b[0m\u001b[1;33m:\u001b[0m\u001b[1;33m\u001b[0m\u001b[0m\n",
      "\u001b[1;31mValueError\u001b[0m: could not convert string to float: 'M'"
     ]
    }
   ],
   "source": [
    "# prepare the model\n",
    "with warnings.catch_warnings():\n",
    "    warnings.simplefilter(\"ignore\")\n",
    "    scaler = StandardScaler().fit(X_train)\n",
    "X_train_scaled = scaler.transform(X_train)\n",
    "model = SVC(C=2.0, kernel='rbf')\n",
    "start = time.time()\n",
    "model.fit(X_train_scaled, Y_train)\n",
    "end = time.time()\n",
    "print( \"Run Time: %f\" % (end-start))"
   ]
  },
  {
   "cell_type": "code",
   "execution_count": 17,
   "metadata": {},
   "outputs": [
    {
     "ename": "NameError",
     "evalue": "name 'scaler' is not defined",
     "output_type": "error",
     "traceback": [
      "\u001b[1;31m---------------------------------------------------------------------------\u001b[0m",
      "\u001b[1;31mNameError\u001b[0m                                 Traceback (most recent call last)",
      "\u001b[1;32m<ipython-input-17-efc84fd733ce>\u001b[0m in \u001b[0;36m<module>\u001b[1;34m()\u001b[0m\n\u001b[0;32m      2\u001b[0m \u001b[1;32mwith\u001b[0m \u001b[0mwarnings\u001b[0m\u001b[1;33m.\u001b[0m\u001b[0mcatch_warnings\u001b[0m\u001b[1;33m(\u001b[0m\u001b[1;33m)\u001b[0m\u001b[1;33m:\u001b[0m\u001b[1;33m\u001b[0m\u001b[0m\n\u001b[0;32m      3\u001b[0m     \u001b[0mwarnings\u001b[0m\u001b[1;33m.\u001b[0m\u001b[0msimplefilter\u001b[0m\u001b[1;33m(\u001b[0m\u001b[1;34m\"ignore\"\u001b[0m\u001b[1;33m)\u001b[0m\u001b[1;33m\u001b[0m\u001b[0m\n\u001b[1;32m----> 4\u001b[1;33m     \u001b[0mX_test_scaled\u001b[0m \u001b[1;33m=\u001b[0m \u001b[0mscaler\u001b[0m\u001b[1;33m.\u001b[0m\u001b[0mtransform\u001b[0m\u001b[1;33m(\u001b[0m\u001b[0mX_test\u001b[0m\u001b[1;33m)\u001b[0m\u001b[1;33m\u001b[0m\u001b[0m\n\u001b[0m\u001b[0;32m      5\u001b[0m     \u001b[0mpredictions\u001b[0m \u001b[1;33m=\u001b[0m \u001b[0mmodel\u001b[0m\u001b[1;33m.\u001b[0m\u001b[0mpredict\u001b[0m\u001b[1;33m(\u001b[0m\u001b[0mX_test_scaled\u001b[0m\u001b[1;33m)\u001b[0m\u001b[1;33m\u001b[0m\u001b[0m\n",
      "\u001b[1;31mNameError\u001b[0m: name 'scaler' is not defined"
     ]
    }
   ],
   "source": [
    "# estimate accuracy on test dataset\n",
    "with warnings.catch_warnings():\n",
    "    warnings.simplefilter(\"ignore\")\n",
    "    X_test_scaled = scaler.transform(X_test)\n",
    "    predictions = model.predict(X_test_scaled)"
   ]
  },
  {
   "cell_type": "code",
   "execution_count": 18,
   "metadata": {},
   "outputs": [
    {
     "ename": "NameError",
     "evalue": "name 'predictions' is not defined",
     "output_type": "error",
     "traceback": [
      "\u001b[1;31m---------------------------------------------------------------------------\u001b[0m",
      "\u001b[1;31mNameError\u001b[0m                                 Traceback (most recent call last)",
      "\u001b[1;32m<ipython-input-18-cce04da0a59a>\u001b[0m in \u001b[0;36m<module>\u001b[1;34m()\u001b[0m\n\u001b[1;32m----> 1\u001b[1;33m \u001b[0mprint\u001b[0m\u001b[1;33m(\u001b[0m\u001b[1;34m\"Accuracy score %f\"\u001b[0m \u001b[1;33m%\u001b[0m \u001b[0maccuracy_score\u001b[0m\u001b[1;33m(\u001b[0m\u001b[0mY_test\u001b[0m\u001b[1;33m,\u001b[0m \u001b[0mpredictions\u001b[0m\u001b[1;33m)\u001b[0m\u001b[1;33m)\u001b[0m\u001b[1;33m\u001b[0m\u001b[0m\n\u001b[0m\u001b[0;32m      2\u001b[0m \u001b[0mprint\u001b[0m\u001b[1;33m(\u001b[0m\u001b[0mclassification_report\u001b[0m\u001b[1;33m(\u001b[0m\u001b[0mY_test\u001b[0m\u001b[1;33m,\u001b[0m \u001b[0mpredictions\u001b[0m\u001b[1;33m)\u001b[0m\u001b[1;33m)\u001b[0m\u001b[1;33m\u001b[0m\u001b[0m\n",
      "\u001b[1;31mNameError\u001b[0m: name 'predictions' is not defined"
     ]
    }
   ],
   "source": [
    "print(\"Accuracy score %f\" % accuracy_score(Y_test, predictions))\n",
    "print(classification_report(Y_test, predictions))"
   ]
  },
  {
   "cell_type": "code",
   "execution_count": 77,
   "metadata": {},
   "outputs": [
    {
     "ename": "NameError",
     "evalue": "name 'predictions' is not defined",
     "output_type": "error",
     "traceback": [
      "\u001b[1;31m---------------------------------------------------------------------------\u001b[0m",
      "\u001b[1;31mNameError\u001b[0m                                 Traceback (most recent call last)",
      "\u001b[1;32m<ipython-input-77-d0a513ec30c8>\u001b[0m in \u001b[0;36m<module>\u001b[1;34m()\u001b[0m\n\u001b[1;32m----> 1\u001b[1;33m \u001b[0mprint\u001b[0m\u001b[1;33m(\u001b[0m\u001b[0mconfusion_matrix\u001b[0m\u001b[1;33m(\u001b[0m\u001b[0mY_test\u001b[0m\u001b[1;33m,\u001b[0m \u001b[0mpredictions\u001b[0m\u001b[1;33m)\u001b[0m\u001b[1;33m)\u001b[0m\u001b[1;33m\u001b[0m\u001b[0m\n\u001b[0m",
      "\u001b[1;31mNameError\u001b[0m: name 'predictions' is not defined"
     ]
    }
   ],
   "source": [
    "print(confusion_matrix(Y_test, predictions))"
   ]
  },
  {
   "cell_type": "code",
   "execution_count": null,
   "metadata": {},
   "outputs": [],
   "source": []
  }
 ],
 "metadata": {
  "kernelspec": {
   "display_name": "Python 3",
   "language": "python",
   "name": "python3"
  },
  "language_info": {
   "codemirror_mode": {
    "name": "ipython",
    "version": 3
   },
   "file_extension": ".py",
   "mimetype": "text/x-python",
   "name": "python",
   "nbconvert_exporter": "python",
   "pygments_lexer": "ipython3",
   "version": "3.6.5"
  }
 },
 "nbformat": 4,
 "nbformat_minor": 2
}
